{
 "cells": [
  {
   "cell_type": "markdown",
   "id": "e0a23c41",
   "metadata": {},
   "source": [
    "### Environment\n",
    "#### scEnv\n",
    "This env works to generate new Umaps\n",
    "\n",
    "anndata==0.8.0\n",
    "annoy==1.17.0\n",
    "argon2-cffi @ file:///opt/conda/conda-bld/argon2-cffi_1645000214183/work\n",
    "argon2-cffi-bindings @ file:///tmp/build/80754af9/argon2-cffi-bindings_1644569684262/work\n",
    "asttokens @ file:///opt/conda/conda-bld/asttokens_1646925590279/work\n",
    "attrs @ file:///opt/conda/conda-bld/attrs_1642510447205/work\n",
    "backcall @ file:///home/ktietz/src/ci/backcall_1611930011877/work\n",
    "bbknn==1.5.1\n",
    "bleach @ file:///opt/conda/conda-bld/bleach_1641577558959/work\n",
    "certifi==2021.10.8\n",
    "cffi @ file:///opt/conda/conda-bld/cffi_1642701102775/work\n",
    "cloudpickle==2.0.0\n",
    "cycler @ file:///tmp/build/80754af9/cycler_1637851556182/work\n",
    "Cython==0.29.28\n",
    "dask==2022.4.0\n",
    "debugpy @ file:///tmp/build/80754af9/debugpy_1637091796427/work\n",
    "decorator @ file:///opt/conda/conda-bld/decorator_1643638310831/work\n",
    "defusedxml @ file:///tmp/build/80754af9/defusedxml_1615228127516/work\n",
    "entrypoints==0.3\n",
    "executing @ file:///opt/conda/conda-bld/executing_1646925071911/work\n",
    "fonttools==4.25.0\n",
    "fsspec==2022.3.0\n",
    "h5py==3.6.0\n",
    "importlib-metadata @ file:///tmp/build/80754af9/importlib-metadata_1648562408398/work\n",
    "ipykernel @ file:///tmp/build/80754af9/ipykernel_1646982648551/work/dist/ipykernel-6.9.1-py3-none-any.whl\n",
    "ipython @ file:///opt/conda/conda-bld/ipython_1646949508755/work\n",
    "ipython-genutils @ file:///tmp/build/80754af9/ipython_genutils_1606773439826/work\n",
    "ipywidgets @ file:///tmp/build/80754af9/ipywidgets_1634143127070/work\n",
    "jedi @ file:///tmp/build/80754af9/jedi_1644315233700/work\n",
    "Jinja2 @ file:///opt/conda/conda-bld/jinja2_1647436528585/work\n",
    "joblib==1.1.0\n",
    "jsonschema @ file:///Users/ktietz/demo/mc3/conda-bld/jsonschema_1630511932244/work\n",
    "jupyter==1.0.0\n",
    "jupyter-client @ file:///opt/conda/conda-bld/jupyter_client_1643638337975/work\n",
    "jupyter-console @ file:///opt/conda/conda-bld/jupyter_console_1647002188872/work\n",
    "jupyter-core @ file:///tmp/build/80754af9/jupyter_core_1646994441805/work\n",
    "jupyterlab-pygments @ file:///tmp/build/80754af9/jupyterlab_pygments_1601490720602/work\n",
    "jupyterlab-widgets @ file:///tmp/build/80754af9/jupyterlab_widgets_1609884341231/work\n",
    "kiwisolver @ file:///opt/conda/conda-bld/kiwisolver_1638569886207/work\n",
    "llvmlite==0.38.0\n",
    "locket==0.2.1\n",
    "MarkupSafe @ file:///tmp/build/80754af9/markupsafe_1621528148836/work\n",
    "matplotlib @ file:///tmp/build/80754af9/matplotlib-suite_1647441664166/work\n",
    "matplotlib-inline @ file:///tmp/build/80754af9/matplotlib-inline_1628242447089/work\n",
    "mistune==0.8.4\n",
    "mkl-fft==1.3.1\n",
    "mkl-random @ file:///tmp/build/80754af9/mkl_random_1626186064646/work\n",
    "mkl-service==2.4.0\n",
    "munkres==1.1.4\n",
    "natsort==8.1.0\n",
    "nbclient @ file:///tmp/build/80754af9/nbclient_1645431659072/work\n",
    "nbconvert @ file:///opt/conda/conda-bld/nbconvert_1641309195684/work\n",
    "nbformat @ file:///tmp/build/80754af9/nbformat_1617383369282/work\n",
    "nest-asyncio @ file:///tmp/build/80754af9/nest-asyncio_1613680548246/work\n",
    "networkx==2.7.1\n",
    "notebook @ file:///tmp/build/80754af9/notebook_1645002536250/work\n",
    "numba==0.55.1\n",
    "numpy @ file:///tmp/build/80754af9/numpy_and_numpy_base_1634095647912/work\n",
    "packaging @ file:///tmp/build/80754af9/packaging_1637314298585/work\n",
    "pandas==1.4.1\n",
    "pandocfilters @ file:///opt/conda/conda-bld/pandocfilters_1643405455980/work\n",
    "parso @ file:///opt/conda/conda-bld/parso_1641458642106/work\n",
    "partd==1.2.0\n",
    "patsy==0.5.2\n",
    "pexpect @ file:///tmp/build/80754af9/pexpect_1605563209008/work\n",
    "pickleshare @ file:///tmp/build/80754af9/pickleshare_1606932040724/work\n",
    "Pillow==9.0.1\n",
    "prometheus-client @ file:///opt/conda/conda-bld/prometheus_client_1643788673601/work\n",
    "prompt-toolkit @ file:///tmp/build/80754af9/prompt-toolkit_1633440160888/work\n",
    "ptyprocess @ file:///tmp/build/80754af9/ptyprocess_1609355006118/work/dist/ptyprocess-0.7.0-py2.py3-none-any.whl\n",
    "pure-eval @ file:///opt/conda/conda-bld/pure_eval_1646925070566/work\n",
    "pycparser @ file:///tmp/build/80754af9/pycparser_1636541352034/work\n",
    "Pygments @ file:///opt/conda/conda-bld/pygments_1644249106324/work\n",
    "pynndescent==0.5.6\n",
    "pyparsing @ file:///tmp/build/80754af9/pyparsing_1635766073266/work\n",
    "pyrsistent @ file:///tmp/build/80754af9/pyrsistent_1636110947380/work\n",
    "python-dateutil @ file:///tmp/build/80754af9/python-dateutil_1626374649649/work\n",
    "pytz==2022.1\n",
    "PyYAML==6.0\n",
    "pyzmq @ file:///tmp/build/80754af9/pyzmq_1638436375034/work\n",
    "qtconsole @ file:///opt/conda/conda-bld/qtconsole_1643819126524/work\n",
    "QtPy @ file:///opt/conda/conda-bld/qtpy_1643087291789/work\n",
    "scanpy==1.9.0\n",
    "scikit-learn==1.0.2\n",
    "scipy==1.8.0\n",
    "seaborn==0.11.2\n",
    "Send2Trash @ file:///tmp/build/80754af9/send2trash_1632406701022/work\n",
    "session-info==1.0.0\n",
    "sip==4.19.13\n",
    "six @ file:///tmp/build/80754af9/six_1644875935023/work\n",
    "stack-data @ file:///opt/conda/conda-bld/stack_data_1646927590127/work\n",
    "statsmodels==0.13.2\n",
    "stdlib-list==0.8.0\n",
    "terminado @ file:///tmp/build/80754af9/terminado_1644322581811/work\n",
    "testpath @ file:///tmp/build/80754af9/testpath_1624638946665/work\n",
    "threadpoolctl==3.1.0\n",
    "toolz==0.11.2\n",
    "tornado @ file:///tmp/build/80754af9/tornado_1606942300299/work\n",
    "tqdm==4.63.1\n",
    "traitlets @ file:///tmp/build/80754af9/traitlets_1636710298902/work\n",
    "typing_extensions @ file:///opt/conda/conda-bld/typing_extensions_1647553014482/work\n",
    "umap-learn==0.5.2\n",
    "wcwidth @ file:///Users/ktietz/demo/mc3/conda-bld/wcwidth_1629357192024/work\n",
    "webencodings==0.5.1\n",
    "widgetsnbextension @ file:///tmp/build/80754af9/widgetsnbextension_1645009353553/work\n",
    "zipp @ file:///opt/conda/conda-bld/zipp_1641824620731/work\n"
   ]
  },
  {
   "cell_type": "code",
   "execution_count": null,
   "id": "0ccee5fe",
   "metadata": {},
   "outputs": [],
   "source": [
    "import scanpy as sc\n",
    "import numpy as np\n",
    "import random\n",
    "import matplotlib.pyplot as plt\n",
    "import seaborn as sns\n",
    "import bbknn\n",
    "from scipy import sparse\n",
    "from matplotlib.pyplot import rc_context\n",
    "from matplotlib import cm\n",
    "from matplotlib.colors import ListedColormap, LinearSegmentedColormap"
   ]
  },
  {
   "cell_type": "code",
   "execution_count": null,
   "id": "d7025694",
   "metadata": {},
   "outputs": [],
   "source": [
    "RedsModified = cm.get_cmap('Reds', 12)\n",
    "RedsModified = cm.get_cmap('Reds', 256)\n",
    "newcolors = RedsModified(np.linspace(0, 1, 256))\n",
    "grey = np.array([220/256, 220/256, 220/256, 1])\n",
    "\n",
    "# Modify this val to change the \n",
    "# area that will be grey on the cmap\n",
    "lim = 10\n",
    "newcolors[:lim, :] = grey\n",
    "newcmp = ListedColormap(newcolors)"
   ]
  },
  {
   "cell_type": "code",
   "execution_count": null,
   "id": "c0170bad",
   "metadata": {},
   "outputs": [],
   "source": [
    "sc.__version__"
   ]
  },
  {
   "cell_type": "code",
   "execution_count": null,
   "id": "f12d0d3d",
   "metadata": {},
   "outputs": [],
   "source": [
    "def test_log1p(x): \n",
    "    return np.subtract(np.power(np.e, x), 1)\n",
    "\n",
    "def test_log1p_apply(array):\n",
    "    return np.apply_along_axis(test_log1p, 0, array)\n",
    "\n",
    "def test_log1p_countsnormalize(array):\n",
    "    return np.apply_along_axis(test_log1p, 0, array).sum()\n",
    "\n",
    "def test_random_log1p_countsnormalize(adata:'AnnData, AnnData.X == sparse'):\n",
    "    '''Will take an adata object, where the AnnData.X object\n",
    "    neeeds to be a sparse matrix'''\n",
    "    ind = random.randint(0, adata.shape[0])\n",
    "    t = adata.X[ind, :].toarray()\n",
    "    result = test_log1p_countsnormalize(t)\n",
    "    print(f'Testing: UMI index == {ind}')\n",
    "    print(f'Outcome: {result}')\n",
    "    return result"
   ]
  },
  {
   "cell_type": "code",
   "execution_count": null,
   "id": "5ba553e3",
   "metadata": {},
   "outputs": [],
   "source": [
    "data1 = '/proj/snic2020-16-54/ESCG_data/10X_19_ER_18_R57/10X_20_003/outs/filtered_feature_bc_matrix'\n",
    "data2 = '/proj/snic2020-16-54/ESCG_data/10X_19_ER_18_R57/10X_20_004/outs/filtered_feature_bc_matrix'"
   ]
  },
  {
   "cell_type": "code",
   "execution_count": null,
   "id": "49356db3",
   "metadata": {},
   "outputs": [],
   "source": [
    "p1 = \"/home/alirassolie/Documents/prwork/klinfys/adata_files/raw_data/003/\"\n",
    "p2 = \"/home/alirassolie/Documents/prwork/klinfys/adata_files/raw_data/004/\""
   ]
  },
  {
   "cell_type": "markdown",
   "id": "65e64097",
   "metadata": {},
   "source": [
    "### The deep that we used for the paper"
   ]
  },
  {
   "cell_type": "code",
   "execution_count": null,
   "id": "f08e4851",
   "metadata": {},
   "outputs": [],
   "source": [
    "deep = sc.read_h5ad(\"/home/alirassolie/Documents/arbete/mint_mobile/120521_adata_celltype_prevpost_and_markers\")"
   ]
  },
  {
   "cell_type": "markdown",
   "id": "833763ed",
   "metadata": {},
   "source": [
    "### The recalculated deep"
   ]
  },
  {
   "cell_type": "code",
   "execution_count": null,
   "id": "cb055938",
   "metadata": {},
   "outputs": [],
   "source": [
    "adata1 = sc.read_10x_mtx(\n",
    "    p1,                  # directory  `.mtx` file\n",
    "    var_names='gene_symbols',    # gene symbols for variable names\n",
    "    cache=True)                  # cache file for faster subsequent reading\n",
    "adata2 = sc.read_10x_mtx(\n",
    "    p2,        \n",
    "    var_names='gene_symbols',\n",
    "    cache=True)"
   ]
  },
  {
   "cell_type": "code",
   "execution_count": null,
   "id": "91f45b42",
   "metadata": {},
   "outputs": [],
   "source": [
    "adata1 = adata1[adata1.obs.index.isin(deep.obs.index.str.rstrip(\"-0\"))]"
   ]
  },
  {
   "cell_type": "code",
   "execution_count": null,
   "id": "0e902758",
   "metadata": {},
   "outputs": [],
   "source": [
    "adata2 = adata2[adata2.obs.index.isin(deep.obs.index.str.replace(\"-1-1\", \"-1\"))]"
   ]
  },
  {
   "cell_type": "code",
   "execution_count": null,
   "id": "46899b8d",
   "metadata": {},
   "outputs": [],
   "source": [
    "adata1.var_names_make_unique()    # unnecessary if `var_names='gene_ids'`\n",
    "adata2.var_names_make_unique() "
   ]
  },
  {
   "cell_type": "code",
   "execution_count": null,
   "id": "47489d2d",
   "metadata": {},
   "outputs": [],
   "source": [
    "adata3 = adata1.concatenate(adata2)"
   ]
  },
  {
   "cell_type": "code",
   "execution_count": null,
   "id": "36182b6c",
   "metadata": {},
   "outputs": [],
   "source": [
    "adata1.raw = adata1\n",
    "adata2.raw = adata2\n",
    "adata3.raw = adata3"
   ]
  },
  {
   "cell_type": "code",
   "execution_count": null,
   "id": "f1fe62c1",
   "metadata": {},
   "outputs": [],
   "source": [
    "var_names = adata2.var_names.intersection(adata1.var_names)\n",
    "adata1 = adata1[:, var_names]\n",
    "adata2 = adata2[:, var_names]\n",
    "adata3 = adata3[:, var_names]"
   ]
  },
  {
   "cell_type": "code",
   "execution_count": null,
   "id": "c8ac7202",
   "metadata": {},
   "outputs": [],
   "source": [
    "# for adata1\n",
    "sc.pp.filter_genes(adata1, min_cells=20)\n",
    "sc.pp.filter_cells(adata1, min_genes=200)\n",
    "\n",
    "# for adata2\n",
    "sc.pp.filter_genes(adata2, min_cells=20)\n",
    "sc.pp.filter_cells(adata2, min_genes=200)\n",
    "\n",
    "# for adata3\n",
    "sc.pp.filter_genes(adata3, min_cells=20)\n",
    "sc.pp.filter_cells(adata3, min_genes=200)"
   ]
  },
  {
   "cell_type": "code",
   "execution_count": null,
   "id": "065e396a",
   "metadata": {},
   "outputs": [],
   "source": [
    "mito_genes1 = adata1.var.index.str.startswith('MT-')\n",
    "mito_genes2 = adata2.var.index.str.startswith('MT-')\n",
    "mito_genes3 = adata3.var.index.str.startswith('MT-')"
   ]
  },
  {
   "cell_type": "code",
   "execution_count": null,
   "id": "5b9f9676",
   "metadata": {},
   "outputs": [],
   "source": [
    "# for each cell compute fraction of counts in mito genes vs. all genes\n",
    "# the `.A1` is only necessary as X is sparse (to transform to a dense array after summing)\n",
    "adata1.obs['percent_mito'] = np.sum(\n",
    "    adata1[:, mito_genes1].X, axis=1).A1 / np.sum(adata1.X, axis=1).A1\n",
    "adata2.obs['percent_mito'] = np.sum(\n",
    "    adata2[:, mito_genes2].X, axis=1).A1 / np.sum(adata2.X, axis=1).A1\n",
    "adata3.obs['percent_mito'] = np.sum(\n",
    "    adata3[:, mito_genes3].X, axis=1).A1 / np.sum(adata3.X, axis=1).A1\n",
    "\n",
    "# add the total counts per cell as observations-annotation to adata\n",
    "adata1.obs['n_counts'] = adata1.X.sum(axis=1).A1\n",
    "adata2.obs['n_counts'] = adata2.X.sum(axis=1).A1\n",
    "adata3.obs['n_counts'] = adata3.X.sum(axis=1).A1"
   ]
  },
  {
   "cell_type": "code",
   "execution_count": null,
   "id": "36cc7f2e",
   "metadata": {},
   "outputs": [],
   "source": [
    "adata1 = adata1[(adata1.obs['n_genes'] <= 3000) & (adata1.obs['percent_mito'] <= 0.15)]\n",
    "adata2 = adata2[(adata2.obs['n_genes'] <= 3000) & (adata2.obs['percent_mito'] <= 0.15)]\n",
    "adata3 = adata3[(adata3.obs['n_genes'] <= 3000) & (adata3.obs['percent_mito'] <= 0.15)]\n"
   ]
  },
  {
   "cell_type": "code",
   "execution_count": null,
   "id": "60a564c9",
   "metadata": {},
   "outputs": [],
   "source": [
    "sc.pp.normalize_total(adata1, target_sum=1e4)\n",
    "sc.pp.normalize_total(adata2, target_sum=1e4)\n",
    "sc.pp.normalize_total(adata3, target_sum=1e4)\n",
    "sc.pp.log1p(adata1)\n",
    "sc.pp.log1p(adata2)\n",
    "sc.pp.log1p(adata3) # log_e(1+x)"
   ]
  },
  {
   "cell_type": "code",
   "execution_count": null,
   "id": "d27c3e78",
   "metadata": {},
   "outputs": [],
   "source": [
    "sc.pp.highly_variable_genes(adata1, min_mean=0.0125, max_mean=3, min_disp=0.5, n_bins=20,  n_top_genes=2000)\n",
    "sc.pp.highly_variable_genes(adata2, min_mean=0.0125, max_mean=3, min_disp=0.5, n_bins=20,  n_top_genes=2000)\n",
    "sc.pp.highly_variable_genes(adata3, min_mean=0.0125, max_mean=3, min_disp=0.5, n_bins=20, batch_key='batch', n_top_genes=2000)\n",
    "\n",
    "sc.pl.highly_variable_genes(adata1)#, save=f\"{projID}_high_variable_{n1}.png\")\n",
    "sc.pl.highly_variable_genes(adata2)#, save=f\"{projID}_high_variable_{n2}.png\")\n",
    "sc.pl.highly_variable_genes(adata3)#, save=f\"{projID}_high_variable_{n3}.png\")"
   ]
  },
  {
   "cell_type": "code",
   "execution_count": null,
   "id": "3e1dbe25",
   "metadata": {},
   "outputs": [],
   "source": [
    "adataVar1 = adata1[:, adata1.var.highly_variable]\n",
    "adataVar2 = adata2[:, adata2.var.highly_variable]\n",
    "adataVar3 = adata3[:, adata3.var.highly_variable] # has fewer genes than pre"
   ]
  },
  {
   "cell_type": "code",
   "execution_count": null,
   "id": "5392941d",
   "metadata": {},
   "outputs": [],
   "source": [
    "sc.pp.scale(adataVar1, max_value=10) \n",
    "sc.pp.scale(adataVar2, max_value=10)\n",
    "sc.pp.scale(adataVar3, max_value=10)\n",
    "\n",
    "# The main question if the original adata \n",
    "# objects are supposed to be scaled and PCAd\n",
    "# and neighboured. \n",
    "sc.pp.scale(adata1, max_value=10) \n",
    "sc.pp.scale(adata2, max_value=10)\n",
    "sc.pp.scale(adata3, max_value=10)\n"
   ]
  },
  {
   "cell_type": "code",
   "execution_count": null,
   "id": "520aebe2",
   "metadata": {},
   "outputs": [],
   "source": [
    "sc.tl.pca(adata1, svd_solver='arpack')\n",
    "sc.tl.pca(adata2, svd_solver='arpack')\n",
    "sc.tl.pca(adata3, svd_solver='arpack')\n",
    "\n",
    "sc.tl.pca(adataVar1, svd_solver='arpack')\n",
    "sc.tl.pca(adataVar2, svd_solver='arpack')\n",
    "sc.tl.pca(adataVar3, svd_solver='arpack')"
   ]
  },
  {
   "cell_type": "code",
   "execution_count": null,
   "id": "327c45b1",
   "metadata": {},
   "outputs": [],
   "source": [
    "sc.pp.neighbors(adataVar1, n_neighbors=10, n_pcs=7)\n",
    "sc.pp.neighbors(adataVar2, n_neighbors=10, n_pcs=7)\n",
    "sc.pp.neighbors(adata1, n_neighbors=10, n_pcs=7)\n",
    "sc.pp.neighbors(adata2, n_neighbors=10, n_pcs=7)"
   ]
  },
  {
   "cell_type": "code",
   "execution_count": null,
   "id": "9c310aa6",
   "metadata": {},
   "outputs": [],
   "source": [
    "sc.pp.neighbors(adataVar3, n_neighbors=15, n_pcs=7)"
   ]
  },
  {
   "cell_type": "code",
   "execution_count": null,
   "id": "38d08744",
   "metadata": {},
   "outputs": [],
   "source": [
    "bbknn.bbknn(adataVar3, batch_key=\"batch\")"
   ]
  },
  {
   "cell_type": "code",
   "execution_count": null,
   "id": "2248ed8e",
   "metadata": {},
   "outputs": [],
   "source": [
    "sc.tl.umap(adataVar1)\n",
    "sc.tl.umap(adataVar2)\n",
    "sc.tl.umap(adataVar3)"
   ]
  },
  {
   "cell_type": "code",
   "execution_count": null,
   "id": "b6e6730c",
   "metadata": {
    "scrolled": false
   },
   "outputs": [],
   "source": [
    "sc.pl.umap(adataVar1)#, save=f'{args.projID}_adataVar1.png')\n",
    "sc.pl.umap(adataVar2)#, save=f'{args.projID}_adataVar2.png')\n",
    "sc.pl.umap(adataVar3)#, save=f'{args.projID}_adataVar3.png', color='leiden')"
   ]
  },
  {
   "cell_type": "code",
   "execution_count": null,
   "id": "8df7278c",
   "metadata": {
    "scrolled": true
   },
   "outputs": [],
   "source": [
    "sc.pl.umap(adataVar3, color=[\"PAX7\",\"TNNI1\", \"TNNI2\", \"VWF\", \"S100A8\", \"S100A9\", \"DCN\", \"CXCL8\"], cmap=newcmp, use_raw=True)"
   ]
  },
  {
   "cell_type": "code",
   "execution_count": null,
   "id": "211751eb",
   "metadata": {},
   "outputs": [],
   "source": [
    "adataVar3"
   ]
  },
  {
   "cell_type": "markdown",
   "id": "11a06190",
   "metadata": {},
   "source": [
    "### Misc"
   ]
  },
  {
   "cell_type": "code",
   "execution_count": null,
   "id": "2a141d96",
   "metadata": {},
   "outputs": [],
   "source": [
    "sh1 = sc.read_h5ad(\"adata1_shallow_seq\")"
   ]
  },
  {
   "cell_type": "code",
   "execution_count": null,
   "id": "8a3eed79",
   "metadata": {},
   "outputs": [],
   "source": [
    "var_names = sh1.var_names.intersection(adataVar3.var_names)"
   ]
  },
  {
   "cell_type": "code",
   "execution_count": null,
   "id": "b313f58b",
   "metadata": {},
   "outputs": [],
   "source": [
    "sh1[:, var_names]\n",
    "adataVar3[:, var_names]"
   ]
  },
  {
   "cell_type": "code",
   "execution_count": null,
   "id": "fdf51656",
   "metadata": {},
   "outputs": [],
   "source": [
    "adataVar3"
   ]
  },
  {
   "cell_type": "code",
   "execution_count": null,
   "id": "cf0f26f8",
   "metadata": {},
   "outputs": [],
   "source": [
    "gnames = deep.var_names[deep.var.highly_variable]"
   ]
  },
  {
   "cell_type": "code",
   "execution_count": null,
   "id": "1431b634",
   "metadata": {},
   "outputs": [],
   "source": [
    "adataVar3.var_names[adataVar3.var_names.isin(gnames)]"
   ]
  },
  {
   "cell_type": "code",
   "execution_count": null,
   "id": "69705360",
   "metadata": {},
   "outputs": [],
   "source": [
    "# adataVar3.X = sparse.csr_matrix(adataVar3.X)\n",
    "adata3.X = sparse.csr_matrix(adata3)"
   ]
  },
  {
   "cell_type": "code",
   "execution_count": null,
   "id": "d0ebb580",
   "metadata": {},
   "outputs": [],
   "source": [
    "test_random_log1p_countsnormalize(adata3)"
   ]
  }
 ],
 "metadata": {
  "kernelspec": {
   "display_name": "Python 3 (ipykernel)",
   "language": "python",
   "name": "python3"
  },
  "language_info": {
   "codemirror_mode": {
    "name": "ipython",
    "version": 3
   },
   "file_extension": ".py",
   "mimetype": "text/x-python",
   "name": "python",
   "nbconvert_exporter": "python",
   "pygments_lexer": "ipython3",
   "version": "3.7.0"
  }
 },
 "nbformat": 4,
 "nbformat_minor": 5
}
