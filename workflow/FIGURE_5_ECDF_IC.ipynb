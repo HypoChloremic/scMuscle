{
 "cells": [
  {
   "cell_type": "code",
   "execution_count": null,
   "metadata": {},
   "outputs": [],
   "source": [
    "import numpy as np\n",
    "import scipy as sp\n",
    "import scipy.stats as stats\n",
    "import matplotlib.pyplot as plt\n",
    "import scanpy as sc\n",
    "import pandas as pd"
   ]
  },
  {
   "cell_type": "markdown",
   "metadata": {},
   "source": [
    "Linux"
   ]
  },
  {
   "cell_type": "code",
   "execution_count": null,
   "metadata": {},
   "outputs": [],
   "source": [
    "data = sc.read_h5ad(\"/home/alirassolie/Documents/120521_adata_celltype_prevpost_and_markers\")\n",
    "data_filtered = data[data.obs.annotations.str.contains(\"(?i)sat|myo\")]\n",
    "muscvar = sc.read_h5ad('/home/alirassolie/Documents/misc/adata/160720_muscvar.h5ad')\n",
    "muscvar = muscvar[~muscvar.obs.annotations.str.contains(\"19\")]"
   ]
  },
  {
   "cell_type": "markdown",
   "metadata": {},
   "source": [
    "Windows"
   ]
  },
  {
   "cell_type": "code",
   "execution_count": null,
   "metadata": {},
   "outputs": [],
   "source": [
    "data = sc.read_h5ad(r'C:\\Users\\Ali\\Downloads\\OneDrive_1_9-29-2021\\120521_adata_celltype_prevpost_and_markers')\n",
    "data_filtered = data[data.obs.annotations.str.contains(\"(?i)sat|myo\")]\n",
    "muscvar = sc.read_h5ad(r'C:\\Users\\Ali\\Downloads\\OneDrive_1_9-29-2021\\160720_muscvar.h5ad')\n",
    "muscvar = muscvar[~muscvar.obs.annotations.str.contains(\"19\")]"
   ]
  },
  {
   "cell_type": "code",
   "execution_count": null,
   "metadata": {},
   "outputs": [],
   "source": [
    "plt.rcParams['pdf.fonttype'] = 42\n",
    "plt.rcParams['ps.fonttype'] = 42"
   ]
  },
  {
   "cell_type": "markdown",
   "metadata": {},
   "source": [
    "Functions"
   ]
  },
  {
   "cell_type": "code",
   "execution_count": null,
   "metadata": {},
   "outputs": [],
   "source": [
    "def ECDF(one_d: np.array, sort:bool=False, perc:bool=False, ax=None, **kwargs):\n",
    "    \"\"\"ECDF function will produce a scatterplot and return \n",
    "    the resulting np.array of the sorted data, with the ECDF\n",
    "    calculated\n",
    "\n",
    "    Arguments:\n",
    "        \n",
    "        one_d: a np.array, a vector containing the data to be ECDF'd\n",
    "\n",
    "        sort: boolean, if the input vector should be sorted before\n",
    "        processed\n",
    "\n",
    "        perc: boolean, if the ECDF should present the cumulative sum \n",
    "        as values of a quotient range(0,1)\n",
    "    \"\"\"\n",
    "\n",
    "    if sort: one_d = one_d[one_d.argsort()];\n",
    "    one_d_shifted = one_d + np.abs(min(one_d));\n",
    "    cum = np.full(one_d.shape[0], 0.0);\n",
    "    total = sum(one_d_shifted);\n",
    "\n",
    "    if perc:\n",
    "        for i in range(cum.shape[0]):\n",
    "            cum[i] = sum(one_d_shifted[:i]) / total;\n",
    "    else:\n",
    "        for i in range(cum.shape[0]):\n",
    "            cum[i] = sum(one_d_shifted[:i]);\n",
    "    if not ax:\n",
    "        plt.scatter(one_d_shifted, cum, **kwargs);\n",
    "        plt.show();\n",
    "    elif ax:\n",
    "        ax.scatter(one_d_shifted, cum, **kwargs);\n",
    "    return (one_d_shifted, cum)"
   ]
  },
  {
   "cell_type": "code",
   "execution_count": null,
   "metadata": {},
   "outputs": [],
   "source": [
    "sc.tl.pca(data_filtered)\n",
    "sc.pl.pca(data_filtered)"
   ]
  },
  {
   "cell_type": "code",
   "execution_count": null,
   "metadata": {},
   "outputs": [],
   "source": [
    "fig, ax = plt.subplots()\n",
    "df = pd.DataFrame({\n",
    "    'x': muscvar[(muscvar.obs.annotations.str.contains(\"12\")) & (muscvar.obs.batch == \"0\")].obsm[\"X_pca\"].T[0]*-1,\n",
    "})\n",
    "\n",
    "df.plot.kde(ax=ax)\n",
    "df = pd.DataFrame({\n",
    "'y': muscvar[(muscvar.obs.annotations.str.contains(\"12\")) & (muscvar.obs.batch == \"1\")].obsm[\"X_pca\"].T[0]*-1\n",
    "})\n",
    "\n",
    "df.plot.kde(ax=ax)\n",
    "    "
   ]
  },
  {
   "cell_type": "code",
   "execution_count": null,
   "metadata": {},
   "outputs": [],
   "source": [
    "fig, ax = plt.subplots()\n",
    "df = pd.DataFrame({\n",
    "    'x': muscvar[(muscvar.obs.annotations.str.contains(\"3\")) & (muscvar.obs.batch == \"0\")].obsm[\"X_pca\"].T[0]*-1,\n",
    "})\n",
    "\n",
    "df.plot.kde(ax=ax)\n",
    "df = pd.DataFrame({\n",
    "'y': muscvar[(muscvar.obs.annotations.str.contains(\"3\")) & (muscvar.obs.batch == \"1\")].obsm[\"X_pca\"].T[0]*-1\n",
    "})\n",
    "\n",
    "df.plot.kde(ax=ax)\n",
    "    "
   ]
  },
  {
   "cell_type": "code",
   "execution_count": null,
   "metadata": {},
   "outputs": [],
   "source": [
    "cl12 = muscvar[muscvar.obs.annotations.str.contains(\"12\")]\n",
    "cl3 = muscvar[muscvar.obs.annotations.str.contains(\"3\")]\n",
    "sat = muscvar[muscvar.obs.annotations.str.contains(\"Sat\")]\n",
    "batch_12, batch_3, sat_batch = [], [], []\n",
    "\n",
    "for i in range(2): \n",
    "    batch_12.append(cl12[cl12.obs.batch == f\"{i}\"])\n",
    "    batch_3.append(cl3[cl3.obs.batch == f\"{i}\"])\n",
    "    sat_batch.append(sat[sat.obs.batch == f\"{i}\"])"
   ]
  },
  {
   "cell_type": "code",
   "execution_count": null,
   "metadata": {},
   "outputs": [],
   "source": [
    "cl12_pca = pd.DataFrame(cl12.obsm[\"X_pca\"]).loc[:, :1]\n",
    "cl12_pca[\"batch\"] = cl12.obs.batch.values\n",
    "\n",
    "cl3_pca = pd.DataFrame(cl3.obsm[\"X_pca\"]).loc[:, :1]\n",
    "cl3_pca[\"batch\"] = cl3.obs.batch.values\n",
    "\n",
    "sat_pca = pd.DataFrame(sat.obsm[\"X_pca\"]).loc[:, :1]\n",
    "sat_pca[\"batch\"] = sat.obs.batch.values"
   ]
  },
  {
   "cell_type": "code",
   "execution_count": null,
   "metadata": {},
   "outputs": [],
   "source": [
    "convert = lambda bat, offset: np.array(bat.obsm[\"X_pca\"].T[0]*-1 + np.sqrt(min(offset.obsm[\"X_pca\"].T[0]*-1)**2))\n",
    "\n",
    "def plot_ECDF(df, offset, axs, ind):\n",
    "    pc_df_fast = convert(df, offset)\n",
    "    values, base = np.histogram(pc_df_fast, bins=20)\n",
    "    cumulative = np.cumsum(values)\n",
    "    axs[ind].plot(base[:-1], np.divide(cumulative, cumulative[-1]), linewidth=1)\n",
    "    return cumulative"
   ]
  },
  {
   "cell_type": "code",
   "execution_count": null,
   "metadata": {},
   "outputs": [],
   "source": [
    "sc.pl.umap(batch_3[0], color=\"annotations\")\n",
    "sc.pl.umap(batch_3[1], color=\"annotations\")"
   ]
  },
  {
   "cell_type": "code",
   "execution_count": null,
   "metadata": {},
   "outputs": [],
   "source": [
    "\n",
    "\n",
    "fig, axs = plt.subplots(ncols=3, nrows=1, figsize=(12,4))\n",
    "# axs = axs.flatten()\n",
    "\n",
    "sat_cum_0 = plot_ECDF(sat_batch[0], sat, axs, 0)\n",
    "sat_cum_1 = plot_ECDF(sat_batch[1], sat, axs, 0)\n",
    "\n",
    "fast_cum_0 = plot_ECDF(batch_12[0], cl12, axs, 1)\n",
    "fast_cum_1 = plot_ECDF(batch_12[1], cl12, axs, 1)\n",
    "\n",
    "slow_cum_0 = plot_ECDF(batch_3[0], cl3, axs, 2)\n",
    "slow_cum_1 = plot_ECDF(batch_3[1], cl3, axs, 2)\n",
    "    \n",
    "\n",
    "axs[0].set_xlabel(\"Satellites\")\n",
    "axs[1].set_xlabel(\"Fast-twitch\")    \n",
    "axs[2].set_xlabel(\"Slow-twitch\")\n",
    "\n",
    "\n",
    "# plt.savefig(\"/home/alirassolie/Documents/misc/cumsum_fast_slow_sat.pdf\")\n",
    "\n",
    "plt.tight_layout()"
   ]
  },
  {
   "cell_type": "code",
   "execution_count": null,
   "metadata": {},
   "outputs": [],
   "source": [
    "sp.stats.wilcoxon(sat_cum_0, sat_cum_1)"
   ]
  },
  {
   "cell_type": "code",
   "execution_count": null,
   "metadata": {},
   "outputs": [],
   "source": [
    "sp.stats.wilcoxon(fast_cum_0, fast_cum_1)"
   ]
  },
  {
   "cell_type": "code",
   "execution_count": null,
   "metadata": {},
   "outputs": [],
   "source": [
    "sp.stats.wilcoxon(slow_cum_0, slow_cum_1)"
   ]
  },
  {
   "cell_type": "code",
   "execution_count": null,
   "metadata": {},
   "outputs": [],
   "source": [
    "print(sat_cum_1.shape)\n",
    "print(slow_cum_1.shape)"
   ]
  },
  {
   "cell_type": "code",
   "execution_count": null,
   "metadata": {},
   "outputs": [],
   "source": [
    "# The raw coordinate PC1 values"
   ]
  },
  {
   "cell_type": "code",
   "execution_count": null,
   "metadata": {},
   "outputs": [],
   "source": [
    "sat_post = convert(sat_batch[1], sat)\n",
    "sat_pre = convert(sat_batch[0], sat)\n",
    "\n",
    "fast_post = convert(batch_12[1], cl12)\n",
    "fast_pre = convert(batch_12[0], cl12)\n",
    "\n",
    "slow_post = convert(batch_3[1], cl3)\n",
    "slow_pre = convert(batch_3[0], cl3)"
   ]
  },
  {
   "cell_type": "code",
   "execution_count": null,
   "metadata": {},
   "outputs": [],
   "source": [
    "print(sp.stats.ranksums(sat_post, sat_pre))\n",
    "print(f\"The mean quotient: {np.mean(sat_post) / np.mean(sat_pre)}\")"
   ]
  },
  {
   "cell_type": "code",
   "execution_count": null,
   "metadata": {},
   "outputs": [],
   "source": [
    "print(sp.stats.ranksums(fast_post, fast_pre))\n",
    "print(f\"The mean quotient: {np.mean(fast_post) / np.mean(fast_pre)}\")"
   ]
  },
  {
   "cell_type": "code",
   "execution_count": null,
   "metadata": {},
   "outputs": [],
   "source": [
    "print(sp.stats.ranksums(slow_post, slow_pre))\n",
    "print(f\"The mean quotient: {np.mean(slow_post) / np.mean(slow_pre)}\")"
   ]
  },
  {
   "cell_type": "markdown",
   "metadata": {},
   "source": [
    "### Median"
   ]
  },
  {
   "cell_type": "code",
   "execution_count": null,
   "metadata": {},
   "outputs": [],
   "source": [
    "print('fast-twitch pre median and mean: ', np.median(fast_pre), np.mean(fast_pre))\n",
    "print('fast-twitch post median and mean: ', np.median(fast_post), np.mean(fast_post))\n",
    "\n",
    "print()\n",
    "\n",
    "print('slow-twitch pre median and mean: ', np.median(slow_pre), np.mean(slow_pre))\n",
    "print('slow-twitch post median and mean: ', np.median(slow_post), np.mean(slow_post))"
   ]
  }
 ],
 "metadata": {
  "kernelspec": {
   "display_name": "Python 3 (ipykernel)",
   "language": "python",
   "name": "python3"
  },
  "language_info": {
   "codemirror_mode": {
    "name": "ipython",
    "version": 3
   },
   "file_extension": ".py",
   "mimetype": "text/x-python",
   "name": "python",
   "nbconvert_exporter": "python",
   "pygments_lexer": "ipython3",
   "version": "3.7.0"
  }
 },
 "nbformat": 4,
 "nbformat_minor": 4
}
