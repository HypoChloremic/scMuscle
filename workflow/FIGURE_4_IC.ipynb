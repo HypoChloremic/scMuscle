{
 "cells": [
  {
   "cell_type": "markdown",
   "metadata": {},
   "source": [
    "### The Data files being used\n",
    "- Manuscript folder now present on the onedrive. \n",
    "- I should be moving all of the notebooks to github..."
   ]
  },
  {
   "cell_type": "code",
   "execution_count": null,
   "metadata": {},
   "outputs": [],
   "source": [
    "%qtconsole"
   ]
  },
  {
   "cell_type": "code",
   "execution_count": null,
   "metadata": {},
   "outputs": [],
   "source": [
    "import warnings\n",
    "warnings.filterwarnings('ignore')"
   ]
  },
  {
   "cell_type": "markdown",
   "metadata": {},
   "source": [
    "# Differential expression"
   ]
  },
  {
   "cell_type": "code",
   "execution_count": null,
   "metadata": {},
   "outputs": [],
   "source": [
    "import scanpy as sc\n",
    "import pandas as pd\n",
    "import numpy as np\n",
    "import matplotlib.pyplot as plt\n",
    "import seaborn as sns\n",
    "from matplotlib.pyplot import rc_context\n",
    "from matplotlib import cm\n",
    "from matplotlib.colors import ListedColormap, LinearSegmentedColormap"
   ]
  },
  {
   "cell_type": "code",
   "execution_count": null,
   "metadata": {},
   "outputs": [],
   "source": [
    "from importlib.machinery import SourceFileLoader \n",
    "IM = SourceFileLoader(\"InterconditionalMethods\", \"/home/rullman/scRNAmuscleProject/algorithms/scRNAalgoes/src/scMethods.py\").load_module() "
   ]
  },
  {
   "cell_type": "code",
   "execution_count": null,
   "metadata": {},
   "outputs": [],
   "source": [
    "# data = sc.read_h5ad(\"120521_adata_celltype_prevpost_and_markers\")"
   ]
  },
  {
   "cell_type": "code",
   "execution_count": null,
   "metadata": {},
   "outputs": [],
   "source": [
    "projID = \"120521\""
   ]
  },
  {
   "cell_type": "code",
   "execution_count": null,
   "metadata": {},
   "outputs": [],
   "source": [
    "data_prepost = IM.diffxpyInterconditionalIterative(\n",
    "        data, \n",
    "        clusterColumn='annotations', \n",
    "        projID=projID, \n",
    "        use_raw=False, \n",
    "        method=\"wilcoxon\"\n",
    "    )"
   ]
  },
  {
   "cell_type": "code",
   "execution_count": null,
   "metadata": {},
   "outputs": [],
   "source": [
    "batchKeys = ['Endothelial 2_batch', 'Endothelial Cell 0_batch', 'Endothelial Cell 20_batch', 'Mesenchymal cell 11_batch', 'Mesenchymal merged_batch', 'Myoblast 12_batch', 'Myoblast 19_batch', 'Myoblast 3_batch', 'Pericyte 18_batch', 'Pericyte 5_batch', 'Satellite cell_batch', 'T-cells 13_batch', 'T-cells 15_batch']"
   ]
  },
  {
   "cell_type": "code",
   "execution_count": null,
   "metadata": {},
   "outputs": [],
   "source": [
    "IM.add_pct_manual(\n",
    "    data, \n",
    "    clusters = data.obs.annotations.cat.categories,\n",
    "    clusterColumn=\"annotations\", \n",
    "    keys=batchKeys, \n",
    "    out=f\"{projID}_subclusters_prevpost_rankwilcox.xlsx\", \n",
    "    save='excel'\n",
    ") "
   ]
  },
  {
   "cell_type": "markdown",
   "metadata": {},
   "source": [
    "> 120521_subclusters_prevpost_rankwilcox.xlsx"
   ]
  },
  {
   "cell_type": "code",
   "execution_count": null,
   "metadata": {},
   "outputs": [],
   "source": [
    "clusters = [\"Endothelial 2\", \"T-cells 13\", \"Pericyte 5\", \"Mesenchymal merged\", \"Endothelial Cell 0\", \"Bad annotation\", \"Myoblast 12\", \"Mesenchymal cell 11\", \"Myoblast 3\", \"Satellite cell\", \"Endothelial Cell 20\", \"CD14+ Monocyte\", \"Myoblast 19\", \"Pericyte 18\", \"T-cells 15\", \"CD16+ Monocyte\"]\n",
    "keys = [\"Endothelial 2_batch\", \"T-cells 13_batch\", \"Pericyte 5_batch\", \"Mesenchymal merged_batch\", \"Endothelial Cell 0_batch\", \"Bad annotation_batch\", \"Myoblast 12_batch\", \"Mesenchymal cell 11_batch\", \"Myoblast 3_batch\", \"Satellite cell_batch\", \"Endothelial Cell 20_batch\", \"CD14+ Monocyte_batch\", \"Myoblast 19_batch\", \"Pericyte 18_batch\", \"T-cells 15_batch\", \"CD16+ Monocyte_batch\"]"
   ]
  },
  {
   "cell_type": "code",
   "execution_count": null,
   "metadata": {},
   "outputs": [],
   "source": [
    "IM.add_pct_manual(\n",
    "    data, \n",
    "    clusters = clusters,\n",
    "    clusterColumn=\"annotations\", \n",
    "    keys=keys, \n",
    "    out=f\"{projID}_subclusters_prevpost_rankwilcox.xlsx\", \n",
    "    save='excel'\n",
    ") "
   ]
  },
  {
   "cell_type": "markdown",
   "metadata": {},
   "source": [
    "## Plotting"
   ]
  },
  {
   "cell_type": "code",
   "execution_count": null,
   "metadata": {},
   "outputs": [],
   "source": [
    "plt.rcParams['figure.dpi'] = 600"
   ]
  },
  {
   "cell_type": "code",
   "execution_count": null,
   "metadata": {},
   "outputs": [],
   "source": [
    "palette = ['#393c7b', '#e6b84e', '#8d6d2f', '#657b3a']\n",
    "lines = [(cl3, ind3), (cl12, ind12)]"
   ]
  },
  {
   "cell_type": "code",
   "execution_count": null,
   "metadata": {},
   "outputs": [],
   "source": [
    "ind12.shape, cl12.shape"
   ]
  },
  {
   "cell_type": "code",
   "execution_count": null,
   "metadata": {},
   "outputs": [],
   "source": [
    "sns.set_style('white')\n",
    "for ind, s in enumerate(['Myoblast 12', 'Myoblast 3', 'Satellite cell']):\n",
    "    m  = meta[meta.annotations.str.contains(f'(?i){s}')]\n",
    "    plt.scatter(m.PC_0, m.PC_1, edgecolor='black', c=palette[ind], linewidths=0.3)\n",
    "\n",
    "for cl, ind in lines:\n",
    "    plt.plot(cl['s.X0'].values[ind], cl['s.X1'].values[ind], linewidth=7, color='w')\n",
    "    plt.plot(cl['s.X0'].values[ind], cl['s.X1'].values[ind], linewidth=5, color='black')\n",
    "\n",
    "plt.axis('off')\n",
    "# plt.savefig('210720_MuSC_PCA_plot.png')"
   ]
  },
  {
   "cell_type": "code",
   "execution_count": null,
   "metadata": {},
   "outputs": [],
   "source": [
    "def line_f(to):\n",
    "    for cl, ind in lines:\n",
    "        plt.plot(cl['s.X0'].values[ind], cl['s.X1'].values[ind], linewidth=6, color='w')\n",
    "        plt.plot(cl['s.X0'].values[ind], cl['s.X1'].values[ind], linewidth=5, color='black')\n",
    "    plt.axis('off')\n",
    "    plt.savefig(to)\n",
    "    \n",
    "line_f('REDO_130321_musc_lines.pdf')\n",
    "line_f('REDO_130321_musc_lines.png')"
   ]
  },
  {
   "cell_type": "code",
   "execution_count": null,
   "metadata": {},
   "outputs": [],
   "source": [
    "def musc_pts(to):\n",
    "    sns.set_style('white')\n",
    "    for ind, s in enumerate(['Myoblast 12', 'Myoblast 3', 'Satellite cell']):\n",
    "        m  = meta[meta.annotations.str.contains(f'(?i){s}')]\n",
    "        plt.scatter(m.PC_0, m.PC_1, edgecolor='black', c=palette[ind], linewidths=0.6)\n",
    "\n",
    "    plt.axis('off')\n",
    "    plt.savefig(to, dpi=3000)\n",
    "    \n",
    "musc_pts('REDO_130321_MuSC_PCA_nolines.png')\n",
    "musc_pts('REDO_130321_MuSC_PCA_nolines.pdf')"
   ]
  },
  {
   "cell_type": "markdown",
   "metadata": {},
   "source": [
    "# PCA expression plots"
   ]
  },
  {
   "cell_type": "code",
   "execution_count": null,
   "metadata": {},
   "outputs": [],
   "source": [
    "%qtconsole"
   ]
  },
  {
   "cell_type": "markdown",
   "metadata": {},
   "source": [
    "### In uppmax"
   ]
  },
  {
   "cell_type": "code",
   "execution_count": null,
   "metadata": {},
   "outputs": [],
   "source": [
    "import pandas as pd\n",
    "import numpy as np\n",
    "import scanpy as sc\n",
    "from collections import Counter\n",
    "import matplotlib.pyplot as plt"
   ]
  },
  {
   "cell_type": "code",
   "execution_count": null,
   "metadata": {},
   "outputs": [],
   "source": [
    "# muscvar = sc.read_h5ad('/home/alirassolie/Documents/misc/adata/160720_muscvar.h5ad')\n",
    "muscvar = sc.read_h5ad(\"/home/alirassolie/Documents/arbete/mint_mobile/160720_muscvar.h5ad\")"
   ]
  },
  {
   "cell_type": "code",
   "execution_count": null,
   "metadata": {},
   "outputs": [],
   "source": [
    "plt.rcParams['figure.dpi'] = 90"
   ]
  },
  {
   "cell_type": "code",
   "execution_count": null,
   "metadata": {},
   "outputs": [],
   "source": [
    "muscvar = muscvar[~muscvar.obs.annotations.str.contains(\"19\")]"
   ]
  },
  {
   "cell_type": "code",
   "execution_count": null,
   "metadata": {},
   "outputs": [],
   "source": [
    "def isolate_PCA_for_genes(out:str, genes:list):\n",
    "    df_g = pd.DataFrame(index=muscvar.obs.index)\n",
    "    for gene in genes:\n",
    "        try:\n",
    "            gvals = pd.DataFrame({gene:np.stack(muscvar.raw[:, gene].X.toarray(), axis=-1)[0]})\n",
    "            gvals.index = muscvar.obs.index\n",
    "            df_g = df_g.join(gvals)\n",
    "        except KeyError as e:\n",
    "            print(e)\n",
    "        #print(df_g)\n",
    "        #input()\n",
    "\n",
    "    muscvar.obs = muscvar.obs.join(df_g)\n",
    "\n",
    "    # adding the pcs to the metadata\n",
    "    pc = pd.DataFrame(muscvar.obsm['X_pca'])\n",
    "    pc.columns = [f'PC_{i}' for i in pc.columns]\n",
    "    pc.index = muscvar.obs.index\n",
    "    pc = pc.loc[:, 'PC_0':'PC_8']\n",
    "\n",
    "    muscvar.obs = muscvar.obs.join(pc)\n",
    "    muscvar.obs.to_csv(out)"
   ]
  },
  {
   "cell_type": "code",
   "execution_count": null,
   "metadata": {},
   "outputs": [],
   "source": [
    "genes = ['TNNC2', 'TNNI2', 'MYLPF', 'TPM1', 'TNNT3', 'ENO3', 'MYL1', 'GAPDH', 'SLN', 'PGAM2', 'CKM', 'TPM2', 'MYOZ1', 'YBX3', 'DES', 'COX7A1', 'ACTA1', 'COX6A2', 'TPT1', 'MYH2', 'TCAP', 'RPLP1', 'ACTB', 'MYBPC2', 'EEF1A2', 'SPARCL1', 'SLC25A4', 'B2M', 'TMSB10', 'EEF1A1', 'MALAT1', 'ATP2A1', 'ITM2B', 'PYGM', 'ACTG1', 'IFITM3', 'CD81', 'LGALS3', 'BIN1', 'HLA-A', 'TMSB4X', 'LGALS1', 'KLHL41', 'PTMA', 'VIM', 'PDLIM3', 'MYL6', 'CHCHD10', 'IGFBP7', 'H3F3B', 'MYBPC1', 'CRYAB', 'UQCRB', 'G0S2', 'TIMP3', 'HLA-E', 'ADSSL1', 'RPL3', 'YBX1', 'ITGB1', 'HLA-C', 'SELENOW', 'S100A11', 'CA3', 'CD63', 'DDX5', 'LDHA', 'PGM1', 'NDUFA4', 'S100A10', 'NACA', 'NDUFB10', 'ATP5F1D', 'MT-ND5', 'GSN', 'RPL37A', 'COX7C', 'MTRNR2L12', 'HLA-B', 'JUND', 'TCF4', 'ANXA2', 'MYL12B', 'KLF2', 'CFL1', 'IDH2', 'CALD1', 'TUBA1B', 'TTN', 'TAGLN2', 'RPS2', 'CAV1', 'TUBA1A', 'BTG1', 'JUN', 'MT-ND4', 'FHL1', 'S100A6', 'SMIM37', 'PKM', 'PPIA', 'PDLIM7', 'CMYA5', 'MT-ND3', 'S100A1', 'MT-CYB', 'SON', 'NEAT1', 'MT-CO1', 'RAD23A', 'CDKN1C', 'H3F3A', 'CD59', 'TMBIM6', 'DYNLL1', 'ANXA5', 'CLIC1', 'FHL3', 'SPARC', 'TPI1', 'SPTBN1', 'LAPTM4A', 'TCEA3', 'MTRNR2L8', 'NEB', 'RPL3L', 'GNAI2', 'ITM2A', 'EEF1B2', 'ALDOA', 'CST3', 'STAC3', 'PTMS', 'RPS16', 'SEPT7', 'IER2', 'CLEC14A', 'MT-ND2', 'ACTN2', 'SEC62', 'APP', 'MT-ATP6', 'UQCR11', 'CAVIN1', 'GNG11', 'NRAP', 'AHNAK', 'PPIB', 'HSPG2', 'ANK1', 'ADIRF', 'IFITM2', 'JUNB', 'HSP90B1', 'CDC42', 'COX5A', 'APOBEC2', 'MGLL', 'ZFP36L2', 'YWHAB', 'CD99', 'RHOC', 'PPP1R1A', 'MT-CO2', 'UQCR10', 'ZFP36L1', 'CALR', 'HMGB1', 'DNAJA1', 'PDIA3PDLIM3', 'PSAP', 'RPL38', 'TOMM7', 'DUSP1', 'FOSB', 'CD151', 'DSTN', 'IFI27', 'TACC1', 'NDUFV2', 'TXNIP', 'COX6A1', 'COL4A1', 'MACROD1', 'MT-ND4L', 'SELENOP', 'BST2', 'MT-CO3', 'EMP2', 'MARCKS', 'SRSF3', 'PPP1R27', 'FXYD1', 'HSP90AA1', 'PPDPFL', 'UQCRFS1', 'MYL9', 'DPYSL2', 'RAMP2', 'CYR61', 'WSB1', 'STOM', 'KLF6', 'MT2A', 'MT-ND1', 'UBC', 'PDLIM5', 'FUS', 'DAD1', 'ZBTB20', 'A2M', 'TAGLN', 'RPL13A', 'TRDN', 'MIR133A1HG', 'PDE4DIP', 'MYOT', 'NEXN', 'ATP2A2', 'RBM24', 'MYH7', 'SVIL', 'TNNT1', 'TNNI1', 'EMC10', 'MB', 'LDB3', 'ATP1A2', 'XIRP2', 'LMOD3', 'MYL2', 'TPM3', 'ATP1B1', 'LMOD2', 'PPP1R3A', 'TNNC1', 'AGL', 'TMEM38A', 'FBXO32', 'COQ10A', 'TRIM54', 'POLR2J3-1', 'DWORF', 'CKMT2', 'CSRP3', 'MYL3', 'HSPB7', 'SMPX', 'PEBP4', 'CYB5R1', 'MDH1', 'CASQ1', 'FILIP1', 'AC020909.2', 'MYH7B', 'DMD', 'FABP3', 'TXLNB', 'GAMT', 'CACNG1', 'SCN1B', 'RRAD', 'LRRC39', 'CORO6', 'HOOK2', 'LINC01405', 'PLN', 'RETREG1', 'AMPD1', 'COQ8A', 'LRRC2', 'GOT1', 'FITM1', 'NPHP1', 'MIR1-1HG', 'MYF6', 'RTN2', 'ASB5', 'CFL2', 'PKIA', 'ATP5MC1', 'PDK4', 'N4BP2L2', 'LMCD1', 'SYNPO2', 'MEF2C', 'SIX1', 'MYOM1', 'OBSCN', 'MUC20-OT1', 'FLNC', 'HSPB6', 'CAP2', 'SGCA', 'VDAC1', 'TUBA4A', 'ANKRD9', 'RAMP1', 'MBNL1', 'CAVIN4', 'ZNF106', 'DUSP13', 'SH3BGR', 'IDI2', 'TRIM7', 'PLIN5', 'NDUFV3', 'ANKRD2', 'ANKRD23', 'CEBPB', 'VDAC3', 'MYPN', 'AL451062.1', 'DUSP26', 'ASPH', 'CUTC', 'ASB2', 'ART3', 'NIPSNAP2', 'MYL6B', 'HHATL']\n",
    "genes = list(Counter(genes).keys())\n",
    "isolate_PCA_for_genes(\"./musc/REDO_130321_muscvar_metadata.csv\", genes)"
   ]
  },
  {
   "cell_type": "code",
   "execution_count": null,
   "metadata": {},
   "outputs": [],
   "source": [
    "new_genes = ['CXCL8', 'MYOD1',  'HSP90AA1','HSP90AB1', 'HDAC4', \"MYH8\", \"LMNA\", \"NCL\", \"NFE2L2\", \"NNMT\", \"SOD2\",\"NFKBIA\"]\n",
    "\n",
    "isolate_PCA_for_genes(\"./musc/REDO_300321_muscvar_metadata.csv\", new_genes)"
   ]
  },
  {
   "cell_type": "markdown",
   "metadata": {},
   "source": [
    "### Visualizing genes pre and post"
   ]
  },
  {
   "cell_type": "code",
   "execution_count": null,
   "metadata": {},
   "outputs": [],
   "source": [
    "muscvar_pre = muscvar[muscvar.obs.batch == \"0\"]\n",
    "muscvar_post = muscvar[muscvar.obs.batch == \"1\"]"
   ]
  },
  {
   "cell_type": "markdown",
   "metadata": {},
   "source": [
    "#### PCA-loadings"
   ]
  },
  {
   "cell_type": "code",
   "execution_count": null,
   "metadata": {},
   "outputs": [],
   "source": [
    "sc.tl.pca(muscvar)"
   ]
  },
  {
   "cell_type": "code",
   "execution_count": null,
   "metadata": {},
   "outputs": [],
   "source": [
    "sc.pl.pca_loadings(muscvar)"
   ]
  },
  {
   "cell_type": "code",
   "execution_count": null,
   "metadata": {},
   "outputs": [],
   "source": [
    "PC_loadings = pd.DataFrame(muscvar.varm['PCs'])\n",
    "PC_loadings.index = muscvar.var.index"
   ]
  },
  {
   "cell_type": "code",
   "execution_count": null,
   "metadata": {},
   "outputs": [],
   "source": [
    "tmp = PC_loadings.sort_values(0, ascending=False)[:100]\n",
    "tmp.loc[:, 1] = tmp.loc[:, 1] * -1\n",
    "fig, axs = plt.subplots(ncols=1)\n",
    "axs.scatter(tmp[0], tmp[1], s=8)\n",
    "\n",
    "for i, text in enumerate(tmp.index):\n",
    "    axs.text(tmp[0][i], tmp[1][i], s=text, size=6)\n",
    "    \n",
    "#axs.set_xlim()"
   ]
  },
  {
   "cell_type": "markdown",
   "metadata": {},
   "source": [
    "#### PCA-plot with expression level"
   ]
  },
  {
   "cell_type": "code",
   "execution_count": null,
   "metadata": {},
   "outputs": [],
   "source": [
    "import matplotlib.cm as cm\n",
    "import matplotlib as mpl\n",
    "from mpl_toolkits.mplot3d import Axes3D\n",
    "import plotly.express as px\n"
   ]
  },
  {
   "cell_type": "code",
   "execution_count": null,
   "metadata": {},
   "outputs": [],
   "source": [
    "%matplotlib notebook"
   ]
  },
  {
   "cell_type": "code",
   "execution_count": null,
   "metadata": {},
   "outputs": [],
   "source": [
    "muscvar_pre = muscvar[muscvar.obs.batch == \"0\"]\n",
    "muscvar_post = muscvar[muscvar.obs.batch == \"1\"]"
   ]
  },
  {
   "cell_type": "code",
   "execution_count": null,
   "metadata": {},
   "outputs": [],
   "source": [
    "muscDF = pd.DataFrame(muscvar.obsm[\"X_pca\"])\n",
    "muscDF_pre = pd.DataFrame(muscvar_pre.obsm[\"X_pca\"])\n",
    "muscDF_post = pd.DataFrame(muscvar_post.obsm[\"X_pca\"])"
   ]
  },
  {
   "cell_type": "code",
   "execution_count": null,
   "metadata": {},
   "outputs": [],
   "source": [
    "muscvar[:, \"MYF5\"].X.flatten()"
   ]
  },
  {
   "cell_type": "code",
   "execution_count": null,
   "metadata": {},
   "outputs": [],
   "source": [
    "def map_PCA_to_RGB(data:\"AnnData\", gene:str):\n",
    "    \"\"\"\n",
    "    \"\"\"\n",
    "    try: gene_counts = data[:, gene].X.flatten()\n",
    "    except: gene_counts = data[:, gene].X.toarray().flatten()\n",
    "    \n",
    "    minima = min(gene_counts)\n",
    "    maxima = max(gene_counts)\n",
    "\n",
    "    norm = mpl.colors.Normalize(vmin=minima, vmax=maxima, clip=True)\n",
    "    mapper = cm.ScalarMappable(norm=norm, cmap=cm.hot)\n",
    "    \n",
    "    return [mapper.to_rgba(v) for v in gene_counts]\n"
   ]
  },
  {
   "cell_type": "code",
   "execution_count": null,
   "metadata": {},
   "outputs": [],
   "source": [
    "def add_color_column_by_gene(df, anndata, gene):\n",
    "    try: df[gene] = anndata[:, gene].X.flatten()\n",
    "    except: df[gene] = anndata[:, gene].X.toarray().flatten()\n",
    "    return df"
   ]
  },
  {
   "cell_type": "code",
   "execution_count": null,
   "metadata": {},
   "outputs": [],
   "source": [
    "def PCA_scatter_3D(df, anndata, gene):\n",
    "    df_c_added = add_color_column_by_gene(df=df, anndata=anndata, gene=gene)\n",
    "    fig = px.scatter_3d(df_c_added, x=0, y=1, z=2, color=gene)\n",
    "    fig.update_traces(marker={'size': 3})\n",
    "\n",
    "    fig.show()"
   ]
  },
  {
   "cell_type": "code",
   "execution_count": null,
   "metadata": {},
   "outputs": [],
   "source": [
    "def PCA_scatter_3D_batch(df, anndata, gene, **kwargs):\n",
    "    df['batch'] = anndata.obs.batch.values\n",
    "    fig = px.scatter_3d(df, x=0, y=1, z=2, color=\"batch\", **kwargs)\n",
    "    fig.update_traces(marker={'size': 3})\n",
    "\n",
    "    fig.show()"
   ]
  },
  {
   "cell_type": "code",
   "execution_count": null,
   "metadata": {},
   "outputs": [],
   "source": [
    "fig, axs = plt.subplots(ncols=2, figsize=(15,5))\n",
    "axs[0].scatter(muscDF_pre.loc[:, 3]*-1, muscDF_pre.loc[:, 1], color=map_PCA_to_RGB(muscvar_pre, \"TNNI1\"), s=2)\n",
    "axs[1].scatter(muscDF_post.loc[:, 3]*-1, muscDF_post.loc[:, 1], color=map_PCA_to_RGB(muscvar_post, \"TNNI2\"), s=2)"
   ]
  },
  {
   "cell_type": "code",
   "execution_count": null,
   "metadata": {},
   "outputs": [],
   "source": [
    "sc.tl.pca(muscvar[:, ])"
   ]
  },
  {
   "cell_type": "code",
   "execution_count": null,
   "metadata": {},
   "outputs": [],
   "source": [
    "PCA_scatter_3D_batch(muscDF, muscvar, \"MYOD1\", palette=[\"black\", \"gray\"])"
   ]
  },
  {
   "cell_type": "code",
   "execution_count": null,
   "metadata": {},
   "outputs": [],
   "source": [
    "PCA_scatter_3D(muscDF_post, muscvar_post, \"MYOG\")"
   ]
  },
  {
   "cell_type": "code",
   "execution_count": null,
   "metadata": {
    "scrolled": false
   },
   "outputs": [],
   "source": [
    "PCA_scatter_3D(muscDF, muscvar, \"MYF6\")"
   ]
  },
  {
   "cell_type": "code",
   "execution_count": null,
   "metadata": {
    "scrolled": false
   },
   "outputs": [],
   "source": [
    "plt.rcParams[\"figure.dpi\"] = 300\n",
    "sc.pl.pca(muscvar, color=[\"batch\"], palette=[\"lightgray\", \"lightblue\"], edgecolor=\"black\", linewidth=0.05, s=30)"
   ]
  },
  {
   "cell_type": "code",
   "execution_count": null,
   "metadata": {},
   "outputs": [],
   "source": [
    "muscvar[:, \"MRF4\"]"
   ]
  },
  {
   "cell_type": "markdown",
   "metadata": {},
   "source": [
    "### Run locally to generate the figures after importing the PCA metadata with the coordinates"
   ]
  },
  {
   "cell_type": "code",
   "execution_count": null,
   "metadata": {},
   "outputs": [],
   "source": [
    "def musc_expr(genes, anndata, to=None, out=None, figsize=(10, 20)):\n",
    "    \"\"\"Plot the expression of the myoblasts along the PCA axes\n",
    "    Args:\n",
    "        genes (dict)\n",
    "        meta (pandas df):   contains the metadata with the \n",
    "                            PCA coordinates\n",
    "                            \n",
    "    Kwargs: \n",
    "        to (str)\n",
    "        out (str)\n",
    "    \"\"\"\n",
    "    \n",
    "    #plt.hist(meta.TNNI2[meta.TNNI2 > 15], bins=100)\n",
    "    plt.rcParams['axes.facecolor'] = 'black'\n",
    "    gene_indices = anndata.var_names.values\n",
    "    count_matrix = anndata.X.toarray()\n",
    "    baseline_pca = pd.DataFrame(anndata.obsm['X_pca'])\n",
    "    for i, gene in enumerate(genes.keys()):\n",
    "\n",
    "        fig, axs = plt.subplots(nrows=1, figsize=figsize)\n",
    "        filt_ind = count_matrix[:, np.where(gene_indices == gene)[0][0]] > genes[gene][0]\n",
    "\n",
    "        meta = pd.DataFrame(anndata[filt_ind].obsm['X_pca']) \n",
    "        axs.grid(False)\n",
    "        axs.scatter(baseline_pca[0], baseline_pca[1], c='gray', s=10, alpha=0.5, linewidth=0)\n",
    "        axs.scatter(meta[0], meta[1], c=expr_colors[i % len(expr_colors)], s= 10,  **expr_params)\n",
    "        axs.set_title(gene)\n",
    "\n",
    "    \n",
    "    plt.show()\n",
    "        \n",
    "\n",
    "    \n",
    "# musc_expr('REDO_130321_MuSC_PCA_markers.pdf')"
   ]
  },
  {
   "cell_type": "markdown",
   "metadata": {},
   "source": [
    "#### 130321 genes of interest"
   ]
  },
  {
   "cell_type": "code",
   "execution_count": null,
   "metadata": {},
   "outputs": [],
   "source": [
    "\n",
    "expr_params = {\n",
    "    \"edgecolor\": \"black\",\n",
    "    \"linewidth\": 0.3,\n",
    "    \"alpha\":0.5,\n",
    "}\n",
    "\n",
    "genes = {\n",
    "    \"TNNI2\": [3.6], \n",
    "    \"TNNI1\": [2.4],\n",
    "    \"PAX7\": [0]\n",
    "    #'TNNI2':[0], 'MYLPF':[0], 'TPM1':[0], 'TNNT3':[0], 'ENO3':[0], 'MYL1':[0], 'GAPDH':[0], 'SLN':[0], 'PGAM2':[0], 'CKM':[0], 'TPM2':[0], 'MYOZ1':[0], 'YBX3':[0], 'DES':[0], 'COX7A1':[0], 'ACTA1':[0], 'COX6A2':[0], 'TPT1':[0], 'MYH2':[0], 'TCAP':[0], 'RPLP1':[0], 'ACTB':[0], 'MYBPC2':[0], 'EEF1A2':[0], 'SPARCL1':[0], 'SLC25A4':[0], 'B2M':[0], 'TMSB10':[0], 'EEF1A1':[0], 'MALAT1':[0], 'ATP2A1':[0], 'ITM2B':[0], 'PYGM':[0], 'ACTG1':[0], 'IFITM3':[0], 'CD81':[0], 'LGALS3':[0], 'BIN1':[0], 'HLA-A':[0], 'TMSB4X':[0], 'LGALS1':[0], 'KLHL41':[0], 'PTMA':[0], 'VIM':[0], 'PDLIM3':[0], 'MYL6':[0], 'CHCHD10':[0], 'IGFBP7':[0], 'H3F3B':[0], 'MYBPC1':[0], 'CRYAB':[0], 'UQCRB':[0], 'G0S2':[0], 'TIMP3':[0], 'HLA-E':[0], 'ADSSL1':[0], 'RPL3':[0], 'YBX1':[0], 'ITGB1':[0], 'HLA-C':[0], 'SELENOW':[0], 'S100A11':[0], 'CA3':[0], 'CD63':[0], 'DDX5':[0], 'LDHA':[0], 'PGM1':[0], 'NDUFA4':[0], 'S100A10':[0], 'NACA':[0], 'NDUFB10':[0], 'ATP5F1D':[0], 'MT-ND5':[0], 'GSN':[0], 'RPL37A':[0], 'COX7C':[0], 'MTRNR2L12':[0], 'HLA-B':[0], 'JUND':[0], 'TCF4':[0], 'ANXA2':[0], 'MYL12B':[0], 'KLF2':[0], 'CFL1':[0], 'IDH2':[0], 'CALD1':[0], 'TUBA1B':[0], 'TTN':[0], 'TAGLN2':[0], 'RPS2':[0], 'CAV1':[0], 'TUBA1A':[0], 'BTG1':[0], 'JUN':[0], 'MT-ND4':[0], 'FHL1':[0], 'S100A6':[0], 'SMIM37':[0], 'PKM':[0], 'PPIA':[0], 'PDLIM7':[0], 'CMYA5':[0], 'MT-ND3':[0], 'S100A1':[0], 'MT-CYB':[0], 'SON':[0], 'NEAT1':[0], 'MT-CO1':[0], 'RAD23A':[0], 'CDKN1C':[0], 'H3F3A':[0], 'CD59':[0], 'TMBIM6':[0], 'DYNLL1':[0], 'ANXA5':[0], 'CLIC1':[0], 'FHL3':[0], 'SPARC':[0], 'TPI1':[0], 'SPTBN1':[0], 'LAPTM4A':[0], 'TCEA3':[0], 'MTRNR2L8':[0], 'NEB':[0], 'RPL3L':[0], 'GNAI2':[0], 'ITM2A':[0], 'EEF1B2':[0], 'ALDOA':[0], 'CST3':[0], 'STAC3':[0], 'PTMS':[0], 'RPS16':[0], 'SEPT7':[0], 'IER2':[0], 'CLEC14A':[0], 'MT-ND2':[0], 'ACTN2':[0], 'SEC62':[0], 'APP':[0], 'MT-ATP6':[0], 'UQCR11':[0], 'CAVIN1':[0], 'GNG11':[0], 'NRAP':[0], 'AHNAK':[0], 'PPIB':[0], 'HSPG2':[0], 'ANK1':[0], 'ADIRF':[0], 'IFITM2':[0], 'JUNB':[0], 'HSP90B1':[0], 'CDC42':[0], 'COX5A':[0], 'APOBEC2':[0], 'MGLL':[0], 'ZFP36L2':[0], 'YWHAB':[0], 'CD99':[0], 'RHOC':[0], 'PPP1R1A':[0], 'MT-CO2':[0], 'UQCR10':[0], 'ZFP36L1':[0], 'CALR':[0], 'HMGB1':[0], 'DNAJA1':[0], 'PDIA3PDLIM3':[0], 'PSAP':[0], 'RPL38':[0], 'TOMM7':[0], 'DUSP1':[0], 'FOSB':[0], 'CD151':[0], 'DSTN':[0], 'IFI27':[0], 'TACC1':[0], 'NDUFV2':[0], 'TXNIP':[0], 'COX6A1':[0], 'COL4A1':[0], 'MACROD1':[0], 'MT-ND4L':[0], 'SELENOP':[0], 'BST2':[0], 'MT-CO3':[0], 'EMP2':[0], 'MARCKS':[0], 'SRSF3':[0], 'PPP1R27':[0], 'FXYD1':[0], 'HSP90AA1':[0], 'PPDPFL':[0], 'UQCRFS1':[0], 'MYL9':[0], 'DPYSL2':[0], 'RAMP2':[0], 'CYR61':[0], 'WSB1':[0], 'STOM':[0], 'KLF6':[0], 'MT2A':[0], 'MT-ND1':[0], 'UBC':[0], 'PDLIM5':[0], 'FUS':[0], 'DAD1':[0], 'ZBTB20':[0], 'A2M':[0], 'TAGLN':[0], 'RPL13A':[0], 'TRDN':[0], 'MIR133A1HG':[0], 'PDE4DIP':[0], 'MYOT':[0], 'NEXN':[0], 'ATP2A2':[0], 'RBM24':[0], 'MYH7':[0], 'SVIL':[0], 'TNNT1':[0], 'TNNI1':[0], 'EMC10':[0], 'MB':[0], 'LDB3':[0], 'ATP1A2':[0], 'XIRP2':[0], 'LMOD3':[0], 'MYL2':[0], 'TPM3':[0], 'ATP1B1':[0], 'LMOD2':[0], 'PPP1R3A':[0], 'TNNC1':[0], 'AGL':[0], 'TMEM38A':[0], 'FBXO32':[0], 'COQ10A':[0], 'TRIM54':[0], 'POLR2J3-1':[0], 'DWORF':[0], 'CKMT2':[0], 'CSRP3':[0], 'MYL3':[0], 'HSPB7':[0], 'SMPX':[0], 'PEBP4':[0], 'CYB5R1':[0], 'MDH1':[0], 'CASQ1':[0], 'FILIP1':[0], 'AC020909.2':[0], 'MYH7B':[0], 'DMD':[0], 'FABP3':[0], 'TXLNB':[0], 'GAMT':[0], 'CACNG1':[0], 'SCN1B':[0], 'RRAD':[0], 'LRRC39':[0], 'CORO6':[0], 'HOOK2':[0], 'LINC01405':[0], 'PLN':[0], 'RETREG1':[0], 'AMPD1':[0], 'COQ8A':[0], 'LRRC2':[0], 'GOT1':[0], 'FITM1':[0], 'NPHP1':[0], 'MIR1-1HG':[0], 'MYF6':[0], 'RTN2':[0], 'ASB5':[0], 'CFL2':[0], 'PKIA':[0], 'ATP5MC1':[0], 'PDK4':[0], 'N4BP2L2':[0], 'LMCD1':[0], 'SYNPO2':[0], 'MEF2C':[0], 'SIX1':[0], 'MYOM1':[0], 'OBSCN':[0], 'MUC20-OT1':[0], 'FLNC':[0], 'HSPB6':[0], 'CAP2':[0], 'SGCA':[0], 'VDAC1':[0], 'TUBA4A':[0], 'ANKRD9':[0], 'RAMP1':[0], 'MBNL1':[0], 'CAVIN4':[0], 'ZNF106':[0], 'DUSP13':[0], 'SH3BGR':[0], 'IDI2':[0], 'TRIM7':[0], 'PLIN5':[0], 'NDUFV3':[0], 'ANKRD2':[0], 'ANKRD23':[0], 'CEBPB':[0], 'VDAC3':[0], 'MYPN':[0], 'AL451062.1':[0], 'DUSP26':[0], 'ASPH':[0], 'CUTC':[0], 'ASB2':[0], 'ART3':[0], 'NIPSNAP2':[0], 'MYL6B':[0], 'HHATL':[0]\n",
    "    }\n",
    "\n",
    "expr_colors = [\"#67b1ab\", \"yellow\", \"#8d4b91\"]\n"
   ]
  },
  {
   "cell_type": "markdown",
   "metadata": {},
   "source": [
    "#### 300321 genes of interest"
   ]
  },
  {
   "cell_type": "code",
   "execution_count": null,
   "metadata": {},
   "outputs": [],
   "source": [
    "new_genes = ['CXCL8', 'MYOD1',  'HSP90AA1','HSP90AB1', 'HDAC4', \"MYH8\", \"LMNA\", \"NCL\", \"NFE2L2\", \"NNMT\", \"SOD2\",\"NFKBIA\"]\n",
    "new_genes_params = {i:[0] for i in new_genes}\n",
    "expr_colors = [\"#67b1ab\", \"yellow\", \"#8d4b91\"]"
   ]
  },
  {
   "cell_type": "code",
   "execution_count": null,
   "metadata": {
    "scrolled": false
   },
   "outputs": [],
   "source": [
    "musc_expr(genes=genes, anndata=muscvar, figsize=(6,3))\n",
    "#count_matrix = muscvar.raw.X.toarray()\n",
    "#count_matrix[:, np.where(muscvar.raw.var_names.values == \"MYF6\")[0][0]] > 0\n"
   ]
  },
  {
   "cell_type": "code",
   "execution_count": null,
   "metadata": {},
   "outputs": [],
   "source": [
    "musc_expr('./figout/130321/expr_musc_130321/REDO_130321_MuSC_PCA_markers', out=\"png\")\n",
    "musc_expr('./figout/130321/expr_musc_130321/REDO_130321_MuSC_PCA_markers', out=\"pdf\")"
   ]
  },
  {
   "cell_type": "markdown",
   "metadata": {},
   "source": [
    "# Expression boxplot\n",
    "Boxplots for the expression of select genes pre and post-exericse, to elaborate on the demultiplexing of convoluted data"
   ]
  },
  {
   "cell_type": "markdown",
   "metadata": {},
   "source": [
    "## Figure 3 barplots logfoldchanges"
   ]
  },
  {
   "cell_type": "markdown",
   "metadata": {},
   "source": [
    "### Doing violins instead"
   ]
  },
  {
   "cell_type": "code",
   "execution_count": null,
   "metadata": {},
   "outputs": [],
   "source": [
    "data = sc.read_h5ad(\"/home/alirassolie/Documents/arbete/mint_mobile/120521_adata_celltype_prevpost_and_markers\")\n",
    "data_filtered = data[data.obs.annotations.str.contains(\"(?i)sat|myo\")]\n",
    "muscvar = sc.read_h5ad('/home/alirassolie/Documents/arbete/mint_mobile/160720_muscvar.h5ad')\n",
    "muscvar = muscvar[~muscvar.obs.annotations.str.contains(\"19\")]"
   ]
  },
  {
   "cell_type": "code",
   "execution_count": null,
   "metadata": {},
   "outputs": [],
   "source": [
    "import seaborn as sns\n",
    "import random"
   ]
  },
  {
   "cell_type": "code",
   "execution_count": null,
   "metadata": {},
   "outputs": [],
   "source": [
    "def test_log1p(x): \n",
    "    return np.subtract(np.power(np.e, x), 1)\n",
    "\n",
    "def test_log1p_apply(array):\n",
    "    return np.apply_along_axis(test_log1p, 0, array)\n",
    "\n",
    "def test_log1p_countsnormalize(array):\n",
    "    return np.apply_along_axis(test_log1p, 0, array).sum()\n",
    "\n",
    "def test_random_log1p_countsnormalize(adata:'AnnData, AnnData.X == sparse'):\n",
    "    '''Will take an adata object, where the AnnData.X object\n",
    "    neeeds to be a sparse matrix'''\n",
    "    ind = random.randint(0, adata.shape[0])\n",
    "    t = adata.X[ind, :].toarray()\n",
    "    result = test_log1p_countsnormalize(t)\n",
    "    print(f'Testing: UMI index == {ind}')\n",
    "    print(f'Outcome: {result}')\n",
    "    return result\n",
    "\n",
    "def eDiffData(\n",
    "\t\tadata:'AnnData', \n",
    "\t\tkey:str = 'rank_genes_groups'\n",
    "\t\t#cluster:str = 'Muscle cl5',  \n",
    "\t\t)-> pd.DataFrame:\n",
    "\t#\n",
    "\t# eDiffData\n",
    "\t# Extracts the diffexp dataset and returns a dict\n",
    "\t# which can be converted into a pd.DataFrame. \n",
    "\t#\n",
    "\tprint(f'[eDiffData] Running for: {key}')\n",
    "\tcat = ['scores', 'names', 'logfoldchanges', 'pvals', 'pvals_adj']\n",
    "\tdata =[]\n",
    "\tfor c in cat:\n",
    "\t\tprint(f'[eDiffData] iterating: {c}')\n",
    "\t\ttmp = pd.DataFrame(adata.uns[key][c])\n",
    "\t\ttmp.columns = pd.Index([(tmp.columns[0], c)])\n",
    "\t\tdata.append(tmp)\n",
    "\t# Instead of concating on rows, we do along\n",
    "\t# columns, knowing each column is unique\n",
    "\t# so no issues will be had. \n",
    "\tdata = pd.concat(data, axis=1)\n",
    "\treturn data"
   ]
  },
  {
   "cell_type": "code",
   "execution_count": null,
   "metadata": {},
   "outputs": [],
   "source": [
    "for i in range(10):\n",
    "    print(test_random_log1p_countsnormalize(data_filtered))"
   ]
  },
  {
   "cell_type": "code",
   "execution_count": null,
   "metadata": {},
   "outputs": [],
   "source": [
    "data_filtered.obs.annotations"
   ]
  },
  {
   "cell_type": "code",
   "execution_count": null,
   "metadata": {},
   "outputs": [],
   "source": [
    "sc.tl.rank_genes_groups(data_filtered, 'annotations', groups=['Satellite cell'], reference='Myoblast 12', \n",
    "                        method='wilcoxon', key_added=\"sat_12\", use_raw=False)"
   ]
  },
  {
   "cell_type": "code",
   "execution_count": null,
   "metadata": {},
   "outputs": [],
   "source": [
    "eDiffData(data_filtered, \"sat_12\")"
   ]
  },
  {
   "cell_type": "code",
   "execution_count": null,
   "metadata": {},
   "outputs": [],
   "source": [
    "rn_list = multipanel_violin(data_filtered, genes=[\"APOE\", \"RPL3\", \"EEF1A1\"], ncols=3, nrows=3, tick_right=True, figsize=(4,4), toarray=True)"
   ]
  },
  {
   "cell_type": "code",
   "execution_count": null,
   "metadata": {},
   "outputs": [],
   "source": [
    "def gene_distrib(d, genes, s_str, cluster_column):\n",
    "    \"\"\"Returns dataframe with data molten for each gene and a given\n",
    "    column\n",
    "    \n",
    "    Args:\n",
    "        d: AnnData scanpy object\n",
    "        \n",
    "        genes: list object of strings corresponding to gene symbols\n",
    "        \n",
    "        s_str: string to filter d\n",
    "    \n",
    "    \"\"\"\n",
    "    tm = d[d.obs[cluster_column].str.contains(s_str)]\n",
    "    g_vals = pd.DataFrame(tm[:, genes].X)\n",
    "    g_vals.columns = genes\n",
    "    g_vals['batch'] = tm.obs.batch.values\n",
    "    g_vals[cluster_column] = s_str\n",
    "    g_vals_melt = pd.melt(g_vals, ['batch', cluster_column])\n",
    "    return g_vals_melt"
   ]
  },
  {
   "cell_type": "code",
   "execution_count": null,
   "metadata": {},
   "outputs": [],
   "source": [
    "def anndata_for_violin(anndata, gene=\"MYF5\", toarray:bool=False):\n",
    "    geneAnndata = anndata[:, gene]\n",
    "    if not toarray: geneDF = pd.DataFrame({\"normcount\": geneAnndata.X.flatten()})\n",
    "    elif toarray: geneDF = pd.DataFrame({\"normcount\": geneAnndata.X.toarray().flatten()})\n",
    "    geneDF[\"batch\"] = anndata.obs.batch.values\n",
    "    geneDF[\"label\"] = anndata.obs.annotations.values\n",
    "    geneDF[\"celltag\"] = anndata.obs.index.values\n",
    "    geneDF[\"gene\"] = gene\n",
    "    return geneDF"
   ]
  },
  {
   "cell_type": "code",
   "execution_count": null,
   "metadata": {},
   "outputs": [],
   "source": [
    "def multipanel_violin(\n",
    "        anndata, \n",
    "        genes, \n",
    "        ncols=2, \n",
    "        nrows=2, \n",
    "        tick_right=False, \n",
    "        toarray=False,\n",
    "        **kwargs\n",
    "):\n",
    "    fig, axs = plt.subplots(ncols=ncols, nrows=nrows, **kwargs)\n",
    "    axs = axs.flatten()\n",
    "    geneDFs = []\n",
    "    for i,g in enumerate(genes):\n",
    "        geneDF = anndata_for_violin(anndata, g, toarray=toarray)\n",
    "\n",
    "        sns.violinplot(\n",
    "            data=geneDF,\n",
    "            x=\"label\",\n",
    "            y=\"normcount\",\n",
    "            #hue=\"batch\",\n",
    "            #split=True,\n",
    "            ax=axs[i],\n",
    "            legend=None,\n",
    "            inner=\"box\",\n",
    "            palette=[\"#846934\", \"#374684\", \"#dfb359\"],\n",
    "            scale=\"width\",\n",
    "            cut=0,\n",
    "            order=['Satellite cell', 'Myoblast 12', 'Myoblast 3']\n",
    "        )\n",
    "\n",
    "        axs[i].set_ylim(ymin=0)\n",
    "        axs[i].legend([],[], frameon=False)\n",
    "        axs[i].set_xticks([])\n",
    "        axs[i].set_xlabel(g)\n",
    "        axs[i].set_ylabel(\"\")\n",
    "        if tick_right: axs[i].yaxis.tick_right()\n",
    "        plt.tight_layout()\n",
    "        geneDFs.append(geneDF)\n",
    "    \n",
    "    return geneDFs\n"
   ]
  },
  {
   "cell_type": "code",
   "execution_count": null,
   "metadata": {},
   "outputs": [],
   "source": [
    "def multipanel_violin_prepost(\n",
    "        anndata, \n",
    "        genes, \n",
    "        ncols=2, \n",
    "        nrows=2, \n",
    "        toarray=False, \n",
    "        palette=[\"#846934\", \"#374684\", \"#dfb359\", \"#ffffff\"],\n",
    "        **kwargs\n",
    "):\n",
    "    fig, axs = plt.subplots(ncols=ncols, nrows=nrows, **kwargs)\n",
    "    if nrows>1: axs = axs.flatten()\n",
    "    elif nrows==1 and ncols==1: axs = [axs]\n",
    "    geneDFs = []\n",
    "    for i,g in enumerate(genes):\n",
    "        geneDF = anndata_for_violin(anndata, g, toarray=toarray)\n",
    "        \n",
    "        sns.violinplot(\n",
    "            data=geneDF,\n",
    "            x=\"label\",\n",
    "            y=\"normcount\",\n",
    "            hue=\"batch\",\n",
    "            split=True,\n",
    "            ax=axs[i],\n",
    "            legend=\"off\",\n",
    "            inner=None,\n",
    "            palette=palette,\n",
    "            scale=\"width\",\n",
    "            cut=0,\n",
    "            order=['Satellite cell', 'Myoblast 12', 'Myoblast 3']\n",
    "        )\n",
    "        for k, violin in enumerate(axs[i].findobj(mpl.collections.PolyCollection)):\n",
    "            if k % 2:\n",
    "                violin.set_hatch(\"////\")\n",
    "\n",
    "        #axs[i].legend_.findobj(mpl.patches.Rectangle)[1].set_hatch(\"///\")\n",
    "        axs[i].set_xticklabels(axs[i].get_xticklabels(), rotation=30)\n",
    "\n",
    "        axs[i].set_ylim(ymin=0)\n",
    "        \n",
    "        axs[i].set_xticks([])\n",
    "        axs[i].set_xlabel(g)\n",
    "        axs[i].set_ylabel(\"\")\n",
    "        plt.tight_layout()\n",
    "        geneDFs.append(geneDF)\n",
    "        #axs[i].get_legend().remove()\n",
    "        axs[i].legend([],[], frameon=False)\n",
    "    \n",
    "    return geneDFs\n"
   ]
  },
  {
   "cell_type": "code",
   "execution_count": null,
   "metadata": {},
   "outputs": [],
   "source": [
    "def multigrid_violin_prepost(\n",
    "        anndata, \n",
    "        genes, \n",
    "        axs,\n",
    "        ncols=2, \n",
    "        nrows=2, \n",
    "        toarray=False, \n",
    "        palette=[\"#846934\", \"#374684\", \"#dfb359\", \"#ffffff\"],\n",
    "        **kwargs\n",
    "):\n",
    "    \"\"\"Visualize pre vs post for myoblasts.\n",
    "    \"\"\"\n",
    "    # fig, axs = plt.subplots(ncols=ncols, nrows=nrows, **kwargs)\n",
    "    #if nrows>1: axs = axs.flatten()\n",
    "    #elif nrows==1 and ncols==1: axs = [axs]\n",
    "    geneDFs = []\n",
    "    for i,g in enumerate(genes):\n",
    "        geneDF = anndata_for_violin(anndata, g, toarray=toarray)\n",
    "        \n",
    "        sns.violinplot(\n",
    "            data=geneDF,\n",
    "            x=\"label\",\n",
    "            y=\"normcount\",\n",
    "            hue=\"batch\",\n",
    "            split=True,\n",
    "            ax=axs[i],\n",
    "            legend=\"off\",\n",
    "            inner=None,\n",
    "            palette=palette,\n",
    "            scale=\"width\",\n",
    "            cut=0,\n",
    "            # order=['Satellite cell', 'Myoblast 12', 'Myoblast 3']\n",
    "        )\n",
    "        for k, violin in enumerate(axs[i].findobj(mpl.collections.PolyCollection)):\n",
    "            if k % 2:\n",
    "                violin.set_hatch(\"////\")\n",
    "\n",
    "        axs[i].set_xticklabels(axs[i].get_xticklabels(), rotation=30)\n",
    "\n",
    "        #axs[i].set_ylim(ymin=0)\n",
    "        \n",
    "        axs[i].set_xticks([])\n",
    "        axs[i].set_xlabel(g)\n",
    "        axs[i].set_ylabel(\"\")\n",
    "        plt.tight_layout()\n",
    "        geneDFs.append(geneDF)\n",
    "        axs[i].legend([],[], frameon=False)\n",
    "    \n",
    "    return geneDFs\n"
   ]
  },
  {
   "cell_type": "markdown",
   "metadata": {},
   "source": [
    "#### Nine genes"
   ]
  },
  {
   "cell_type": "code",
   "execution_count": null,
   "metadata": {},
   "outputs": [],
   "source": [
    "plt.rcParams['pdf.fonttype'] = 42\n",
    "plt.rcParams['ps.fonttype'] = 42"
   ]
  },
  {
   "cell_type": "code",
   "execution_count": null,
   "metadata": {},
   "outputs": [],
   "source": [
    "top9 = PC_loadings.sort_values(0, ascending=False)[:9]\n",
    "rn_list = multipanel_violin(muscvar, genes=top9.index, ncols=3, nrows=3, tick_right=True, figsize=(4,4))\n",
    "# plt.savefig(\"/home/alirassolie/Documents/misc/fig3_pca_1_vio_9genes.pdf\")"
   ]
  },
  {
   "cell_type": "code",
   "execution_count": null,
   "metadata": {},
   "outputs": [],
   "source": [
    "top9 = PC_loadings.sort_values(1, ascending=False)[:9]\n",
    "rn = multipanel_violin(muscvar, genes=top9.index, ncols=3, nrows=3, figsize=(4,4))\n",
    "#plt.savefig(\"/home/alirassolie/Documents/misc/fig3_pca_2_vio.pdf\")"
   ]
  },
  {
   "cell_type": "markdown",
   "metadata": {},
   "source": [
    "##### Selected markers for violins"
   ]
  },
  {
   "cell_type": "markdown",
   "metadata": {},
   "source": [
    "Satelliter"
   ]
  },
  {
   "cell_type": "code",
   "execution_count": null,
   "metadata": {},
   "outputs": [],
   "source": [
    "# top9 = PC_loadings.sort_values(2, ascending=False)[:9]\n",
    "rn = multipanel_violin(data_filtered, genes=[\"PAX7\", \"APOE\", \"IGFBP5\", \"MYF5\", \"NCAM1\", \"CHRNA1\"], ncols=3, nrows=3, figsize=(4,4), toarray=True, tick_right=True)\n",
    "plt.savefig(\"/home/alirassolie/Documents/arbete/mint_mobile/finalreview/Figure_4_marker_violins_satellite_specific.pdf\")"
   ]
  },
  {
   "cell_type": "markdown",
   "metadata": {},
   "source": [
    "Myoblaster"
   ]
  },
  {
   "cell_type": "code",
   "execution_count": null,
   "metadata": {
    "scrolled": false
   },
   "outputs": [],
   "source": [
    "# top9 = PC_loadings.sort_values(2, ascending=False)[:9]\n",
    "rn = multipanel_violin(data_filtered, genes=[\"ENO3\", \"TNNI2\", \"TNNT3\", \"MYL2\", \"TNNT1\", \"TNNC1\"], ncols=3, nrows=3, figsize=(4,4), toarray=True)\n",
    "plt.savefig(\"/home/alirassolie/Documents/arbete/mint_mobile/finalreview/Figure_4_marker_violins_myoblast_specific.pdf\")"
   ]
  },
  {
   "cell_type": "code",
   "execution_count": null,
   "metadata": {},
   "outputs": [],
   "source": [
    "suppGenes = [\"ENO3\", \"TNNI2\", \"TNNT3\", \"MYL2\", \"TNNT1\", \"TNNC1\", \"PAX7\", \"APOE\", \"IGFBP5\", \"MYF5\", \"NCAM1\", \"CHRNA1\"]\n",
    "dfList = []\n",
    "for g in suppGenes:\n",
    "    dfList.append(anndata_for_violin(data_filtered, gene=g, toarray=True))\n",
    "    \n",
    "suppDf = pd.concat(dfList)"
   ]
  },
  {
   "cell_type": "code",
   "execution_count": null,
   "metadata": {},
   "outputs": [],
   "source": [
    "writer = pd.ExcelWriter(\"/home/alirassolie/Documents/arbete/mint_mobile/finalreview/Supplement_10_Figure_4_boxplot_inner_290922.xlsx\", engine=\"xlsxwriter\")\n",
    "suppDf.to_excel(writer, sheet_name=\"Figure_4_violin_data\")\n",
    "writer.save()"
   ]
  },
  {
   "cell_type": "markdown",
   "metadata": {},
   "source": [
    "#### Four genes"
   ]
  },
  {
   "cell_type": "code",
   "execution_count": null,
   "metadata": {},
   "outputs": [],
   "source": [
    "top4 = PC_loadings.sort_values(0, ascending=False)[:4]\n",
    "rn_list = multipanel_violin(muscvar, genes=top4.index, ncols=2, nrows=2, figsize=(2,2))\n",
    "#plt.savefig(\"/home/alirassolie/Documents/misc/fig3_pca_1_vio.pdf\")"
   ]
  },
  {
   "cell_type": "markdown",
   "metadata": {},
   "source": [
    "#### Eight genes"
   ]
  },
  {
   "cell_type": "code",
   "execution_count": null,
   "metadata": {},
   "outputs": [],
   "source": [
    "top8 = PC_loadings.sort_values(0, ascending=False)[:8]\n",
    "rn_list = multipanel_violin(muscvar, genes=top8.index, ncols=4, nrows=2, tick_right=True, figsize=(4,2))\n",
    "plt.savefig(\"/home/alirassolie/Documents/misc/fig3_pca_1_vio_8genes.pdf\")"
   ]
  },
  {
   "cell_type": "code",
   "execution_count": null,
   "metadata": {},
   "outputs": [],
   "source": [
    "top8 = PC_loadings.sort_values(1, ascending=False)[:8]\n",
    "rn = multipanel_violin(muscvar, genes=top8.index, ncols=4, nrows=2, figsize=(4,2))\n",
    "plt.savefig(\"/home/alirassolie/Documents/misc/fig3_pca_2_vio_8genes.pdf\")"
   ]
  },
  {
   "cell_type": "code",
   "execution_count": null,
   "metadata": {},
   "outputs": [],
   "source": [
    "plt.rcParams['pdf.fonttype'] = 42\n",
    "plt.rcParams['ps.fonttype'] = 42"
   ]
  },
  {
   "cell_type": "code",
   "execution_count": null,
   "metadata": {},
   "outputs": [],
   "source": [
    "tmp = muscvar[muscvar.obs.annotations.str.contains(\"Sat\")]\n",
    "sat = pd.DataFrame(tmp[:, \"\"].X.flatten())\n",
    "sat['batch'] = tmp.obs.batch.values\n",
    "sat['celltype'] = \"Satellite Cells\"\n",
    "\n",
    "fig, axs = plt.subplots(ncols=1, figsize=(2,4))\n",
    "sns.violinplot(data=sat, y=0, x=\"celltype\", hue='batch', split=True, ax=axs, inner=None)\n",
    "axs.set_ylim(ymin=0)\n",
    "axs.legend([],[], frameon=False)"
   ]
  },
  {
   "cell_type": "markdown",
   "metadata": {},
   "source": [
    "### Pre v post"
   ]
  },
  {
   "cell_type": "code",
   "execution_count": null,
   "metadata": {},
   "outputs": [],
   "source": [
    "sat = pd.read_csv('/home/alirassolie/Documents/misc/sat_prevpost.tsv', \n",
    "                  names=[\"gene\", \"score\", \"fc\", \"pval\", \"pval_adj\"],\n",
    "                  delimiter='\\t')\n",
    "slow = pd.read_csv('/home/alirassolie/Documents/misc/slow_prevpost.tsv', \n",
    "                  names=[\"gene\", \"score\", \"fc\", \"pval\", \"pval_adj\"],\n",
    "                  delimiter='\\t')\n",
    "fast = pd.read_csv('/home/alirassolie/Documents/misc/fast_prevpost.tsv', \n",
    "                  names=[\"gene\", \"score\", \"fc\", \"pval\", \"pval_adj\"],\n",
    "                  delimiter='\\t')\n",
    "slow_up = slow[(slow.fc > 0)\n",
    "              & (slow.pval_adj <= 0.05)\n",
    "              ]\n",
    "\n",
    "sat_down = sat[(sat.fc < 0)\n",
    "                & (sat.pval_adj <= 0.05)]\n",
    "\n",
    "slow_down = slow[(slow.fc < 0)\n",
    "              & (slow.pval_adj <= 0.05)\n",
    "              ]\n",
    "\n",
    "sat_up = sat[(sat.fc > 0)\n",
    "                & (sat.pval_adj <= 0.05)]\n",
    "\n",
    "\n",
    "\n",
    "\n",
    "sat_down[sat_down.gene.isin(slow_up.gene)]\n",
    "\n",
    "sat_up[sat_up.gene.isin(slow_down.gene)]"
   ]
  },
  {
   "cell_type": "code",
   "execution_count": null,
   "metadata": {},
   "outputs": [],
   "source": [
    "genes=[\"NNMT\", \"NEAT1\", \"LMNA\",\"MYOZ1\",  \"NR4A1\", \"PDK4\", \"MT1X\", \"SPARCL1\", \"CKM\",\"ACTA1\",]"
   ]
  },
  {
   "cell_type": "code",
   "execution_count": null,
   "metadata": {},
   "outputs": [],
   "source": [
    "ncols = 19\n",
    "nrows = 1\n",
    "figsize = (20,1.3)"
   ]
  },
  {
   "cell_type": "code",
   "execution_count": null,
   "metadata": {
    "scrolled": true
   },
   "outputs": [],
   "source": [
    "fig, axs = plt.subplots(ncols=ncols, nrows=nrows, figsize=figsize)\n",
    "_ = multigrid_violin_prepost(data_filtered[data_filtered.obs.annotations.str.contains(\"12\")], genes=genes, axs=axs, toarray=True)\n",
    "#plt.savefig(\"/home/alirassolie/Documents/misc/fast_prepost_vio.pdf\")\n",
    "plt.show()\n",
    "\n",
    "fig, axs = plt.subplots(ncols=ncols, nrows=nrows, figsize=figsize)\n",
    "_ = multigrid_violin_prepost(data_filtered[data_filtered.obs.annotations.str.contains(\"Sat\")], genes=genes, axs=axs, toarray=True)\n",
    "#plt.savefig(\"/home/alirassolie/Documents/misc/satellites_prepost_vio.pdf\")\n",
    "plt.show()\n",
    "\n",
    "fig, axs = plt.subplots(ncols=ncols, nrows=nrows, figsize=figsize)\n",
    "_ = multigrid_violin_prepost(data_filtered[data_filtered.obs.annotations.str.contains(\"3\")], genes=genes, axs=axs, toarray=True)\n",
    "#plt.savefig(\"/home/alirassolie/Documents/misc/slow_prepost_vio.pdf\")\n",
    "plt.show()"
   ]
  },
  {
   "cell_type": "code",
   "execution_count": null,
   "metadata": {
    "scrolled": false
   },
   "outputs": [],
   "source": [
    "genes = [\"ACTA1\", \"ACTN2\", \"MYL2\", \"MYOZ1\", \"TCAP\", \"TTN\", \"MYH7\", \"XIRP2\", \"DES\", \"TPM2\", \"TNNT1\", \"MYBPC1\", \"NEB\", \"TNNC2\", \"HSP90AA1\", \"SCN1B\", \"NEXN\", \"BIN1\", \"TTN\"]\n",
    "_ = multipanel_violin_prepost(data_filtered, genes, nrows=5, ncols=4, toarray=True, figsize = (10,10))\n"
   ]
  },
  {
   "cell_type": "markdown",
   "metadata": {},
   "source": [
    "# Selecting cells based on marker positivity and negativity"
   ]
  },
  {
   "cell_type": "code",
   "execution_count": null,
   "metadata": {},
   "outputs": [],
   "source": [
    "PAX7_neg_post = muscvar[\n",
    "    (muscvar.raw[:, \"PAX7\"].X.toarray().flatten() == 0)\n",
    "    & (muscvar.obs.batch == \"1\")]"
   ]
  },
  {
   "cell_type": "code",
   "execution_count": null,
   "metadata": {},
   "outputs": [],
   "source": [
    "PAX7_neg_pre = muscvar[\n",
    "    (muscvar.raw[:, \"PAX7\"].X.toarray().flatten() == 0)\n",
    "    & (muscvar.obs.batch == \"0\")]"
   ]
  },
  {
   "cell_type": "code",
   "execution_count": null,
   "metadata": {},
   "outputs": [],
   "source": [
    "sc.pl.pca(PAX7_neg)"
   ]
  },
  {
   "cell_type": "code",
   "execution_count": null,
   "metadata": {},
   "outputs": [],
   "source": [
    "MYOD1_pos_pre = muscvar[\n",
    "    (muscvar.raw[:, \"MYOD1\"].X.toarray().flatten() > 0)\n",
    "    & (muscvar.obs.batch == \"0\")]"
   ]
  },
  {
   "cell_type": "code",
   "execution_count": null,
   "metadata": {},
   "outputs": [],
   "source": [
    "MYOD1_pos_post = muscvar[\n",
    "    (muscvar.raw[:, \"MYOD1\"].X.toarray().flatten() > 0)\n",
    "    & (muscvar.obs.batch == \"1\")]"
   ]
  },
  {
   "cell_type": "code",
   "execution_count": null,
   "metadata": {},
   "outputs": [],
   "source": [
    "MYOD1_pos = muscvar[\n",
    "    (muscvar.raw[:, \"MYOD1\"].X.toarray().flatten() > 0)\n",
    "]"
   ]
  },
  {
   "cell_type": "code",
   "execution_count": null,
   "metadata": {},
   "outputs": [],
   "source": [
    "sc.pl.pca(MYOD1_pos_pre)"
   ]
  },
  {
   "cell_type": "code",
   "execution_count": null,
   "metadata": {},
   "outputs": [],
   "source": [
    "sc.pl.pca(MYOD1_pos_post)"
   ]
  },
  {
   "cell_type": "markdown",
   "metadata": {},
   "source": [
    "### Violin pre post row panel"
   ]
  },
  {
   "cell_type": "code",
   "execution_count": null,
   "metadata": {},
   "outputs": [],
   "source": [
    "data = sc.read_h5ad(\"/home/alirassolie/Documents/120521_adata_celltype_prevpost_and_markers\")\n",
    "data_filtered = data[data.obs.annotations.str.contains(\"(?i)sat|myo\")]"
   ]
  },
  {
   "cell_type": "code",
   "execution_count": null,
   "metadata": {},
   "outputs": [],
   "source": [
    "genes = [\"PAX7\", \"MYOG\", \"NCAM1\"]"
   ]
  },
  {
   "cell_type": "code",
   "execution_count": null,
   "metadata": {},
   "outputs": [],
   "source": [
    "data_filtered.obs.annotations"
   ]
  },
  {
   "cell_type": "code",
   "execution_count": null,
   "metadata": {
    "scrolled": true
   },
   "outputs": [],
   "source": [
    "#plt.rcParams['figure.figsize'] = (4,2)\n",
    "fig, axs = plt.subplots(ncols=1, nrows=len(genes), figsize=(5,8))\n",
    "axs = axs.flatten()\n",
    "\n",
    "#with rc_context({'figure.figsize': (4.5, 3)}):\n",
    "\n",
    "for i, g in enumerate(genes):\n",
    "    sns.violinplot(\n",
    "        data_filtered, \n",
    "        g, \n",
    "        groupby='annotations', \n",
    "        stripplot=False, \n",
    "        rotation=90, \n",
    "        use_raw=False,\n",
    "        scale=\"width\", \n",
    "        ncols=1,\n",
    "        #save=\"_celltype_markers.png\"\n",
    "        ax=axs[i],\n",
    "        xlabel='',\n",
    "        show=False,\n",
    "        fill=None\n",
    "    )\n",
    "    if i < len(genes)-1: axs[i].tick_params(labelbottom = False)\n",
    "\n",
    "plt.tight_layout()\n",
    "plt.show()\n",
    "# plt.savefig(\"./FIGURE_1/280521_celltype_markers_violin_9markers.png\")"
   ]
  },
  {
   "cell_type": "code",
   "execution_count": null,
   "metadata": {},
   "outputs": [],
   "source": [
    "gene_distrib(data_filtered, genes, s_str=\"(?i)sat\", cluster_column=\"annotations\")"
   ]
  },
  {
   "cell_type": "code",
   "execution_count": null,
   "metadata": {},
   "outputs": [],
   "source": [
    "genes = [\"MT1X\"]\n",
    "df = pd.DataFrame(columns=[\"index\", \"normcount\", \"batch\", \"label\", \"gene\"])\n",
    "for g in genes:\n",
    "    df = pd.concat([df, \n",
    "               anndata_for_violin(data_filtered, gene=g, toarray=True)])\n",
    "\n",
    "df = df.loc[:,  [\"normcount\", \"batch\", \"label\", \"gene\"]]"
   ]
  },
  {
   "cell_type": "code",
   "execution_count": null,
   "metadata": {
    "scrolled": true
   },
   "outputs": [],
   "source": [
    "fig, axs = plt.subplots(nrows=3, ncols=1, figsize=(4,4))\n",
    "axs = axs.flatten()\n",
    "for i, s_str in enumerate([\"sat\", \"12\", \"3\"]): \n",
    "    sns.violinplot(\n",
    "        data=df[df.label.str.contains(f\"(?i){s_str}\")],\n",
    "        x=\"gene\",\n",
    "        y=\"normcount\",\n",
    "        hue=\"batch\",\n",
    "        #cut=0,\n",
    "        inner=None,\n",
    "        ax = axs[i],\n",
    "        scale=\"width\",\n",
    "        split=True\n",
    "    )\n",
    "    axs[i].get_legend().remove()\n",
    "    axs[i].set_ylim(ymin=0)\n",
    "\n",
    "plt.tight_layout()\n",
    "# plt.savefig(\"/home/alirassolie/Documents/misc/myoblast_prepost_3row_panel.pdf\")\n"
   ]
  },
  {
   "cell_type": "markdown",
   "metadata": {},
   "source": [
    "### Looking at continuom"
   ]
  },
  {
   "cell_type": "code",
   "execution_count": null,
   "metadata": {},
   "outputs": [],
   "source": [
    "#sc.tl.pca(muscvar, use_highly_variable=True)\n",
    "sc.pl.pca(muscvar, color=[\"TNNI1\"])\n",
    "sc.pl.pca(muscvar, color=[\"TNNI2\"])"
   ]
  },
  {
   "cell_type": "code",
   "execution_count": null,
   "metadata": {},
   "outputs": [],
   "source": [
    "pca_df = pd.DataFrame(muscvar.obsm[\"X_pca\"])"
   ]
  },
  {
   "cell_type": "code",
   "execution_count": null,
   "metadata": {},
   "outputs": [],
   "source": [
    "plt.scatter(pca_df[0], pca_df[1])"
   ]
  },
  {
   "cell_type": "code",
   "execution_count": null,
   "metadata": {},
   "outputs": [],
   "source": [
    "sats = muscvar[muscvar.obs.annotations.str.contains(\"(?i)sat\")]"
   ]
  },
  {
   "cell_type": "code",
   "execution_count": null,
   "metadata": {},
   "outputs": [],
   "source": [
    "sats_df = pd.DataFrame(sats.obsm[\"X_pca\"])"
   ]
  },
  {
   "cell_type": "code",
   "execution_count": null,
   "metadata": {},
   "outputs": [],
   "source": [
    "plt.scatter(sats_df[3], sats_df[4], color=map_PCA_to_RGB(sats, \"MYF5\"))"
   ]
  },
  {
   "cell_type": "code",
   "execution_count": null,
   "metadata": {},
   "outputs": [],
   "source": [
    "def plot_trajectory(anndata, gene, cluster_col=\"annotations\", filter_str=\"sat\", ):\n",
    "    tmp = anndata[anndata.obs[cluster_col].str.contains(f\"(?i){filter_str}\")]\n",
    "    df = pd.DataFrame(tmp.obsm[\"X_pca\"])\n",
    "    df[gene] = tmp[:, gene].X.toarray().flatten()\n",
    "    df = df[df[gene] > 0]\n",
    "    fig, ax = plt.subplots(ncols=1)\n",
    "    ax.scatter(df[0], df[gene])\n",
    "    #ax.set_ylim(ymin=0.1)"
   ]
  },
  {
   "cell_type": "code",
   "execution_count": null,
   "metadata": {},
   "outputs": [],
   "source": [
    "def plot_trajectory(anndata, gene, cluster_col=\"annotations\", filter_str=\"sat\", ax=None, title=\"\", x_title=\"\"):\n",
    "    #fig, ax = plt.subplots(ncols=1)\n",
    "    colors = [\"yellow\", \"brown\"]\n",
    "    for i, b in enumerate(anndata.obs.batch.unique()):\n",
    "        tmp = anndata[anndata.obs[cluster_col].str.contains(f\"(?i){filter_str}\")]\n",
    "        tmp = tmp[tmp.obs.batch == b]\n",
    "        df = pd.DataFrame(tmp.obsm[\"X_pca\"])\n",
    "        df[gene] = tmp[:, gene].X.toarray().flatten()\n",
    "        df = df[df[gene] > 0]\n",
    "        \n",
    "        ax.scatter(df[0], df[gene], c=\"black\", s=3)\n",
    "        #ax.scatter(df[1], df[gene], c=colors[i], s=11)\n",
    "        ax.set_title(title)\n",
    "        ax.set_xlabel(gene)\n",
    "    "
   ]
  },
  {
   "cell_type": "code",
   "execution_count": null,
   "metadata": {},
   "outputs": [],
   "source": [
    "fig, axs = plt.subplots(ncols=1, nrows=2, figsize=(8,5))\n",
    "axs = axs.flatten()\n",
    "plot_trajectory(data_filtered, \"TNNC2\", filter_str=\"12\", ax=axs[0], title=\"Fast-twitch\")"
   ]
  },
  {
   "cell_type": "markdown",
   "metadata": {},
   "source": [
    "##### pre post for given markers"
   ]
  },
  {
   "cell_type": "markdown",
   "metadata": {},
   "source": [
    "Myoblast 12 = Fast twitch\n",
    "\n",
    "Myoblast 3 = Slow twitch"
   ]
  },
  {
   "cell_type": "markdown",
   "metadata": {},
   "source": [
    "#### boxplot"
   ]
  },
  {
   "cell_type": "code",
   "execution_count": null,
   "metadata": {},
   "outputs": [],
   "source": [
    "def plot_boxplot(anndata, gene, cluster_col=\"annotations\", filter_str=\"sat\"):\n",
    "    tmp = anndata[anndata.obs[cluster_col].str.contains(f\"(?i){filter_str}\")]\n",
    "    tmp_pre = tmp[tmp.obs.batch == \"0\"]\n",
    "    tmp_post = tmp[tmp.obs.batch == \"1\"]\n",
    "    df_pre = pd.DataFrame(tmp_pre.obsm[\"X_pca\"])\n",
    "    df_post = pd.DataFrame(tmp_post.obsm[\"X_pca\"])\n",
    "    \n",
    "    df_pre[gene] = tmp_pre[:, gene].X.toarray().flatten()\n",
    "    df_post[gene] = tmp_post[:, gene].X.toarray().flatten()\n",
    "    \n",
    "    df_pre = df_pre[df_pre[gene] > 0]\n",
    "    df_post = df_post[df_post[gene] > 0]\n",
    "    print(\"pre: \", df_pre[df_pre[gene] > 0][gene].median())\n",
    "    print(\"post: \", df_post[df_post[gene] > 0][gene].median())\n",
    "    \n",
    "    plt.boxplot([df_pre[gene], df_post[gene]])\n",
    "    plt.show()"
   ]
  },
  {
   "cell_type": "markdown",
   "metadata": {},
   "source": [
    "# Redoing the principal curve"
   ]
  },
  {
   "cell_type": "code",
   "execution_count": null,
   "metadata": {},
   "outputs": [],
   "source": [
    "from prinpy.local import CLPCG \n",
    "import scanpy as sc\n",
    "import numpy as np\n",
    "import matplotlib.pyplot as plt"
   ]
  },
  {
   "cell_type": "code",
   "execution_count": null,
   "metadata": {},
   "outputs": [],
   "source": [
    "data = sc.read_h5ad(\"/home/alirassolie/Documents/120521_adata_celltype_prevpost_and_markers\")\n",
    "data_filtered = data[data.obs.annotations.str.contains(\"(?i)sat|myo\")]\n",
    "muscvar = sc.read_h5ad('/home/alirassolie/Documents/misc/160720_muscvar.h5ad')\n",
    "muscvar = muscvar[~muscvar.obs.annotations.str.contains(\"19\")]"
   ]
  },
  {
   "cell_type": "code",
   "execution_count": null,
   "metadata": {},
   "outputs": [],
   "source": [
    "cl12 = data_filtered[data_filtered.obs.annotations.str.contains(\"12|Sat\")]\n",
    "cl3 = data_filtered[data_filtered.obs.annotations.str.contains(\"3|Sat\")]"
   ]
  },
  {
   "cell_type": "code",
   "execution_count": null,
   "metadata": {},
   "outputs": [],
   "source": [
    "cl = CLPCG()\n",
    "xdata = cl12.obsm['X_pca'].T[0]\n",
    "ydata = cl12.obsm['X_pca'].T[1]\n",
    "# cl.fit(xdata, ydata, e_max = .5) \n",
    "# cl.plot()       # plots curve, optional axes can be passed\n",
    "plt.plot(cl.points(xdata, ydata, e_max=0.5).T[0], cl.points(xdata, ydata, e_max=0.5).T[1])\n",
    "plt.scatter(xdata, ydata)"
   ]
  },
  {
   "cell_type": "markdown",
   "metadata": {},
   "source": [
    "# Performing linear regression"
   ]
  },
  {
   "cell_type": "code",
   "execution_count": null,
   "metadata": {},
   "outputs": [],
   "source": [
    "import scanpy as sc\n",
    "import pandas as pd\n",
    "import numpy as np\n",
    "import matplotlib.pyplot as plt\n",
    "import seaborn as sns\n",
    "from matplotlib.pyplot import rc_context\n",
    "from matplotlib import cm\n",
    "from matplotlib.colors import ListedColormap, LinearSegmentedColormap\n",
    "from sklearn.linear_model import LinearRegression"
   ]
  },
  {
   "cell_type": "code",
   "execution_count": null,
   "metadata": {},
   "outputs": [],
   "source": [
    "data = sc.read_h5ad(\"/home/alirassolie/Documents/arbete/mint_mobile/120521_adata_celltype_prevpost_and_markers\")\n",
    "data_filtered = data[data.obs.annotations.str.contains(\"(?i)sat|myo\")]\n",
    "muscvar = sc.read_h5ad('/home/alirassolie/Documents/arbete/mint_mobile/160720_muscvar.h5ad')\n",
    "muscvar = muscvar[~muscvar.obs.annotations.str.contains(\"19\")]"
   ]
  },
  {
   "cell_type": "code",
   "execution_count": null,
   "metadata": {},
   "outputs": [],
   "source": [
    "adatavar = sc.read_h5ad(\"/home/alirassolie/Documents/arbete/mint_mobile/003004_230620_adataVar_dpt\")"
   ]
  },
  {
   "cell_type": "code",
   "execution_count": null,
   "metadata": {},
   "outputs": [],
   "source": [
    "muscvar0620 = adatavar[adatavar.obs.annotations.str.contains(\"Sat|Myo\")]"
   ]
  },
  {
   "cell_type": "code",
   "execution_count": null,
   "metadata": {},
   "outputs": [],
   "source": [
    "musvar0620sub = muscvar0620[muscvar0620.obs.annotations.str.contains(\"12|3|Sat\")]"
   ]
  },
  {
   "cell_type": "code",
   "execution_count": null,
   "metadata": {},
   "outputs": [],
   "source": [
    "data_filtered_sub = data_filtered[:, muscvar.var_names]"
   ]
  },
  {
   "cell_type": "code",
   "execution_count": null,
   "metadata": {},
   "outputs": [],
   "source": [
    "sc.pl.pca(data_filtered_sub)"
   ]
  },
  {
   "cell_type": "code",
   "execution_count": null,
   "metadata": {},
   "outputs": [],
   "source": [
    "sc.tl.pca(data_filtered_sub)\n",
    "sc.pl.pca(data_filtered_sub)"
   ]
  },
  {
   "cell_type": "code",
   "execution_count": null,
   "metadata": {},
   "outputs": [],
   "source": [
    "def regressing_anndata_counts(anndata, cluster_col, filter_str, out_df):\n",
    "    '''Returns a dataframe of gene indices, and the corresponding \n",
    "    regression scores for the given genes and the cluster, based on the \n",
    "    filter_str provided\n",
    "    \n",
    "    Arguments:\n",
    "    \n",
    "        anndata:\n",
    "\n",
    "        gene:\n",
    "\n",
    "        cluster_col:\n",
    "\n",
    "        filter_str:\n",
    "\n",
    "        out_df: This is supposed to have indices of the genes that we wish to run thru. \n",
    "    '''\n",
    "    tmp = anndata[anndata.obs[cluster_col].str.contains(f\"(?i){filter_str}\")]\n",
    "    \n",
    "    all_pcs = tmp.obsm[\"X_pca\"].T[0]\n",
    "    for g in out_df.index:\n",
    "        # inverting the sign of the pc1\n",
    "        all_pcs = tmp[:, g].obsm[\"X_pca\"].T[0] * 1\n",
    "        counts = tmp[:, g].X.toarray().flatten()\n",
    "        ind = counts > 0\n",
    "        # X\n",
    "        all_pcs = all_pcs[ind].reshape(-1, 1)\n",
    "        \n",
    "        # y\n",
    "        counts = counts[ind]#.reshape(-1, 1)\n",
    "        \n",
    "        if all_pcs.shape[0] > 30:\n",
    "            model = LinearRegression().fit(all_pcs, counts)\n",
    "            score = model.score(all_pcs, counts)\n",
    "            coeff = model.coef_\n",
    "            print(coeff)\n",
    "            out_df.loc[g, \"regressor_score\"] = score\n",
    "            out_df.loc[g, \"coeff\"] = coeff[0]\n",
    "            \n",
    "    return out_df"
   ]
  },
  {
   "cell_type": "code",
   "execution_count": null,
   "metadata": {},
   "outputs": [],
   "source": [
    "def index_of_cluster(array_of_clusters, search_by): \n",
    "    return np.flatnonzero(np.core.defchararray.find(array_of_clusters, search_by)!=-1)"
   ]
  },
  {
   "cell_type": "code",
   "execution_count": null,
   "metadata": {},
   "outputs": [],
   "source": [
    "# size = len(genes_for_index)\n",
    "size = 2000\n",
    "\n",
    "regress_df = pd.DataFrame(\n",
    "    data = {\n",
    "        \"regressor_score\": np.full(size, 0),\n",
    "        \"coeff\": np.full(size, 0)\n",
    "    },\n",
    "    index = muscvar.var[muscvar.var.highly_variable].index.values\n",
    ")\n",
    "\n",
    "\n",
    "# regressing_anndata_counts(data_filtered, \"annotations\", \"12\", out_df = regress_df)\n",
    "# regressing_anndata_counts(data_filtered, \"annotations\", \"12\", out_df = regress_df)"
   ]
  },
  {
   "cell_type": "code",
   "execution_count": null,
   "metadata": {},
   "outputs": [],
   "source": [
    "fig, axs = plt.subplots(ncols=3, nrows=2, figsize=(8,5))\n",
    "axs = axs.flatten()\n",
    "# plot_trajectory(data_filtered, \"CKM\", filter_str=\"12\", ax=axs[0], title=\"Fast-twitch\")\n",
    "plot_trajectory(data_filtered, \"TNNC2\", filter_str=\"12\", ax=axs[0], title=\"Fast-twitch\")\n",
    "plot_trajectory(data_filtered, \"MYOD1\", filter_str=\"12\", ax=axs[1], title=\"Fast-twitch\")\n",
    "plot_trajectory(data_filtered, \"MYF6\", filter_str=\"12\", ax=axs[2], title=\"Fast-twitch\")\n",
    "\n",
    "plot_trajectory(data_filtered, \"TNNC1\", filter_str=\"3\", ax=axs[3], title=\"Slow-twitch\")\n",
    "plot_trajectory(data_filtered, \"MYOD1\", filter_str=\"3\", ax=axs[4], title=\"Slow-twitch\")\n",
    "plot_trajectory(data_filtered, \"MYF6\", filter_str=\"3\", ax=axs[5], title=\"Slow-twitch\")\n",
    "\n",
    "plt.tight_layout()\n",
    "#plt.savefig(\"/home/alirassolie/Documents/misc/myoblast_expression_scatterplot_along_pc.pdf\")"
   ]
  },
  {
   "cell_type": "code",
   "execution_count": null,
   "metadata": {},
   "outputs": [],
   "source": [
    "def trajectory_data(anndata, gene, cluster_col=\"annotations\", filter_str=\"sat\", ax=None, title=\"\", x_title=\"\"):\n",
    "    tmp = anndata[anndata.obs[cluster_col].str.contains(f\"(?i){filter_str}\")]\n",
    "    df = pd.DataFrame(tmp.obsm[\"X_pca\"])\n",
    "    df[gene] = tmp[:, gene].X.toarray().flatten()\n",
    "    #df = df[df[gene] > 0]\n",
    "    return df    "
   ]
  },
  {
   "cell_type": "code",
   "execution_count": null,
   "metadata": {},
   "outputs": [],
   "source": [
    "import numpy as np\n",
    "import scipy as sp\n",
    "import scipy.stats as stats\n",
    "import matplotlib.pyplot as plt\n"
   ]
  },
  {
   "cell_type": "code",
   "execution_count": null,
   "metadata": {},
   "outputs": [],
   "source": [
    "%matplotlib inline\n",
    "\n",
    "def plot_ci_manual(t, s_err, n, x, x2, y2, ax=None):\n",
    "    \"\"\"Return an axes of confidence bands using a simple approach.\n",
    "\n",
    "    Notes\n",
    "    -----\n",
    "    .. math:: \\left| \\: \\hat{\\mu}_{y|x0} - \\mu_{y|x0} \\: \\right| \\; \\leq \\; T_{n-2}^{.975} \\; \\hat{\\sigma} \\; \\sqrt{\\frac{1}{n}+\\frac{(x_0-\\bar{x})^2}{\\sum_{i=1}^n{(x_i-\\bar{x})^2}}}\n",
    "    .. math:: \\hat{\\sigma} = \\sqrt{\\sum_{i=1}^n{\\frac{(y_i-\\hat{y})^2}{n-2}}}\n",
    "\n",
    "    References\n",
    "    ----------\n",
    "    .. [1] M. Duarte.  \"Curve fitting,\" Jupyter Notebook.\n",
    "       http://nbviewer.ipython.org/github/demotu/BMC/blob/master/notebooks/CurveFitting.ipynb\n",
    "\n",
    "    \"\"\"\n",
    "    if ax is None:\n",
    "        ax = plt.gca()\n",
    "\n",
    "    ci = t * s_err * np.sqrt(1/n + (x2 - np.mean(x))**2 / np.sum((x - np.mean(x))**2))\n",
    "    ax.fill_between(x2, y2 + ci, y2 - ci)\n",
    "\n",
    "    return ax\n",
    "\n",
    "\n",
    "def plot_ci_bootstrap(xs, ys, resid, nboot=500, ax=None):\n",
    "    \"\"\"Return an axes of confidence bands using a bootstrap approach.\n",
    "\n",
    "    Notes\n",
    "    -----\n",
    "    The bootstrap approach iteratively resampling residuals.\n",
    "    It plots `nboot` number of straight lines and outlines the shape of a band.\n",
    "    The density of overlapping lines indicates improved confidence.\n",
    "\n",
    "    Returns\n",
    "    -------\n",
    "    ax : axes\n",
    "        - Cluster of lines\n",
    "        - Upper and Lower bounds (high and low) (optional)  Note: sensitive to outliers\n",
    "\n",
    "    References\n",
    "    ----------\n",
    "    .. [1] J. Stults. \"Visualizing Confidence Intervals\", Various Consequences.\n",
    "       http://www.variousconsequences.com/2010/02/visualizing-confidence-intervals.html\n",
    "\n",
    "    \"\"\" \n",
    "    if ax is None:\n",
    "        ax = plt.gca()\n",
    "\n",
    "    bootindex = sp.random.randint\n",
    "\n",
    "    for _ in range(nboot):\n",
    "        resamp_resid = resid[bootindex(0, len(resid) - 1, len(resid))]\n",
    "        # Make coeffs of for polys\n",
    "        pc = sp.polyfit(xs, ys + resamp_resid, 1)                   \n",
    "        # Plot bootstrap cluster\n",
    "        ax.plot(xs, sp.polyval(pc, xs), \"b-\", linewidth=2, alpha=3.0 / float(nboot))\n",
    "\n",
    "    return ax"
   ]
  },
  {
   "cell_type": "code",
   "execution_count": null,
   "metadata": {},
   "outputs": [],
   "source": [
    "# Modeling with Numpy\n",
    "def equation(a, b):\n",
    "    \"\"\"Return a 1D polynomial.\"\"\"\n",
    "    return np.polyval(a, b) \n",
    "\n",
    "\n",
    "# Plotting --------------------------------------------------------------------\n",
    "\n",
    "def plot_with_confidence(\n",
    "        ax, x, y, weights, heights, score, title=\"\", label=\"\",\n",
    "        \n",
    "):\n",
    "    p, cov = np.polyfit(x, y, 1, cov=True)                     # parameters and covariance from of the fit of 1-D polynom.\n",
    "    y_model = equation(p, x)                                   # model using the fit parameters; NOTE: parameters here are coefficients\n",
    "    print(p, cov)\n",
    "\n",
    "    # Statistics\n",
    "    n = weights.size                                           # number of observations\n",
    "    m = p.size                                                 # number of parameters\n",
    "    dof = n - m                                                # degrees of freedom\n",
    "    t = stats.t.ppf(0.975, n - m)                              # used for CI and PI bands\n",
    "\n",
    "    # Estimates of Error in Data/Model\n",
    "    resid = y - y_model                           \n",
    "    chi2 = np.sum((resid / y_model)**2)                        # chi-squared; estimates error in data\n",
    "    chi2_red = chi2 / dof                                      # reduced chi-squared; measures goodness of fit\n",
    "    s_err = np.sqrt(np.sum(resid**2) / dof)                    # standard deviation of the error\n",
    "\n",
    "    # Data\n",
    "    ax.plot(\n",
    "        x, y, \"o\", color=\"yellow\", \n",
    "        markersize=8, \n",
    "        markeredgewidth=1, \n",
    "        markeredgecolor=\"black\",\n",
    "        markerfacecolor=\"None\",\n",
    "        alpha=0.5\n",
    "    )\n",
    "\n",
    "    # Fit\n",
    "    ax.plot(x, y_model, \"-\", color=\"0.1\", linewidth=1.5, alpha=0.5, label=\"Fit\")  \n",
    "\n",
    "    x2 = np.linspace(np.min(x), np.max(x), 100)\n",
    "    y2 = equation(p, x2)\n",
    "\n",
    "    # Confidence Interval (select one)\n",
    "    plot_ci_manual(t, s_err, n, x, x2, y2, ax=ax)\n",
    "    #plot_ci_bootstrap(x, y, resid, ax=ax)\n",
    "\n",
    "    # Prediction Interval\n",
    "    pi = t * s_err * np.sqrt(1 + 1/n + (x2 - np.mean(x))**2 / np.sum((x - np.mean(x))**2))   \n",
    "    ax.fill_between(x2, y2 + pi, y2 - pi, color=\"None\", linestyle=\"--\")\n",
    "    ax.plot(x2, y2 - pi, \"--\", color=\"0.5\", label=\"95% Prediction Limits\")\n",
    "    ax.plot(x2, y2 + pi, \"--\", color=\"0.5\")\n",
    "\n",
    "\n",
    "    # Figure Modifications --------------------------------------------------------\n",
    "    # Borders\n",
    "    ax.spines[\"top\"].set_color(\"0.5\")\n",
    "    ax.spines[\"bottom\"].set_color(\"0.5\")\n",
    "    ax.spines[\"left\"].set_color(\"0.5\")\n",
    "    ax.spines[\"right\"].set_color(\"0.5\")\n",
    "    ax.get_xaxis().set_tick_params(direction=\"out\")\n",
    "    ax.get_yaxis().set_tick_params(direction=\"out\")\n",
    "    ax.xaxis.tick_bottom()\n",
    "    ax.yaxis.tick_left() \n",
    "\n",
    "    # Labels\n",
    "    ax.set_title(f\"{title}, R^2={score}\", fontsize=\"14\")\n",
    "    ax.set_xlabel(label)\n",
    "    \n",
    "    plt.xlim(np.min(x) - 1, np.max(x) + 1)\n",
    "\n",
    "    # Custom legend\n",
    "    handles, labels = ax.get_legend_handles_labels()\n",
    "    display = (0, 1)\n",
    "\n"
   ]
  },
  {
   "cell_type": "code",
   "execution_count": null,
   "metadata": {},
   "outputs": [],
   "source": [
    "# Modeling with Numpy\n",
    "def equation(a, b):\n",
    "    \"\"\"Return a 1D polynomial.\"\"\"\n",
    "    return np.polyval(a, b) \n",
    "\n",
    "\n",
    "# Plotting --------------------------------------------------------------------\n",
    "\n",
    "def plot_with_confidence(\n",
    "        ax, x, y, weights, heights, score, title=\"\", label=\"\", cl=\"line1\"\n",
    "    ):\n",
    "    p, cov = np.polyfit(x, y, 1, cov=True)   # parameters and covariance from of the fit of 1-D polynom.\n",
    "    y_model = equation(p, x)                 # model using the fit parameters; parameters here are coefficients\n",
    "\n",
    "    # Statistics\n",
    "    n = weights.size                                           # number of observations\n",
    "    m = p.size                                                 # number of parameters\n",
    "    dof = n - m                                                # degrees of freedom\n",
    "    t = stats.t.ppf(0.975, n - m)                              # used for CI and PI bands\n",
    "\n",
    "    # Estimates of Error in Data/Model\n",
    "    resid = y - y_model                           \n",
    "    chi2 = np.sum((resid / y_model)**2)                        # chi-squared; estimates error in data\n",
    "    chi2_red = chi2 / dof                                      # reduced chi-squared; measures goodness of fit\n",
    "    s_err = np.sqrt(np.sum(resid**2) / dof)                    # standard deviation of the error\n",
    "    print(cl)\n",
    "    if cl==\"line2\":\n",
    "        color=\"yellow\"\n",
    "        edge=\"black\"\n",
    "    else:\n",
    "        color=\"blue\"\n",
    "        edge=\"white\"\n",
    "    # Data\n",
    "    ax.plot(\n",
    "        x, y, \"o\", color=color, \n",
    "        markersize=8, \n",
    "        markeredgewidth=1, \n",
    "        markeredgecolor=edge,\n",
    "        # markerfacecolor=\"None\",\n",
    "        #alpha=0.5\n",
    "    )\n",
    "\n",
    "    # Fit\n",
    "    ax.plot(x, y_model, \"-\", color=\"0.1\", linewidth=1.5, alpha=0.5, label=\"Fit\")  \n",
    "\n",
    "    x2 = np.linspace(np.min(x), np.max(x), 100)\n",
    "    y2 = equation(p, x2)\n",
    "\n",
    "    # Confidence Interval (select one)\n",
    "    plot_ci_manual(t, s_err, n, x, x2, y2, ax=ax)\n",
    "    #plot_ci_bootstrap(x, y, resid, ax=ax)\n",
    "\n",
    "    # Prediction Interval\n",
    "    pi = t * s_err * np.sqrt(1 + 1/n + (x2 - np.mean(x))**2 / np.sum((x - np.mean(x))**2))   \n",
    "    ax.fill_between(x2, y2 + pi, y2 - pi, color=\"None\", linestyle=\"--\")\n",
    "    ax.plot(x2, y2 - pi, \"--\", color=\"0.5\", label=\"95% Prediction Limits\")\n",
    "    ax.plot(x2, y2 + pi, \"--\", color=\"0.5\")\n",
    "\n",
    "\n",
    "    # Figure Modifications --------------------------------------------------------\n",
    "    # Borders\n",
    "    ax.spines[\"top\"].set_color(\"0.5\")\n",
    "    ax.spines[\"bottom\"].set_color(\"0.5\")\n",
    "    ax.spines[\"left\"].set_color(\"0.5\")\n",
    "    ax.spines[\"right\"].set_color(\"0.5\")\n",
    "    ax.get_xaxis().set_tick_params(direction=\"out\")\n",
    "    ax.get_yaxis().set_tick_params(direction=\"out\")\n",
    "    ax.xaxis.tick_bottom()\n",
    "    ax.yaxis.tick_left() \n",
    "\n",
    "    # Labels\n",
    "    ax.set_title(f\"{title}, R^2={score}\", fontsize=\"14\")\n",
    "    ax.set_xlabel(label)\n",
    "    \n",
    "    plt.xlim(np.min(x) - 1, np.max(x) + 1)\n",
    "\n",
    "    # Custom legend\n",
    "    handles, labels = ax.get_legend_handles_labels()\n",
    "    display = (0, 1)\n",
    "\n"
   ]
  },
  {
   "cell_type": "code",
   "execution_count": null,
   "metadata": {},
   "outputs": [],
   "source": [
    "\n",
    "size = 5\n",
    "regress_df_selected_genes = pd.DataFrame(\n",
    "    data = {\n",
    "        \"regressor_score\": np.full(size, 0),\n",
    "        \"coeff\": np.full(size, 0)\n",
    "    },\n",
    "    index = [\"TNNC2\", \"MYOD1\", \"MYF6\", \"TNNC1\", \"MYF6\"]\n",
    ")\n",
    "\n",
    "regressors_12_selected = regressing_anndata_counts(data_filtered, \"annotations\", \"12\", regress_df_selected_genes)\n",
    "\n",
    "regress_df_selected_genes = pd.DataFrame(\n",
    "    data = {\n",
    "        \"regressor_score\": np.full(size, 0),\n",
    "        \"coeff\": np.full(size, 0)\n",
    "    },\n",
    "    index = [\"TNNC2\", \"MYOD1\", \"MYF6\", \"TNNC1\", \"MYF6\"]\n",
    ")\n",
    "regressors_3_selected = regressing_anndata_counts(data_filtered, \"annotations\", \"3\", regress_df_selected_genes)\n",
    "print(regressors_12_selected)\n",
    "print(regressors_3_selected)"
   ]
  },
  {
   "cell_type": "code",
   "execution_count": null,
   "metadata": {},
   "outputs": [],
   "source": [
    "scores = {\"12\":\n",
    "       \n",
    "{\"TNNC2\": 0.316457, \n",
    "\"MYOD1\": 0.129255, \n",
    "\"MYF6\":  0.224659, \n",
    "\"TNNC1\": 0.050856, \n",
    "\"MYF6\":  0.224659 \n",
    "},\n",
    "\"3\":\n",
    "       \n",
    "{\"TNNC2\": 0.046891, \n",
    "\"MYOD1\": 0.385308, \n",
    "\"MYF6\":  0.289449, \n",
    "\"TNNC1\": 0.281850, \n",
    "\"MYF6\":  0.289449 }\n",
    "}"
   ]
  },
  {
   "cell_type": "code",
   "execution_count": null,
   "metadata": {
    "scrolled": false
   },
   "outputs": [],
   "source": [
    "\n",
    "fig, axs = plt.subplots(ncols=3, nrows=2, figsize=(10, 5))\n",
    "axs = axs.flatten()\n",
    "for i, (gene, cl) in enumerate(zip([\"TNNC2\", \"MYOD1\", \"MYF6\", \"TNNC1\", \"MYOD1\", \"MYF6\"], [\"12\", \"12\", \"12\", \"3\", \"3\", \"3\"])):\n",
    "    if cl == \"12\": tit = \"Fast-twitch\"\n",
    "    elif cl == \"3\": tit = \"Slow-twitch\"\n",
    "    rn_df = trajectory_data(data_filtered, gene, filter_str=cl, ax=axs[0], title=tit)\n",
    "    rn_df = rn_df.loc[:, [0, gene]]\n",
    "    rn_df = rn_df[rn_df[gene] > 0]\n",
    "\n",
    "    # flipping the sign of pc1\n",
    "    #rn_df.loc[:, 0] = rn_df.loc[:, 0] * -1\n",
    "    \n",
    "    # Computations ----------------------------------------------------------------\n",
    "    # Raw Data\n",
    "    weights = np.array(rn_df[gene])\n",
    "    heights = np.array(rn_df[0])\n",
    "\n",
    "    x = heights\n",
    "    y = weights\n",
    "    if np.min(x) < 0:\n",
    "        x = np.add(x, np.abs(np.min(x)))\n",
    "    plot_with_confidence(ax=axs[i], x=x, y=y, weights=weights, heights=heights, title=tit, label=gene,\n",
    "                        score=scores[cl][gene]\n",
    "                    )\n",
    "\n",
    "# Save Figure\n",
    "plt.tight_layout()\n",
    "\n",
    "#plt.savefig(\"/home/alirassolie/Documents/arbete/mint_mobile/myoblast_scatter_linear_regression.pdf\")"
   ]
  },
  {
   "cell_type": "code",
   "execution_count": null,
   "metadata": {},
   "outputs": [],
   "source": [
    "x1 = np.array([-1, -2, -3, 2, 3, 5])"
   ]
  },
  {
   "cell_type": "code",
   "execution_count": null,
   "metadata": {},
   "outputs": [],
   "source": [
    "x1 + np.abs(np.min(x1))"
   ]
  },
  {
   "cell_type": "code",
   "execution_count": null,
   "metadata": {},
   "outputs": [],
   "source": [
    "sc.tl.pca(data_filtered)\n",
    "sc.pl.pca(data_filtered)"
   ]
  },
  {
   "cell_type": "markdown",
   "metadata": {},
   "source": [
    "# KDE"
   ]
  },
  {
   "cell_type": "code",
   "execution_count": null,
   "metadata": {},
   "outputs": [],
   "source": [
    "fig, ax = plt.subplots()\n",
    "df = pd.DataFrame({\n",
    "    'x': muscvar[(muscvar.obs.annotations.str.contains(\"12\")) & (muscvar.obs.batch == \"0\")].obsm[\"X_pca\"].T[0]*-1,\n",
    "})\n",
    "\n",
    "df.plot.kde(ax=ax)\n",
    "df = pd.DataFrame({\n",
    "'y': muscvar[(muscvar.obs.annotations.str.contains(\"12\")) & (muscvar.obs.batch == \"1\")].obsm[\"X_pca\"].T[0]*-1\n",
    "})\n",
    "\n",
    "df.plot.kde(ax=ax)\n",
    "    "
   ]
  },
  {
   "cell_type": "code",
   "execution_count": null,
   "metadata": {},
   "outputs": [],
   "source": [
    "fig, ax = plt.subplots()\n",
    "df = pd.DataFrame({\n",
    "    'x': muscvar[(muscvar.obs.annotations.str.contains(\"3\")) & (muscvar.obs.batch == \"0\")].obsm[\"X_pca\"].T[0]*-1,\n",
    "})\n",
    "\n",
    "df.plot.kde(ax=ax)\n",
    "df = pd.DataFrame({\n",
    "'y': muscvar[(muscvar.obs.annotations.str.contains(\"3\")) & (muscvar.obs.batch == \"1\")].obsm[\"X_pca\"].T[0]*-1\n",
    "})\n",
    "\n",
    "df.plot.kde(ax=ax)\n",
    "    "
   ]
  },
  {
   "cell_type": "code",
   "execution_count": null,
   "metadata": {},
   "outputs": [],
   "source": [
    "plt.scatter(\n",
    "    muscvar[(muscvar.obs.annotations.str.contains(\"12|3\")) & (muscvar.obs.batch == \"0\")].obsm[\"X_pca\"].T[0]*-1,\n",
    "    muscvar[(muscvar.obs.annotations.str.contains(\"12|3\")) & (muscvar.obs.batch == \"0\")].obsm[\"X_pca\"].T[1],\n",
    ")\n",
    "\n",
    "plt.scatter(\n",
    "    muscvar[(muscvar.obs.annotations.str.contains(\"12|3\")) & (muscvar.obs.batch == \"1\")].obsm[\"X_pca\"].T[0]*-1,\n",
    "    muscvar[(muscvar.obs.annotations.str.contains(\"12|3\")) & (muscvar.obs.batch == \"1\")].obsm[\"X_pca\"].T[1],\n",
    ")"
   ]
  },
  {
   "cell_type": "code",
   "execution_count": null,
   "metadata": {},
   "outputs": [],
   "source": [
    "fig, ax = plt.subplots()\n",
    "df = pd.DataFrame({\n",
    "    'pre': data_filtered[(data_filtered.obs.annotations.str.contains(\"3\")) & (data_filtered.obs.batch == \"0\")].obsm[\"X_pca\"].T[0]*-1,\n",
    "})\n",
    "\n",
    "df.plot.kde(ax=ax)\n",
    "df = pd.DataFrame({\n",
    "'post': data_filtered[(data_filtered.obs.annotations.str.contains(\"3\")) & (data_filtered.obs.batch == \"1\")].obsm[\"X_pca\"].T[0]*-1\n",
    "})\n",
    "\n",
    "df.plot.kde(ax=ax)\n",
    "    "
   ]
  },
  {
   "cell_type": "markdown",
   "metadata": {},
   "source": [
    "# Cumulative Distribution, ECDF"
   ]
  },
  {
   "cell_type": "code",
   "execution_count": null,
   "metadata": {},
   "outputs": [],
   "source": [
    "def ECDF(one_d: np.array, sort:bool=False, perc:bool=False, ax=None):\n",
    "    \"\"\"ECDF function will produce a scatterplot and return \n",
    "    the resulting np.array of the sorted data, with the ECDF\n",
    "    calculated\n",
    "\n",
    "    Arguments:\n",
    "        \n",
    "        one_d: a np.array, a vector containing the data to be ECDF'd\n",
    "\n",
    "        sort: boolean, if the input vector should be sorted before\n",
    "        processed\n",
    "\n",
    "        perc: boolean, if the ECDF should present the cumulative sum \n",
    "        as values of a quotient range(0,1)\n",
    "    \"\"\"\n",
    "\n",
    "    if sort: one_d = one_d[one_d.argsort()];\n",
    "    one_d_shifted = one_d + np.abs(min(one_d));\n",
    "    cum = np.full(one_d.shape[0], 0.0);\n",
    "    total = sum(one_d_shifted);\n",
    "\n",
    "    if perc:\n",
    "        for i in range(cum.shape[0]):\n",
    "            cum[i] = sum(one_d_shifted[:i]) / total;\n",
    "    else:\n",
    "        for i in range(cum.shape[0]):\n",
    "            cum[i] = sum(one_d_shifted[:i]);\n",
    "    if not ax:\n",
    "        plt.scatter(one_d_shifted, cum);\n",
    "        plt.show();\n",
    "    elif ax:\n",
    "        ax.scatter(one_d_shifted, cum);\n",
    "    return (one_d_shifted, cum)"
   ]
  },
  {
   "cell_type": "code",
   "execution_count": null,
   "metadata": {},
   "outputs": [],
   "source": [
    "import numpy as np\n",
    "import matplotlib.pyplot as plt\n",
    "\n",
    "# some fake data\n",
    "data = np.random.randn(1000)\n",
    "# evaluate the histogram\n",
    "values, base = np.histogram(data, bins=40)\n",
    "#evaluate the cumulative\n",
    "cumulative = np.cumsum(values)\n",
    "# plot the cumulative function\n",
    "plt.plot(base[:-1], cumulative, c='blue')\n",
    "#plot the survival function\n",
    "plt.plot(base[:-1], len(data)-cumulative, c='green')\n",
    "\n",
    "plt.show()"
   ]
  },
  {
   "cell_type": "code",
   "execution_count": null,
   "metadata": {},
   "outputs": [],
   "source": [
    "cl12 = muscvar[muscvar.obs.annotations.str.contains(\"12\")]\n",
    "cl3 = muscvar[muscvar.obs.annotations.str.contains(\"3\")]\n",
    "\n",
    "batch_12, batch_3 = [], []\n",
    "\n",
    "for i in range(2): \n",
    "    batch_12.append(cl12[cl12.obs.batch == f\"{i}\"])\n",
    "    batch_3.append(cl3[cl3.obs.batch == f\"{i}\"])"
   ]
  },
  {
   "cell_type": "code",
   "execution_count": null,
   "metadata": {},
   "outputs": [],
   "source": [
    "cl12_pca = pd.DataFrame(cl12.obsm[\"X_pca\"]).loc[:, :1]\n",
    "cl12_pca[\"batch\"] = cl12.obs.batch.values\n",
    "\n",
    "cl3_pca = pd.DataFrame(cl3.obsm[\"X_pca\"]).loc[:, :1]\n",
    "cl3_pca[\"batch\"] = cl3.obs.batch.values"
   ]
  },
  {
   "cell_type": "markdown",
   "metadata": {},
   "source": [
    "Add boxplots"
   ]
  },
  {
   "cell_type": "code",
   "execution_count": null,
   "metadata": {
    "scrolled": false
   },
   "outputs": [],
   "source": [
    "\n",
    "\n",
    "fig, axs = plt.subplots(ncols=2, nrows=1, figsize=(15,6))\n",
    "# axs = axs.flatten()\n",
    "\n",
    "for i in range(2):\n",
    "    pc_df = batch_12[i].obsm[\"X_pca\"].T[0]*-1 + np.sqrt(min(cl12.obsm[\"X_pca\"].T[0]*-1)**2)\n",
    "    values, base = np.histogram(pc_df, bins=20)\n",
    "    cumulative = np.cumsum(values)\n",
    "    axs[0].plot(base[:-1], np.divide(cumulative, cumulative[-1]), linewidth=1)\n",
    "    axs[0].scatter(base[:-1], np.divide(cumulative, cumulative[-1]), linewidth=1)\n",
    "\n",
    "\n",
    "for i in range(2):\n",
    "    pc_df = batch_3[i].obsm[\"X_pca\"].T[0]*-1 + np.sqrt(min(cl3.obsm[\"X_pca\"].T[0]*-1)**2)\n",
    "    values, base = np.histogram(pc_df, bins=20)\n",
    "    cumulative = np.cumsum(values)\n",
    "    axs[1].plot(base[:-1], np.divide(cumulative, cumulative[-1]))\n",
    "    axs[1].scatter(base[:-1], np.divide(cumulative, cumulative[-1]))\n",
    "\n",
    "axs[0].set_xlabel(\"Slow-twitch\")    \n",
    "axs[1].set_xlabel(\"Fast-twitch\")\n",
    "\n",
    "plt.savefig(\"/home/alirassolie/Documents/misc/cumsum_fast_slow.pdf\")\n",
    "\n",
    "plt.tight_layout()"
   ]
  },
  {
   "cell_type": "code",
   "execution_count": null,
   "metadata": {
    "scrolled": false
   },
   "outputs": [],
   "source": [
    "cl12_pca = pd.DataFrame(cl12.obsm[\"X_pca\"]).loc[:, :1]\n",
    "cl12_pca[\"batch\"] = cl12.obs.batch.values"
   ]
  },
  {
   "cell_type": "code",
   "execution_count": null,
   "metadata": {},
   "outputs": [],
   "source": [
    "cl12_pca.loc[:, 'batch'] = cl12_pca.batch.astype(int)\n",
    "cl3_pca.loc[:, 'batch'] = cl3_pca.batch.astype(int)\n"
   ]
  },
  {
   "cell_type": "code",
   "execution_count": null,
   "metadata": {
    "scrolled": true
   },
   "outputs": [],
   "source": [
    "fig, axs = plt.subplots(ncols=2, figsize = (4,2))\n",
    "\n",
    "\n",
    "batch = lambda df, i: df[df.batch == 1]\n",
    "\n",
    "cl12_pca.loc[:, 0] = cl12_pca.loc[:, 0] + np.sqrt(min(cl12_pca[0]) ** 2)\n",
    "cl3_pca.loc[:, 0] = cl3_pca.loc[:, 0] + np.sqrt(min(cl3_pca[0]) ** 2)\n",
    "\n",
    "\n",
    "sns.boxplot(data=cl12_pca, y=0, x=\"batch\", ax=axs[0], showfliers = False)\n",
    "sns.boxplot(data=cl3_pca, y=0, x=\"batch\", ax=axs[1], showfliers = False)\n",
    "\n",
    "plt.tight_layout()\n",
    "plt.savefig(\"/home/alirassolie/Documents/misc/boxplot_fastslow_pca1.pdf\")"
   ]
  },
  {
   "cell_type": "code",
   "execution_count": null,
   "metadata": {
    "scrolled": true
   },
   "outputs": [],
   "source": [
    "fig, axs = plt.subplots(ncols=1)\n",
    "ECDF(batch_12[0].obsm[\"X_pca\"].T[0], sort=True, perc=True, ax=axs)\n",
    "ECDF(batch_12[1].obsm[\"X_pca\"].T[0], sort=True, perc=True, ax=axs)"
   ]
  },
  {
   "cell_type": "markdown",
   "metadata": {},
   "source": [
    "### Outputting a data-matrix"
   ]
  },
  {
   "cell_type": "code",
   "execution_count": null,
   "metadata": {},
   "outputs": [],
   "source": [
    "data_matrix = pd.DataFrame(data_filtered.X.toarray(), columns=data_filtered.var_names, index=data_filtered.obs.index)\n",
    "data_matrix[\"annotation\"] = data_filtered.obs.annotations\n",
    "data_matrix[\"batch\"] = data_filtered.obs.batch\n",
    "data_matrix.to_csv(\"/home/alirassolie/Documents/misc/data_matrix_myoblasts.csv\")\n"
   ]
  },
  {
   "cell_type": "markdown",
   "metadata": {},
   "source": [
    "# Redoing with slingshot coordinates"
   ]
  },
  {
   "cell_type": "code",
   "execution_count": null,
   "metadata": {},
   "outputs": [],
   "source": [
    "from collections import Counter\n",
    "import random\n",
    "import numpy as np\n",
    "import scipy as sp\n",
    "import scipy.stats as stats\n",
    "import matplotlib.pyplot as plt\n",
    "import scanpy as sc\n",
    "import pandas as pd\n",
    "import seaborn as sns\n",
    "from matplotlib.pyplot import rc_context\n",
    "from matplotlib import cm\n",
    "from matplotlib.colors import ListedColormap, LinearSegmentedColormap\n",
    "from sklearn.linear_model import LinearRegression\n",
    "from sklearn.metrics import r2_score"
   ]
  },
  {
   "cell_type": "code",
   "execution_count": null,
   "metadata": {},
   "outputs": [],
   "source": [
    "data = sc.read_h5ad(\"/home/alirassolie/Documents/arbete/mint_mobile/120521_adata_celltype_prevpost_and_markers\")\n",
    "data_filtered = data[data.obs.annotations.str.contains(\"(?i)sat|myo\")]\n",
    "muscvar = sc.read_h5ad('/home/alirassolie/Documents/arbete/mint_mobile/160720_muscvar.h5ad')\n",
    "muscvar = muscvar[~muscvar.obs.annotations.str.contains(\"19\")]\n",
    "pt = pd.read_csv(\"/home/alirassolie/Documents/prwork/klinfys/data/pseudotime_080722.csv\")\n",
    "data_filtered = data_filtered[~data_filtered.obs.annotations.str.contains(\"(?i)sat\")]\n",
    "pre = data_filtered[data_filtered.obs.batch==\"0\"]\n",
    "post = data_filtered[data_filtered.obs.batch==\"1\"]\n",
    "pt_filtered = pt[pt.cells.isin(data_filtered.obs.index.values)]\n",
    "pt_filtered.loc[pt_filtered.line1.notnull(), \"cells\"]\n",
    "pt_filtered.loc[:, \"line1\"] = pt_filtered.loc[:, \"line1\"] - pt_filtered.loc[:, \"line1\"].min()\n",
    "pt_filtered.loc[:, \"line2\"] = pt_filtered.loc[:, \"line2\"] - pt_filtered.loc[:, \"line2\"].min()\n",
    "pt_pre = pt_filtered[pt_filtered.cells.isin(pre.obs.index.values)]\n",
    "pt_post = pt_filtered[pt_filtered.cells.isin(post.obs.index.values)]"
   ]
  },
  {
   "cell_type": "code",
   "execution_count": null,
   "metadata": {},
   "outputs": [],
   "source": [
    "def plot_trajectory(anndata, gene, cluster_col=\"annotations\", filter_str=\"sat\", ax=None, title=\"\", x_title=\"\"):\n",
    "    #fig, ax = plt.subplots(ncols=1)\n",
    "    colors = [\"yellow\", \"brown\"]\n",
    "    for i, b in enumerate(anndata.obs.batch.unique()):\n",
    "        tmp = anndata[anndata.obs[cluster_col].str.contains(f\"(?i){filter_str}\")]\n",
    "        tmp = tmp[tmp.obs.batch == b]\n",
    "        df = pd.DataFrame(tmp.obsm[\"X_pca\"])\n",
    "        df[gene] = tmp[:, gene].X.toarray().flatten()\n",
    "        df = df[df[gene] > 0]\n",
    "        \n",
    "        ax.scatter(df[0], df[gene], c=\"black\", s=3)\n",
    "        #ax.scatter(df[1], df[gene], c=colors[i], s=11)\n",
    "        ax.set_title(title)\n",
    "        ax.set_xlabel(gene)\n",
    "    "
   ]
  },
  {
   "cell_type": "code",
   "execution_count": null,
   "metadata": {},
   "outputs": [],
   "source": [
    "def test_fidelity():\n",
    "    for i in range(100):\n",
    "        i = random.randint(0,2000)\n",
    "        print(data_filtered[pt[pt.line1.notnull()].cells][:, \"TNNI1\"].obs.index.values[i] == pt[pt.line1.notnull()].cells.values[i])"
   ]
  },
  {
   "cell_type": "code",
   "execution_count": null,
   "metadata": {},
   "outputs": [],
   "source": [
    "def scatter_pt(anndata, pseudotime, gene=\"TNNI1\", col=\"line1\", **kwargs):\n",
    "    pseudotime[gene] = anndata[pseudotime.cells][:, gene].X.toarray().flatten()\n",
    "    tm = pseudotime[pseudotime[gene] != 0]\n",
    "    tm = tm[tm[col].notnull()]\n",
    "    plt.scatter(tm[col], tm[gene], **kwargs)\n",
    "    plt.show()"
   ]
  },
  {
   "cell_type": "code",
   "execution_count": null,
   "metadata": {},
   "outputs": [],
   "source": [
    "def return_gene_with_pt(anndata, pseudotime, gene=\"TNNI1\", col=\"line1\", **kwargs):\n",
    "    pseudotime[gene] = anndata[pseudotime.cells][:, gene].X.toarray().flatten()\n",
    "    pseudotime[\"PC0\"] = anndata[pseudotime.cells].obsm[\"X_pca\"][:, 0]\n",
    "    pseudotime[\"PC1\"] = anndata[pseudotime.cells].obsm[\"X_pca\"][:, 1]\n",
    "    tm = pseudotime[pseudotime[gene] != 0]\n",
    "    tm = tm[tm[col].notnull()]\n",
    "    return tm"
   ]
  },
  {
   "cell_type": "code",
   "execution_count": null,
   "metadata": {},
   "outputs": [],
   "source": [
    "%matplotlib inline\n",
    "\n",
    "def plot_ci_manual(t, s_err, n, x, x2, y2, ax=None):\n",
    "    \"\"\"Return an axes of confidence bands using a simple approach.\n",
    "\n",
    "    Notes\n",
    "    -----\n",
    "    .. math:: \\left| \\: \\hat{\\mu}_{y|x0} - \\mu_{y|x0} \\: \\right| \\; \\leq \\; T_{n-2}^{.975} \\; \\hat{\\sigma} \\; \\sqrt{\\frac{1}{n}+\\frac{(x_0-\\bar{x})^2}{\\sum_{i=1}^n{(x_i-\\bar{x})^2}}}\n",
    "    .. math:: \\hat{\\sigma} = \\sqrt{\\sum_{i=1}^n{\\frac{(y_i-\\hat{y})^2}{n-2}}}\n",
    "\n",
    "    References\n",
    "    ----------\n",
    "    .. [1] M. Duarte.  \"Curve fitting,\" Jupyter Notebook.\n",
    "       http://nbviewer.ipython.org/github/demotu/BMC/blob/master/notebooks/CurveFitting.ipynb\n",
    "\n",
    "    \"\"\"\n",
    "    if ax is None:\n",
    "        ax = plt.gca()\n",
    "\n",
    "    ci = t * s_err * np.sqrt(1/n + (x2 - np.mean(x))**2 / np.sum((x - np.mean(x))**2))\n",
    "    ax.fill_between(x2, y2 + ci, y2 - ci)\n",
    "\n",
    "    return ax\n",
    "\n",
    "\n",
    "def plot_ci_bootstrap(xs, ys, resid, nboot=500, ax=None):\n",
    "    \"\"\"Return an axes of confidence bands using a bootstrap approach.\n",
    "\n",
    "    Notes\n",
    "    -----\n",
    "    The bootstrap approach iteratively resampling residuals.\n",
    "    It plots `nboot` number of straight lines and outlines the shape of a band.\n",
    "    The density of overlapping lines indicates improved confidence.\n",
    "\n",
    "    Returns\n",
    "    -------\n",
    "    ax : axes\n",
    "        - Cluster of lines\n",
    "        - Upper and Lower bounds (high and low) (optional)  Note: sensitive to outliers\n",
    "\n",
    "    References\n",
    "    ----------\n",
    "    .. [1] J. Stults. \"Visualizing Confidence Intervals\", Various Consequences.\n",
    "       http://www.variousconsequences.com/2010/02/visualizing-confidence-intervals.html\n",
    "\n",
    "    \"\"\" \n",
    "    if ax is None:\n",
    "        ax = plt.gca()\n",
    "\n",
    "    bootindex = sp.random.randint\n",
    "\n",
    "    for _ in range(nboot):\n",
    "        resamp_resid = resid[bootindex(0, len(resid) - 1, len(resid))]\n",
    "        # Make coeffs of for polys\n",
    "        pc = sp.polyfit(xs, ys + resamp_resid, 1)                   \n",
    "        # Plot bootstrap cluster\n",
    "        ax.plot(xs, sp.polyval(pc, xs), \"b-\", linewidth=2, alpha=3.0 / float(nboot))\n",
    "\n",
    "    return ax"
   ]
  },
  {
   "cell_type": "code",
   "execution_count": null,
   "metadata": {},
   "outputs": [],
   "source": [
    "# Modeling with Numpy\n",
    "def equation(a, b):\n",
    "    \"\"\"Return a 1D polynomial.\"\"\"\n",
    "    return np.polyval(a, b) \n",
    "\n",
    "\n",
    "# Plotting --------------------------------------------------------------------\n",
    "\n",
    "def plot_with_confidence(\n",
    "        ax, x, y, weights, heights, score, title=\"\", label=\"\", cl=\"line1\"\n",
    "    ):\n",
    "    p, cov = np.polyfit(x, y, 1, cov=True)   # parameters and covariance from of the fit of 1-D polynom.\n",
    "    y_model = equation(p, x)                 # model using the fit parameters; parameters here are coefficients\n",
    "\n",
    "    # Statistics\n",
    "    n = weights.size                                           # number of observations\n",
    "    m = p.size                                                 # number of parameters\n",
    "    dof = n - m                                                # degrees of freedom\n",
    "    t = stats.t.ppf(0.975, n - m)                              # used for CI and PI bands\n",
    "\n",
    "    # Estimates of Error in Data/Model\n",
    "    resid = y - y_model                           \n",
    "    chi2 = np.sum((resid / y_model)**2)                        # chi-squared; estimates error in data\n",
    "    chi2_red = chi2 / dof                                      # reduced chi-squared; measures goodness of fit\n",
    "    s_err = np.sqrt(np.sum(resid**2) / dof)                    # standard deviation of the error\n",
    "    print(cl)\n",
    "    if cl==\"line2\":\n",
    "        color=\"yellow\"\n",
    "        edge=\"black\"\n",
    "    else:\n",
    "        color=\"blue\"\n",
    "        edge=\"white\"\n",
    "    # Data\n",
    "    ax.scatter(\n",
    "        x, y, c=x, cmap=\"viridis\",\n",
    "    )\n",
    "\n",
    "    # Fit\n",
    "    ax.plot(x, y_model, \"-\", color=\"0.1\", linewidth=1.5, alpha=0.5, label=\"Fit\")  \n",
    "\n",
    "    x2 = np.linspace(np.min(x), np.max(x), 100)\n",
    "    y2 = equation(p, x2)\n",
    "\n",
    "    # Confidence Interval (select one)\n",
    "    plot_ci_manual(t, s_err, n, x, x2, y2, ax=ax)\n",
    "    #plot_ci_bootstrap(x, y, resid, ax=ax)\n",
    "\n",
    "    # Prediction Interval\n",
    "    pi = t * s_err * np.sqrt(1 + 1/n + (x2 - np.mean(x))**2 / np.sum((x - np.mean(x))**2))   \n",
    "    ax.fill_between(x2, y2 + pi, y2 - pi, color=\"None\", linestyle=\"--\")\n",
    "    ax.plot(x2, y2 - pi, \"--\", color=\"0.5\", label=\"95% Prediction Limits\")\n",
    "    ax.plot(x2, y2 + pi, \"--\", color=\"0.5\")\n",
    "\n",
    "\n",
    "    # Figure Modifications --------------------------------------------------------\n",
    "    # Borders\n",
    "    ax.spines[\"top\"].set_color(\"0.5\")\n",
    "    ax.spines[\"bottom\"].set_color(\"0.5\")\n",
    "    ax.spines[\"left\"].set_color(\"0.5\")\n",
    "    ax.spines[\"right\"].set_color(\"0.5\")\n",
    "    ax.get_xaxis().set_tick_params(direction=\"out\")\n",
    "    ax.get_yaxis().set_tick_params(direction=\"out\")\n",
    "    ax.xaxis.tick_bottom()\n",
    "    ax.yaxis.tick_left() \n",
    "\n",
    "    # Labels\n",
    "    ax.set_title(f\"{title}, R^2={score}\", fontsize=\"14\")\n",
    "    ax.set_xlabel(label)\n",
    "    \n",
    "    plt.xlim(np.min(x) - 1, np.max(x) + 1)\n",
    "\n",
    "    # Custom legend\n",
    "    handles, labels = ax.get_legend_handles_labels()\n",
    "    display = (0, 1)\n",
    "\n"
   ]
  },
  {
   "cell_type": "code",
   "execution_count": null,
   "metadata": {},
   "outputs": [],
   "source": [
    "def regress(x,y):\n",
    "    model = LinearRegression().fit(x, y)\n",
    "    score = model.score(x, y)\n",
    "    coeff = model.coef_\n",
    "    return score"
   ]
  },
  {
   "cell_type": "markdown",
   "metadata": {},
   "source": [
    "#### baseline + post"
   ]
  },
  {
   "cell_type": "code",
   "execution_count": null,
   "metadata": {
    "scrolled": false
   },
   "outputs": [],
   "source": [
    "fig, axs = plt.subplots(ncols=3, nrows=2, figsize=(20, 8))\n",
    "axs = axs.flatten()\n",
    "for i, (gene, cl) in enumerate(zip([\"TNNC2\", \"MYOD1\", \"MYF6\", \"TNNC1\", \"MYOD1\", \"MYF6\"], [\"line1\", \"line1\", \"line1\", \"line2\", \"line2\", \"line2\"])):\n",
    "    dt = return_gene_with_pt(data_filtered, pt_filtered, gene=gene, col=cl)\n",
    "    dt.to_csv(f\"/home/alirassolie/Documents/arbete/mint_mobile/linreg_data_{gene}_{cl}.csv\")\n",
    "    x = dt[cl].values\n",
    "    y = dt[gene].values\n",
    "    score = regress(x.reshape(x.shape[0], 1), y)\n",
    "#     print(\"r2 score \", score) \n",
    "#     print(\"np score \", np.corrcoef(x,y)**2)\n",
    "    plot_with_confidence(\n",
    "                        ax=axs[i], \n",
    "                        x=x, \n",
    "                        y=y, \n",
    "                        weights=x,\n",
    "                        heights=y, \n",
    "                        title=gene, \n",
    "                        label=gene, \n",
    "                        score=f\"{regress(x.reshape(x.shape[0], 1), y)}\"[:4],\n",
    "                        cl=cl\n",
    "                        )\n",
    "# plt.savefig(\"/home/alirassolie/Documents/arbete/mint_mobile/linearregression_slingshotpseudotime_preAndPost.png\")\n",
    "plt.tight_layout()\n",
    "# plt.savefig(\"/home/alirassolie/Documents/arbete/mint_mobile/linearregression_slingshotpseudotime_preAndPost_zeroed.pdf\")\n"
   ]
  },
  {
   "cell_type": "markdown",
   "metadata": {},
   "source": [
    "#### baseline"
   ]
  },
  {
   "cell_type": "code",
   "execution_count": null,
   "metadata": {
    "scrolled": true
   },
   "outputs": [],
   "source": [
    "fig, axs = plt.subplots(ncols=3, nrows=2, figsize=(20, 10))\n",
    "axs = axs.flatten()\n",
    "for i, (gene, cl) in enumerate(zip([\"TNNC2\", \"MYOD1\", \"MYF6\", \"TNNC1\", \"MYOD1\", \"MYF6\"], [\"line1\", \"line1\", \"line1\", \"line2\", \"line2\", \"line2\"])):\n",
    "    dt = return_gene_with_pt(pre, pt_pre, gene=gene, col=cl)\n",
    "    x = dt[cl].values\n",
    "    y = dt[gene].values\n",
    "    score = regress(x.reshape(x.shape[0], 1), y)\n",
    "    print(\"r2 score \", score) \n",
    "    print(\"np score \", np.corrcoef(x,y)**2)\n",
    "    plot_with_confidence(ax=axs[i], x=x,y=y, weights=x,heights=y, \n",
    "                     title=\"\", label=gene, score=f\"{regress(x.reshape(x.shape[0], 1), y)}\"[:4])"
   ]
  },
  {
   "cell_type": "markdown",
   "metadata": {},
   "source": [
    "#### post"
   ]
  },
  {
   "cell_type": "code",
   "execution_count": null,
   "metadata": {
    "scrolled": false
   },
   "outputs": [],
   "source": [
    "fig, axs = plt.subplots(ncols=3, nrows=2, figsize=(20, 10))\n",
    "axs = axs.flatten()\n",
    "for i, (gene, cl) in enumerate(zip([\"TNNC2\", \"MYOD1\", \"MYF6\", \"TNNC1\", \"MYOD1\", \"MYF6\"], [\"line1\", \"line1\", \"line1\", \"line2\", \"line2\", \"line2\"])):\n",
    "    dt = return_gene_with_pt(post, pt_post, gene=gene, col=cl)\n",
    "    x = dt[cl].values\n",
    "    y = dt[gene].values\n",
    "    score = regress(x.reshape(x.shape[0], 1), y)\n",
    "    print(\"r2 score \", score) \n",
    "    print(\"np score \", np.corrcoef(x,y)**2)\n",
    "    plot_with_confidence(ax=axs[i], x=x,y=y, weights=x,heights=y, \n",
    "                     title=\"\", label=gene, score=f\"{regress(x.reshape(x.shape[0], 1), y)}\"[:4])"
   ]
  },
  {
   "cell_type": "markdown",
   "metadata": {},
   "source": [
    "##### Pseudotime as color"
   ]
  },
  {
   "cell_type": "code",
   "execution_count": null,
   "metadata": {},
   "outputs": [],
   "source": [
    "def trajectory_data(anndata, gene, cluster_col=\"annotations\", filter_str=\"sat\", ax=None, title=\"\", x_title=\"\", pt=None):\n",
    "    tmp = anndata[anndata.obs[cluster_col].str.contains(f\"(?i){filter_str}\")]\n",
    "    df = pd.DataFrame(tmp.obsm[\"X_pca\"])\n",
    "    df[gene] = tmp[:, gene].X.toarray().flatten()\n",
    "    return df, tmp"
   ]
  },
  {
   "cell_type": "code",
   "execution_count": null,
   "metadata": {
    "scrolled": false
   },
   "outputs": [],
   "source": [
    "return_gene_with_pt(data_filtered, pt_filtered, gene=gene, col=\"line1\")"
   ]
  },
  {
   "cell_type": "code",
   "execution_count": null,
   "metadata": {
    "scrolled": false
   },
   "outputs": [],
   "source": [
    "fig, axs = plt.subplots(ncols=3, nrows=2, figsize=(10, 5))\n",
    "axs = axs.flatten()\n",
    "for i, (gene, cl) in enumerate(zip([\"TNNC2\", \"MYOD1\", \"MYF6\", \"TNNC1\", \"MYOD1\", \"MYF6\"], [\"line1\", \"line1\", \"line1\", \"line2\", \"line2\", \"line2\"])):\n",
    "    if cl == \"12\": tit = \"Fast-twitch\"\n",
    "    elif cl == \"3\": tit = \"Slow-twitch\"\n",
    "    pt_df_o = return_gene_with_pt(data_filtered, pt_filtered, gene=gene, col=\"line2\")\n",
    "    # rn_df = trajectory_data(data_filtered, gene, filter_str=cl, ax=axs[0], title=tit)\n",
    "    # pt_df = pt_df.loc[:, [0, gene]]\n",
    "    pt_df = pt_df_o[pt_df_o[gene] > 0]\n",
    "\n",
    "    # flipping the sign of pc1\n",
    "    #pt_df.loc[:, \"PC0\"] = pt_df.loc[:, \"PC0\"] * -1\n",
    "    \n",
    "    # Computations ----------------------------------------------------------------\n",
    "    # Raw Data\n",
    "    weights = np.array(pt_df[gene])\n",
    "    heights = np.array(pt_df[\"PC0\"])\n",
    "\n",
    "    x = heights\n",
    "    y = weights\n",
    "    if np.min(x) < 0:\n",
    "        x = np.add(x, np.abs(np.min(x)))\n",
    "    plot_with_confidence(ax=axs[i], x=x, y=y, weights=weights, heights=heights, title=\"\", label=gene,\n",
    "                        score=scores[cl][gene]\n",
    "                    )\n",
    "\n",
    "# Save Figure\n",
    "plt.tight_layout()\n",
    "\n",
    "#plt.savefig(\"/home/alirassolie/Documents/arbete/mint_mobile/myoblast_scatter_linear_regression.pdf\")"
   ]
  },
  {
   "cell_type": "code",
   "execution_count": null,
   "metadata": {},
   "outputs": [],
   "source": [
    "return_gene_with_pt(data_filtered, pt_filtered, gene=gene, col=\"line1\").loc[:, gene]"
   ]
  },
  {
   "cell_type": "markdown",
   "metadata": {},
   "source": [
    "### Redoing the ECDFs after review comments round 2"
   ]
  },
  {
   "cell_type": "code",
   "execution_count": null,
   "metadata": {},
   "outputs": [],
   "source": [
    "def ECDF(one_d: np.array, sort:bool=False, perc:bool=False, ax=None):\n",
    "    \"\"\"ECDF function will produce a scatterplot and return \n",
    "    the resulting np.array of the sorted data, with the ECDF\n",
    "    calculated\n",
    "\n",
    "    Arguments:\n",
    "        \n",
    "        one_d: a np.array, a vector containing the data to be ECDF'd\n",
    "\n",
    "        sort: boolean, if the input vector should be sorted before\n",
    "        processed\n",
    "\n",
    "        perc: boolean, if the ECDF should present the cumulative sum \n",
    "        as values of a quotient range(0,1)\n",
    "    \"\"\"\n",
    "\n",
    "    if sort: one_d = one_d[one_d.argsort()];\n",
    "    one_d_shifted = one_d + np.abs(min(one_d));\n",
    "    cum = np.full(one_d.shape[0], 0.0);\n",
    "    total = sum(one_d_shifted);\n",
    "\n",
    "    if perc:\n",
    "        for i in range(cum.shape[0]):\n",
    "            cum[i] = sum(one_d_shifted[:i]) / total;\n",
    "    else:\n",
    "        for i in range(cum.shape[0]):\n",
    "            cum[i] = sum(one_d_shifted[:i]);\n",
    "    if not ax:\n",
    "        plt.scatter(one_d_shifted, cum);\n",
    "        plt.show();\n",
    "    elif ax:\n",
    "        ax.scatter(one_d_shifted, cum);\n",
    "    return (one_d_shifted, cum)"
   ]
  },
  {
   "cell_type": "code",
   "execution_count": null,
   "metadata": {},
   "outputs": [],
   "source": [
    "def ECDF_histo(one_d: np.array, sort:bool=False, perc:bool=False, ax=None):\n",
    "    \"\"\"ECDF function will produce a scatterplot and return \n",
    "    the resulting np.array of the sorted data, with the ECDF\n",
    "    calculated\n",
    "\n",
    "    Arguments:\n",
    "        \n",
    "        one_d: a np.array, a vector containing the data to be ECDF'd\n",
    "\n",
    "        sort: boolean, if the input vector should be sorted before\n",
    "        processed\n",
    "\n",
    "        perc: boolean, if the ECDF should present the cumulative sum \n",
    "        as values of a quotient range(0,1)\n",
    "    \"\"\"\n",
    "\n",
    "    if sort: one_d = one_d[one_d.argsort()];\n",
    "    one_d_shifted = one_d #+ np.abs(min(one_d));\n",
    "    hi_vals, base = np.histogram(one_d_shifted, bins=20)\n",
    "    cum = np.cumsum(hi_vals)\n",
    "    cum = np.divide(cum, cum[-1])\n",
    "    print(len(cum), len(base))\n",
    "    if not ax:\n",
    "        #plt.scatter(base[:-1], cum);\n",
    "        plt.plot(base[:-1], cum);\n",
    "        plt.show();\n",
    "    elif ax:\n",
    "        #ax.scatter(base[:-1], cum);\n",
    "        ax.plot(base[:-1], cum);\n",
    "    return (one_d_shifted, cum)"
   ]
  },
  {
   "cell_type": "markdown",
   "metadata": {},
   "source": [
    "***LINE1*** FAST Twitch..?"
   ]
  },
  {
   "cell_type": "code",
   "execution_count": null,
   "metadata": {
    "scrolled": true
   },
   "outputs": [],
   "source": [
    "fig, axs = plt.subplots(ncols=1)\n",
    "line1_pre_cum = ECDF(pt_pre.loc[pt_pre.line1.notnull(), \"line1\"].to_numpy(), sort=True, perc=True, ax=axs)\n",
    "line1_post_cum = ECDF(pt_post.loc[pt_post.line1.notnull(), \"line1\"].to_numpy(), sort=True, perc=True, ax=axs)"
   ]
  },
  {
   "cell_type": "code",
   "execution_count": null,
   "metadata": {},
   "outputs": [],
   "source": [
    "fig, axs = plt.subplots(ncols=1)\n",
    "_ = ECDF_histo(pt_pre.loc[pt_pre.line1.notnull(), \"line1\"].to_numpy(), sort=True, perc=True, ax=axs)\n",
    "_ = ECDF_histo(pt_post.loc[pt_post.line1.notnull(), \"line1\"].to_numpy(), sort=True, perc=True, ax=axs)"
   ]
  },
  {
   "cell_type": "markdown",
   "metadata": {},
   "source": [
    "***LINE2*** SLOW Twitch..?"
   ]
  },
  {
   "cell_type": "code",
   "execution_count": null,
   "metadata": {
    "scrolled": true
   },
   "outputs": [],
   "source": [
    "fig, axs = plt.subplots(ncols=1)\n",
    "line2_pre_cum = ECDF(pt_pre.loc[pt_pre.line2.notnull(), \"line2\"].to_numpy(), sort=True, perc=True, ax=axs)\n",
    "line2_post_cum = ECDF(pt_post.loc[pt_post.line2.notnull(), \"line2\"].to_numpy(), sort=True, perc=True, ax=axs)"
   ]
  },
  {
   "cell_type": "code",
   "execution_count": null,
   "metadata": {
    "scrolled": true
   },
   "outputs": [],
   "source": [
    "fig, axs = plt.subplots(ncols=1)\n",
    "_ = ECDF_histo(pt_pre.loc[pt_pre.line2.notnull(), \"line2\"].to_numpy(), sort=True, perc=True, ax=axs)\n",
    "_ = ECDF_histo(pt_post.loc[pt_post.line2.notnull(), \"line2\"].to_numpy(), sort=True, perc=True, ax=axs)"
   ]
  },
  {
   "cell_type": "code",
   "execution_count": null,
   "metadata": {},
   "outputs": [],
   "source": [
    "sns.boxplot(data=[pt_pre.line1, pt_post.line1])\n",
    "plt.show()"
   ]
  },
  {
   "cell_type": "code",
   "execution_count": null,
   "metadata": {
    "scrolled": true
   },
   "outputs": [],
   "source": [
    "sns.boxplot(data=[pt_pre.line2, pt_post.line2])"
   ]
  },
  {
   "cell_type": "code",
   "execution_count": null,
   "metadata": {},
   "outputs": [],
   "source": [
    "writer = pd.ExcelWriter(\"/home/alirassolie/Documents/arbete/mint_mobile/finalreview/Supplement_10_Figure_5_boxplot_290922.xlsx\", engine=\"xlsxwriter\")\n",
    "pt.to_excel(writer, sheet_name=\"Figure_5_boxplot\")\n",
    "writer.save()"
   ]
  },
  {
   "cell_type": "markdown",
   "metadata": {},
   "source": [
    "##### Zeroing the dataset"
   ]
  },
  {
   "cell_type": "code",
   "execution_count": null,
   "metadata": {},
   "outputs": [],
   "source": [
    "def find_min(df1, df2, col):\n",
    "    return np.min([df1.loc[:, col].min(), df2.loc[:, col].min()])\n",
    "    "
   ]
  },
  {
   "cell_type": "code",
   "execution_count": null,
   "metadata": {},
   "outputs": [],
   "source": [
    "line1_const = find_min(pt_pre, pt_post, \"line1\")\n",
    "line2_const = find_min(pt_pre, pt_post, \"line2\")"
   ]
  },
  {
   "cell_type": "code",
   "execution_count": null,
   "metadata": {
    "scrolled": true
   },
   "outputs": [],
   "source": [
    "pt_pre.loc[pt_pre.line1.notnull(), \"line1\"] = pt_pre.loc[pt_pre.loc[:, \"line1\"].notnull(), \"line1\"] - line1_const"
   ]
  },
  {
   "cell_type": "code",
   "execution_count": null,
   "metadata": {},
   "outputs": [],
   "source": [
    "pt_pre.loc[pt_pre.loc[:, \"line2\"].notnull(), \"line2\"] = pt_pre.loc[pt_pre.loc[:, \"line2\"].notnull(), \"line2\"] - line2_const"
   ]
  },
  {
   "cell_type": "code",
   "execution_count": null,
   "metadata": {},
   "outputs": [],
   "source": [
    "pt_post.loc[pt_post.loc[:, \"line2\"].notnull(), \"line2\"] = pt_post.loc[pt_post.loc[:, \"line2\"].notnull(), \"line2\"] - line2_const"
   ]
  },
  {
   "cell_type": "code",
   "execution_count": null,
   "metadata": {},
   "outputs": [],
   "source": [
    "pt_post.loc[pt_post.loc[:, \"line1\"].notnull(), \"line1\"] = pt_post.loc[pt_post.loc[:, \"line1\"].notnull(), \"line1\"] - line1_const"
   ]
  },
  {
   "cell_type": "code",
   "execution_count": null,
   "metadata": {},
   "outputs": [],
   "source": [
    "fig, axs = plt.subplots(ncols=2, nrows=2, figsize=(14,8))#, gridspec_kw={'width_ratios': [3, 3, 1, 1]})\n",
    "axs = axs.flatten()\n",
    "_ = ECDF_histo(pt_pre.loc[pt_pre.line1.notnull(), \"line1\"].to_numpy(), sort=True, perc=True, ax=axs[0])\n",
    "_ = ECDF_histo(pt_post.loc[pt_post.line1.notnull(), \"line1\"].to_numpy(), sort=True, perc=True, ax=axs[0])\n",
    "\n",
    "_ = ECDF_histo(pt_pre.loc[pt_pre.line2.notnull(), \"line2\"].to_numpy(), sort=True, perc=True, ax=axs[1])\n",
    "_ = ECDF_histo(pt_post.loc[pt_post.line2.notnull(), \"line2\"].to_numpy(), sort=True, perc=True, ax=axs[1])\n",
    "\n",
    "sns.boxplot(data=[pt_pre.line1, pt_post.line1], ax=axs[2])\n",
    "sns.boxplot(data=[pt_pre.line2, pt_post.line2], ax=axs[3])\n",
    "\n",
    "axs[0].title.set_text(\"Line1\")\n",
    "axs[1].title.set_text(\"Line2\")\n",
    "# plt.savefig(\"/home/alirassolie/Documents/arbete/mint_mobile/ECDF_withboxplot_withslingshotdata_zeroed.pdf\")"
   ]
  },
  {
   "cell_type": "markdown",
   "metadata": {},
   "source": [
    "#### Labelling the clusters and different differentiation stages"
   ]
  },
  {
   "cell_type": "code",
   "execution_count": null,
   "metadata": {},
   "outputs": [],
   "source": [
    "dt = return_gene_with_pt(data_filtered, pt_filtered, gene=\"MYH3\", col=cl)\n",
    "dt"
   ]
  },
  {
   "cell_type": "code",
   "execution_count": null,
   "metadata": {},
   "outputs": [],
   "source": [
    "data_filtered.X = data_filtered.raw[:, data_filtered.var_names].X\n",
    "\n"
   ]
  },
  {
   "cell_type": "code",
   "execution_count": null,
   "metadata": {},
   "outputs": [],
   "source": [
    "pc1 = muscvar.obsm[\"X_pca\"][:, 0]\n",
    "pc2 = muscvar.obsm[\"X_pca\"][:, 1]"
   ]
  },
  {
   "cell_type": "code",
   "execution_count": null,
   "metadata": {},
   "outputs": [],
   "source": [
    "myh7 = data_filtered[:, \"MYH7\"].X.toarray().flatten() > 0\n",
    "myod = data_filtered[:, \"MYOD1\"].X.toarray().flatten() > 0\n"
   ]
  },
  {
   "cell_type": "code",
   "execution_count": null,
   "metadata": {},
   "outputs": [],
   "source": [
    "sc.pl.umap(data_filtered[myh7 & myod], color=[\"MYH7\", \"MYOD1\"])"
   ]
  },
  {
   "cell_type": "code",
   "execution_count": null,
   "metadata": {},
   "outputs": [],
   "source": [
    "sc.pl.pca(muscvar, color=[\"SYNPO2\", \"PAX7\", \"MYOD1\", \"MYOG\", \"TRIM63\", ], cmap=\"Greys\")"
   ]
  },
  {
   "cell_type": "code",
   "execution_count": null,
   "metadata": {},
   "outputs": [],
   "source": [
    "sc.pl.umap(data, color=[\"SYNPO2\"], cmap=\"Greys\")"
   ]
  },
  {
   "cell_type": "code",
   "execution_count": null,
   "metadata": {},
   "outputs": [],
   "source": []
  },
  {
   "cell_type": "code",
   "execution_count": null,
   "metadata": {},
   "outputs": [],
   "source": [
    "\n",
    "\n",
    "\n",
    "\n",
    "\n",
    "\n",
    "\n",
    "\n",
    "\n",
    "\n",
    "\n",
    "\n",
    "\n",
    "\n",
    "\n",
    "\n",
    "\n",
    "\n",
    "\n",
    "\n",
    "\n"
   ]
  }
 ],
 "metadata": {
  "kernelspec": {
   "display_name": "Python 3 (ipykernel)",
   "language": "python",
   "name": "python3"
  },
  "language_info": {
   "codemirror_mode": {
    "name": "ipython",
    "version": 3
   },
   "file_extension": ".py",
   "mimetype": "text/x-python",
   "name": "python",
   "nbconvert_exporter": "python",
   "pygments_lexer": "ipython3",
   "version": "3.7.0"
  }
 },
 "nbformat": 4,
 "nbformat_minor": 4
}
