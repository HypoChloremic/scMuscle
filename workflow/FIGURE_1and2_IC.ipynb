{
 "cells": [
  {
   "cell_type": "markdown",
   "metadata": {},
   "source": [
    "# FIGURE 1"
   ]
  },
  {
   "cell_type": "code",
   "execution_count": null,
   "metadata": {},
   "outputs": [],
   "source": [
    "import pandas as pd\n",
    "import numpy as np\n",
    "import matplotlib.pyplot as plt\n",
    "import seaborn as sns\n",
    "import scanpy as sc\n",
    "\"\"\"\n",
    "from sklearn.neighbors import KernelDensity\n",
    "import pylab as p\n",
    "import scipy.interpolate as interpolate\n",
    "\"\"\"\n"
   ]
  },
  {
   "cell_type": "code",
   "execution_count": null,
   "metadata": {},
   "outputs": [],
   "source": [
    "import warnings\n",
    "warnings.filterwarnings('ignore')"
   ]
  },
  {
   "cell_type": "code",
   "execution_count": null,
   "metadata": {},
   "outputs": [],
   "source": [
    "%qtconsole"
   ]
  },
  {
   "cell_type": "markdown",
   "metadata": {},
   "source": [
    "# Big Merge Figures"
   ]
  },
  {
   "cell_type": "code",
   "execution_count": null,
   "metadata": {},
   "outputs": [],
   "source": [
    "prefix = \"/home/ali/Documents/prwork/bioinfo/data/manuscript/datasets/paper/figures/figure_1/all_merged\"\n",
    "prefix = \"/home/alirassolie/Documents/manuscript/datasets/paper/figures/figure_1/all_merged\"\n",
    "prefix = \"/home/alirassolie/Documents/arbete/mint_mobile/all_merged\""
   ]
  },
  {
   "cell_type": "code",
   "execution_count": null,
   "metadata": {},
   "outputs": [],
   "source": [
    "all_coords = pd.read_csv(f'{prefix}/all_samples_umap_nodupl_definite.csv')\n",
    "all_meta = pd.read_csv(f'{prefix}/meta_data_all_clean.csv')\n",
    "all_coords.set_index('Unnamed: 0', inplace=True), \n",
    "all_meta.set_index('new.cells', inplace=True)"
   ]
  },
  {
   "cell_type": "code",
   "execution_count": null,
   "metadata": {},
   "outputs": [],
   "source": [
    "alldf = all_coords.join(all_meta)"
   ]
  },
  {
   "cell_type": "code",
   "execution_count": null,
   "metadata": {},
   "outputs": [],
   "source": [
    "ind = np.where(alldf['new.annotations'].str.contains('Myo'))\n",
    "ind1 = np.where(alldf['new.annotations'].str.contains('Sat'))\n",
    "newind = np.concatenate((ind[0], ind1[0]))\n",
    "alldf.iloc[newind].loc[:, 'new.annotations'] = \"Myoblast\""
   ]
  },
  {
   "cell_type": "code",
   "execution_count": null,
   "metadata": {},
   "outputs": [],
   "source": [
    "alldf.replace({'new.annotations': 'Satellite cells'}, \"Myoblast cells\", inplace=True)"
   ]
  },
  {
   "cell_type": "code",
   "execution_count": null,
   "metadata": {},
   "outputs": [],
   "source": [
    "alldf['new.annotations'].unique()"
   ]
  },
  {
   "cell_type": "markdown",
   "metadata": {},
   "source": [
    "### Baseline Functions"
   ]
  },
  {
   "cell_type": "code",
   "execution_count": null,
   "metadata": {},
   "outputs": [],
   "source": [
    "def centroid(df,  ptrn:str, x='UMAP_1', y='UMAP_2',clcol='new.annotations',):\n",
    "    df = df[df[clcol].str.contains(ptrn, case=False)]\n",
    "    x_c = np.median(df[x])\n",
    "    y_c = np.median(df[y])\n",
    "    return x_c,y_c\n",
    "\n",
    "def add_annotation(ax, anndic:dict):\n",
    "    for k,v in zip(anndic.keys(), anndic.values()):\n",
    "        ax.text(s=k, x=v[0], y=v[1], fontsize=20, color='black')"
   ]
  },
  {
   "cell_type": "markdown",
   "metadata": {},
   "source": [
    "### Visualize the data"
   ]
  },
  {
   "cell_type": "markdown",
   "metadata": {},
   "source": [
    "#### The annotations"
   ]
  },
  {
   "cell_type": "code",
   "execution_count": null,
   "metadata": {},
   "outputs": [],
   "source": [
    "ann_dic = {\n",
    "    'Endothelial Cells': centroid(alldf, ptrn='Endo')\n",
    "}"
   ]
  },
  {
   "cell_type": "markdown",
   "metadata": {},
   "source": [
    "#### Main UMAP"
   ]
  },
  {
   "cell_type": "code",
   "execution_count": null,
   "metadata": {},
   "outputs": [],
   "source": [
    "from pylab import * \n",
    "import matplotlib as mpl"
   ]
  },
  {
   "cell_type": "code",
   "execution_count": null,
   "metadata": {},
   "outputs": [],
   "source": [
    "cmap = cm.get_cmap(\"tab20\", 20)\n",
    "\n",
    "for i in range(cmap.N):\n",
    "    rgba = cmap(i)\n",
    "    print(mpl.colors.rgb2hex(rgba))"
   ]
  },
  {
   "cell_type": "code",
   "execution_count": null,
   "metadata": {},
   "outputs": [],
   "source": [
    "celltypePalette = {\n",
    "    \"Endothelial cells\": \"#1f77b4\",\n",
    "    \"Pericyte cells\": \"#2ca02c\",\n",
    "    \"Myoblast cells\": \"#9467bd\",\n",
    "    \"CD14+ Monocyte \": \"#8c564b\",\n",
    "    \"T-cells\": \"#ff7f0e\",\n",
    "    \"Mesenchymal cells\": \"#d62728\"\n",
    "}"
   ]
  },
  {
   "cell_type": "code",
   "execution_count": null,
   "metadata": {
    "scrolled": false
   },
   "outputs": [],
   "source": [
    "''' the default outline is a black edge followed by a\n",
    "thin white edged added around connected clusters.\n",
    "To add an outline\n",
    "three overlapping scatter plots are drawn:\n",
    "First black dots with slightly larger size,\n",
    "then, white dots a bit smaller, but still larger\n",
    "than the final dots. Then the final dots are drawn\n",
    "with some transparency.'''\n",
    "\n",
    "plt.rcParams['figure.figsize'] = (7,7)\n",
    "plt.rcParams['xtick.bottom'] = False\n",
    "plt.rcParams['xtick.labelbottom'] = False\n",
    "plt.rcParams['ytick.left'] = False\n",
    "plt.rcParams['ytick.labelleft'] = False\n",
    "plt.rcParams['figure.dpi'] = 900\n",
    "\n",
    "\n",
    "fig, ax = plt.subplots(ncols=1)\n",
    "\n",
    "sns.scatterplot(alldf.UMAP_1, alldf.UMAP_2, s=3, color='black', edgecolors=None, linewidth=0, ax=ax)\n",
    "t = sns.scatterplot(alldf.UMAP_1, \n",
    "                    alldf.UMAP_2, \n",
    "                    s=1, \n",
    "                    linewidth=0, \n",
    "                    hue=alldf['new.annotations'], \n",
    "                    ax=ax, \n",
    "                    legend=False,\n",
    "                    palette=celltypePalette\n",
    "                   )\n",
    "# sns.despine(left=True, bottom=True, ax=ax)\n",
    "\n",
    "# add_annotation(ax, ann_dic)\n",
    "# plt.savefig('290321_all_merged_umap.pdf', dpi=600, format='png')\n",
    "# plt.savefig('290321_all_merged_umap.pdf')\n",
    "# plt.savefig(f'{prefix}/310321_all_merged_umap.eps')\n",
    "# plt.savefig(f'/home/alirassolie/Documents/misc/all_patients_celltype_correct.png')\n",
    "plt.show()"
   ]
  },
  {
   "cell_type": "code",
   "execution_count": null,
   "metadata": {},
   "outputs": [],
   "source": [
    "# Renaming the batches column\n",
    "names = alldf['celltype.exercise']\n",
    "names = names.str.replace('Post_sample1', '1st, post')\n",
    "names = names.str.replace('Post_sample2', '2nd, post')\n",
    "names = names.str.replace('Post_sample3', '3rd, post')\n",
    "names = names.str.replace('Pre_sample1', '1st donor, pre')\n",
    "names = names.str.replace('Pre_sample2', '2nd donor, pre')\n",
    "names = names.str.replace('Pre_sample3', '3rd donor, pre')\n",
    "\n",
    "names = names.str.replace('Pre_deep', '3rd donor, pre, deep')\n",
    "names = names.str.replace('Post_deep', '3rd donor, post, deep')\n",
    "alldf['official_batches'] = names"
   ]
  },
  {
   "cell_type": "code",
   "execution_count": null,
   "metadata": {},
   "outputs": [],
   "source": [
    "sampleNames = {\n",
    "    'Post_sample1': '1st_post',\n",
    "    'Post_sample2': '2nd_post',\n",
    "    'Post_sample3': '3rd_post',\n",
    "    'Pre_sample1': '1st_donor_pre',\n",
    "    'Pre_sample2': '2nd_donor_pre',\n",
    "    'Pre_sample3': '3rd_donor_pre',\n",
    "    'Pre_deep': '3rd_donor_pre_deep',\n",
    "    'Post_deep': '3rd_donor_post_deep'\n",
    "}"
   ]
  },
  {
   "cell_type": "code",
   "execution_count": null,
   "metadata": {
    "scrolled": false
   },
   "outputs": [],
   "source": [
    "''' the default outline is a black edge followed by a\n",
    "thin white edged added around connected clusters.\n",
    "To add an outline\n",
    "three overlapping scatter plots are drawn:\n",
    "First black dots with slightly larger size,\n",
    "then, white dots a bit smaller, but still larger\n",
    "than the final dots. Then the final dots are drawn\n",
    "with some transparency.'''\n",
    "\n",
    "plt.rcParams['figure.figsize'] = (7,7)\n",
    "plt.rcParams['xtick.bottom'] = False\n",
    "plt.rcParams['xtick.labelbottom'] = False\n",
    "plt.rcParams['ytick.left'] = False\n",
    "plt.rcParams['ytick.labelleft'] = False\n",
    "plt.rcParams['figure.dpi'] = 900\n",
    "\n",
    "fig, ax = plt.subplots(ncols=1)\n",
    "# sns.scatterplot(alldf.UMAP_1, alldf.UMAP_2)\n",
    "sns.scatterplot(alldf.UMAP_1, alldf.UMAP_2, s=3, color='black', edgecolors=None, linewidth=0, ax=ax)\n",
    "sns.scatterplot(alldf.UMAP_1, alldf.UMAP_2, s=2, color='lightgrey', linewidth=0, ax=ax)\n",
    "\n",
    "_deep = alldf[alldf['official_batches'].str.contains('deep')]\n",
    "_shallow= alldf[~alldf['official_batches'].str.contains('deep')]\n",
    "sns.scatterplot(alldf.UMAP_1, alldf.UMAP_2, s=3, linewidth=0, ax=ax, color='black',\n",
    "               legend=False\n",
    "               )\n",
    "sns.scatterplot(_deep.UMAP_1, _deep.UMAP_2, s=1, linewidth=0, hue=_deep['official_batches'], ax=ax, \n",
    "                palette='tab20',\n",
    "               legend=False)\n",
    "sns.scatterplot(_shallow.UMAP_1, _shallow.UMAP_2, s=1, linewidth=0, hue=_shallow['official_batches'], \n",
    "                ax=ax, \n",
    "                palette='Set3',\n",
    "                legend=False)\n",
    "\n",
    "# plt.savefig(f'/home/alirassolie/Documents/misc/all_patients_batch.png')\n",
    "plt.show()\n",
    "\n",
    "# plt.savefig(f'{prefix}/310321_allmerged_integrated_batches_recolored.eps')"
   ]
  },
  {
   "cell_type": "code",
   "execution_count": null,
   "metadata": {},
   "outputs": [],
   "source": [
    "from matplotlib import cm"
   ]
  },
  {
   "cell_type": "code",
   "execution_count": null,
   "metadata": {},
   "outputs": [],
   "source": [
    "alldf[\"celltype.exercise\"].unique()"
   ]
  },
  {
   "cell_type": "code",
   "execution_count": null,
   "metadata": {
    "scrolled": true
   },
   "outputs": [],
   "source": [
    "''' the default outline is a black edge followed by a\n",
    "thin white edged added around connected clusters.\n",
    "To add an outline\n",
    "three overlapping scatter plots are drawn:\n",
    "First black dots with slightly larger size,\n",
    "then, white dots a bit smaller, but still larger\n",
    "than the final dots. Then the final dots are drawn\n",
    "with some transparency.'''\n",
    "\n",
    "plt.rcParams['figure.figsize'] = (3,3)\n",
    "plt.rcParams['axes.linewidth'] = 5 #set the value globally\n",
    "# sns.scatterplot(alldf.UMAP_1, alldf.UMAP_2)\n",
    "b_dic = {\n",
    "    0: 'Deep',\n",
    "    1: 'Shallow'\n",
    "}\n",
    "for i, cl in enumerate(alldf['celltype.exercise'].unique()):\n",
    "    print(sampleNames[cl])\n",
    "    fig, ax = plt.subplots(ncols=1)\n",
    "    # ax = ax.flatten()\n",
    "    alldftm = alldf[alldf['celltype.exercise'] == cl]\n",
    "    sns.scatterplot(alldftm.UMAP_1, alldftm.UMAP_2, s=5, color='black', edgecolors=None, linewidth=0, ax=ax)\n",
    "    # sns.scatterplot(alldftm.UMAP_1, alldftm.UMAP_2, s=1, color='lightgrey', linewidth=0, ax=ax)\n",
    "    t = sns.scatterplot(alldftm.UMAP_1, alldftm.UMAP_2, s=0.7, linewidth=0, hue=alldf['celltype.exercise'], ax=ax)\n",
    "    # sns.despine(left=True, bottom=True, ax=ax)\n",
    "    ax.get_legend().remove()\n",
    "    ax.get_xaxis()#.set_ticks([], '')\n",
    "    ax.get_yaxis()#.set_ticks([], '')\n",
    "    ax.set_xlabel('')\n",
    "    ax.set_ylabel('')\n",
    "    # plt.savefig(f'{prefix}/batches310321/310321_all_batch_layers_batch{i}.png', dpi=200, format='png', bbox_inches='tight')\n",
    "    # plt.savefig(f'{prefix}/batches_310321/310321_all_batch_layers_batch{i}.pdf')\n",
    "    plt.savefig(f'{prefix}/sample_{sampleNames[cl]}.eps')\n",
    "\n",
    "#add_annotation(ax, ann_dic)\n"
   ]
  },
  {
   "cell_type": "markdown",
   "metadata": {},
   "source": [
    "# Redoing the UMAP"
   ]
  },
  {
   "cell_type": "code",
   "execution_count": null,
   "metadata": {},
   "outputs": [],
   "source": [
    "prefix = \"~/Documents/manuscript/datasets/paper/figures/figure_1\""
   ]
  },
  {
   "cell_type": "code",
   "execution_count": null,
   "metadata": {},
   "outputs": [],
   "source": [
    "data = pd.read_csv(f\"{prefix}/020720_adata_metadata_dpt.csv\")"
   ]
  },
  {
   "cell_type": "code",
   "execution_count": null,
   "metadata": {},
   "outputs": [],
   "source": [
    "for i in data.annotations.unique(): print(i)"
   ]
  },
  {
   "cell_type": "code",
   "execution_count": null,
   "metadata": {},
   "outputs": [],
   "source": [
    "data[\"celltype\"] = np.nan"
   ]
  },
  {
   "cell_type": "code",
   "execution_count": null,
   "metadata": {},
   "outputs": [],
   "source": [
    "celltypes = {\n",
    "    \"Endothelial Cells\": [\"Endo\", \"Bad\"],\n",
    "    \"Lymphocyte Cells\": [\"T-cells 13\", \"T-cells 15\"],\n",
    "    \"Pericyte\": [\"Pericyte 5\", \"Pericyte 18\"],\n",
    "    \"Mesenchymal Cells\": [\"Mesenchymal merged\", \"Mesenchymal cell 11\", \"CD16\"],\n",
    "    \"Myoblast Cells\": [\"Myoblast 12\", \"Myoblast 3\", \"Satellite cell\"],\n",
    "    \"Monocyte Cells\": [\"CD14+\"],\n",
    "    \"remove\": [\"Myoblast 19\", \"Remove this cluster\"],\n",
    "}"
   ]
  },
  {
   "cell_type": "markdown",
   "metadata": {},
   "source": [
    "#### SUBCLUSTER"
   ]
  },
  {
   "cell_type": "code",
   "execution_count": null,
   "metadata": {},
   "outputs": [],
   "source": [
    "plt.rcParams['figure.figsize'] = (7,7)\n",
    "plt.rcParams['xtick.bottom'] = False\n",
    "plt.rcParams['xtick.labelbottom'] = False\n",
    "plt.rcParams['ytick.left'] = False\n",
    "plt.rcParams['ytick.labelleft'] = False\n",
    "plt.rcParams['figure.dpi'] = 900\n",
    "\n",
    "fig, ax = plt.subplots(ncols=1)\n",
    "\n",
    "sns.scatterplot(filtered_data.x_um, filtered_data.y_um, s=6, color='black', edgecolors=None, linewidth=0, ax=ax, legend=False)\n",
    "t = sns.scatterplot(filtered_data.x_um, filtered_data.y_um, s=1.2, linewidth=0, hue=filtered_data['annotations'], ax=ax, palette='tab20', legend=False)\n",
    "\n",
    "plt.savefig(f\"{fig1_outpref}/deep_umap_subclusters.png\")"
   ]
  },
  {
   "cell_type": "markdown",
   "metadata": {},
   "source": [
    "#### CELLTYPE"
   ]
  },
  {
   "cell_type": "code",
   "execution_count": null,
   "metadata": {},
   "outputs": [],
   "source": [
    "for key in celltypes:\n",
    "    for el in celltypes[key]:\n",
    "        data.celltype[data.annotations.str.contains(el)] = key"
   ]
  },
  {
   "cell_type": "code",
   "execution_count": null,
   "metadata": {},
   "outputs": [],
   "source": [
    "fig1_outpref = \"/home/ali/Documents/prwork/bioinfo/data/manuscript/datasets/paper/figures/figure_1/FIGURE_1_EPS\"\n",
    "fig1_outpref = \"/home/alirassolie/Documents/misc/\""
   ]
  },
  {
   "cell_type": "code",
   "execution_count": null,
   "metadata": {},
   "outputs": [],
   "source": [
    "filtered_data = data[~data.celltype.str.contains(\"(?i)remove\")]"
   ]
  },
  {
   "cell_type": "code",
   "execution_count": null,
   "metadata": {},
   "outputs": [],
   "source": [
    "plt.rcParams['figure.figsize'] = (7,7)\n",
    "plt.rcParams['xtick.bottom'] = False\n",
    "plt.rcParams['xtick.labelbottom'] = False\n",
    "plt.rcParams['ytick.left'] = False\n",
    "plt.rcParams['ytick.labelleft'] = False\n",
    "plt.rcParams['figure.dpi'] = 900\n",
    "\n",
    "fig, ax = plt.subplots(ncols=1)\n",
    "\n",
    "sns.scatterplot(filtered_data.x_um, filtered_data.y_um, s=6, color='black', edgecolors=None, linewidth=0, ax=ax, legend=False)\n",
    "t = sns.scatterplot(filtered_data.x_um, filtered_data.y_um, s=1.2, linewidth=0, hue=filtered_data['celltype'], ax=ax, palette='tab10', legend=False)\n",
    "\n",
    "plt.savefig(f\"{fig1_outpref}/deep_umap_celltype.png\")"
   ]
  },
  {
   "cell_type": "markdown",
   "metadata": {},
   "source": [
    "# Cell markers"
   ]
  },
  {
   "cell_type": "markdown",
   "metadata": {},
   "source": [
    "##### Known markers"
   ]
  },
  {
   "cell_type": "markdown",
   "metadata": {},
   "source": [
    "Pericyte: ALP (alkaline phosphatase), NG2 proteoglycan, "
   ]
  },
  {
   "cell_type": "code",
   "execution_count": null,
   "metadata": {},
   "outputs": [],
   "source": [
    "import pandas as pd\n",
    "import matplotlib.pyplot as plt\n",
    "import scanpy as sc\n",
    "import seaborn as sns"
   ]
  },
  {
   "cell_type": "code",
   "execution_count": null,
   "metadata": {},
   "outputs": [],
   "source": [
    "from importlib.machinery import SourceFileLoader \n",
    "IM = SourceFileLoader(\"InterconditionalMethods\", \"/home/rullman/scRNAmuscleProject/algorithms/scRNAalgoes/src/scMethods.py\").load_module() "
   ]
  },
  {
   "cell_type": "markdown",
   "metadata": {},
   "source": [
    "##### Data being used\n",
    "**\"100521_adata_celltype_w_prevpost.h5ad\"**: This is the relevant file we are going to use\n",
    "\n",
    "**\"120521_adata_celltype_prevpost_and_markers\"**: recursively, this has been generated with 100521"
   ]
  },
  {
   "cell_type": "code",
   "execution_count": null,
   "metadata": {},
   "outputs": [],
   "source": [
    "sc.settings.figdir = \"FIGURE_1\""
   ]
  },
  {
   "cell_type": "code",
   "execution_count": null,
   "metadata": {},
   "outputs": [],
   "source": [
    "data = sc.read_h5ad(\"100521_adata_celltype_w_prevpost.h5ad\")"
   ]
  },
  {
   "cell_type": "markdown",
   "metadata": {},
   "source": [
    "Removing the unwanted cells"
   ]
  },
  {
   "cell_type": "code",
   "execution_count": null,
   "metadata": {},
   "outputs": [],
   "source": [
    "data = data[~data.obs.celltype.str.contains(\"(?i)rem\")]"
   ]
  },
  {
   "cell_type": "markdown",
   "metadata": {},
   "source": [
    "#### Through the celltype annotations"
   ]
  },
  {
   "cell_type": "code",
   "execution_count": null,
   "metadata": {},
   "outputs": [],
   "source": [
    "sc.tl.rank_genes_groups(data, method='wilcoxon', groupby=\"celltype\")\n",
    "sc.pl.rank_genes_groups(data, n_genes=25, sharey=False, save=\"_celltype_markers.png\")"
   ]
  },
  {
   "cell_type": "code",
   "execution_count": null,
   "metadata": {},
   "outputs": [],
   "source": [
    "IM.test_random_log1p_countsnormalize(data)"
   ]
  },
  {
   "cell_type": "markdown",
   "metadata": {},
   "source": [
    "##### With the celltypes"
   ]
  },
  {
   "cell_type": "code",
   "execution_count": null,
   "metadata": {},
   "outputs": [],
   "source": [
    "for cl in data.obs.celltype.cat.categories:\n",
    "    print(cl)\n",
    "    sc.tl.rank_genes_groups(\n",
    "                data, \n",
    "                'celltype',\n",
    "                groups = [cl],\n",
    "                key_added = f'{cl}_marker',\n",
    "                method = 'wilcoxon',\n",
    "                n_genes = data.shape[1],\n",
    "                only_positive = False, \n",
    "                use_raw=False     \n",
    "            )"
   ]
  },
  {
   "cell_type": "markdown",
   "metadata": {},
   "source": [
    "##### With the subclusters"
   ]
  },
  {
   "cell_type": "code",
   "execution_count": null,
   "metadata": {},
   "outputs": [],
   "source": [
    "for cl in data.obs.annotations.cat.categories:\n",
    "    print(cl)\n",
    "    sc.tl.rank_genes_groups(\n",
    "                data, \n",
    "                'annotations',\n",
    "                groups = [cl],\n",
    "                key_added = f'{cl}_subcl_marker',\n",
    "                method = 'wilcoxon',\n",
    "                n_genes = data.shape[1],\n",
    "                only_positive = False, \n",
    "                use_raw=False     \n",
    "            )"
   ]
  },
  {
   "cell_type": "markdown",
   "metadata": {},
   "source": [
    "Writing the data"
   ]
  },
  {
   "cell_type": "code",
   "execution_count": null,
   "metadata": {},
   "outputs": [],
   "source": [
    "data.write('120521_adata_celltype_prevpost_and_markers', compression='gzip')"
   ]
  },
  {
   "cell_type": "markdown",
   "metadata": {},
   "source": [
    "##### Celltype"
   ]
  },
  {
   "cell_type": "code",
   "execution_count": null,
   "metadata": {},
   "outputs": [],
   "source": [
    "marker_uns = [\"Endothelial Cells_marker\", \"Lymphocyte Cells_marker\", \"Mesenchymal Cells_marker\", \"Monocyte Cells_marker\", \"Myoblast Cells_marker\", \"Pericyte_marker\"]"
   ]
  },
  {
   "cell_type": "code",
   "execution_count": null,
   "metadata": {},
   "outputs": [],
   "source": [
    "IM.add_pct_dichot(data, clusters = data.obs.celltype.cat.categories, \n",
    "clusterColumn = \"celltype\", groupColumn = 'celltype', keys=marker_uns, out=f\"120521_adata_celltype_markers.xlsx\", save = 'excel')\n"
   ]
  },
  {
   "cell_type": "markdown",
   "metadata": {},
   "source": [
    "##### Subclusters"
   ]
  },
  {
   "cell_type": "code",
   "execution_count": null,
   "metadata": {},
   "outputs": [],
   "source": [
    "marker_uns = [\"Bad annotation_subcl_marker\",  \"CD14+ Monocyte_subcl_marker\",  \"CD16+ Monocyte_subcl_marker\",  \"Endothelial 2_subcl_marker\",  \"Endothelial Cell 0_subcl_marker\",  \"Endothelial Cell 20_subcl_marker\",  \"Mesenchymal cell 11_subcl_marker\",  \"Mesenchymal merged_subcl_marker\",  \"Myoblast 12_subcl_marker\",  \"Myoblast 3_subcl_marker\",  \"Pericyte 18_subcl_marker\",  \"Pericyte 5_subcl_marker\",  \"Satellite cell_subcl_marker\",  \"T-cells 13_subcl_marker\",  \"T-cells 15_subcl_marker\"]"
   ]
  },
  {
   "cell_type": "code",
   "execution_count": null,
   "metadata": {},
   "outputs": [],
   "source": [
    "IM.add_pct_dichot(data, clusters = data.obs.annotations.cat.categories, \n",
    "    clusterColumn = \"annotations\", groupColumn = 'annotations', \n",
    "    keys=marker_uns, out=f\"120521_adata_subcl_markers.xlsx\", save = 'excel')\n"
   ]
  },
  {
   "cell_type": "markdown",
   "metadata": {},
   "source": [
    "### Dotplot"
   ]
  },
  {
   "cell_type": "code",
   "execution_count": null,
   "metadata": {},
   "outputs": [],
   "source": [
    "marker_genes = [\"FABP4\", \"VWF\", \"HLA-B\", \"PTPRC\", \"SRGN\", \"HCST\", \"DCN\", \"CFD\", \"COL1A2\", \"TYROBP\", \"AIF1\", \"HLA-DRA\", \"CRYAB\", \"GAPDH\", \"DES\", \"ACTA2\", \"NDUFA4L2\", \"CPE\"]"
   ]
  },
  {
   "cell_type": "code",
   "execution_count": null,
   "metadata": {},
   "outputs": [],
   "source": [
    "sc.pl.dotplot(data, marker_genes, groupby='celltype', save=\"_celltype_markers.png\");"
   ]
  },
  {
   "cell_type": "markdown",
   "metadata": {},
   "source": [
    "# Violin - IMPORTANT, for FIG1"
   ]
  },
  {
   "cell_type": "code",
   "execution_count": null,
   "metadata": {},
   "outputs": [],
   "source": [
    "import pandas as pd\n",
    "import numpy as np\n",
    "import scanpy as sc\n",
    "import matplotlib.pyplot as plt"
   ]
  },
  {
   "cell_type": "code",
   "execution_count": null,
   "metadata": {},
   "outputs": [],
   "source": [
    "from matplotlib.pyplot import rc_context"
   ]
  },
  {
   "cell_type": "code",
   "execution_count": null,
   "metadata": {},
   "outputs": [],
   "source": [
    "%qtconsole"
   ]
  },
  {
   "cell_type": "code",
   "execution_count": null,
   "metadata": {},
   "outputs": [],
   "source": [
    "genes_for_violin = {\n",
    "    \"Endo\": [\"FLT1\"],\n",
    "    \"Pericytes\": [\"ACTA2\"],\n",
    "    \"Mesenchymal\": [\"DCN\"],\n",
    "    \"Myoblast\": [\"DES\"],\n",
    "    \"Lymphocyte\": [\"CCL4\", \"CCL5\"],\n",
    "    \"Monocytes\": [\"CD14\"]\n",
    "}\n",
    "\n",
    "genes = ['VWF','ESAM', 'ACTA2', 'DCN', 'DES', 'CCL4', 'CD14']\n",
    "genes = ['VWF','ESAM','FLT1', 'TMSB4X', 'ACTA2', 'DCN', 'DES', 'CCL5', 'CD14']\n",
    "genes = ['ESAM', 'VWF', 'CCL5', 'CXCL8', 'DCN', 'CD14', 'DES', 'PAX7', 'ACTA2'] # 280521"
   ]
  },
  {
   "cell_type": "code",
   "execution_count": null,
   "metadata": {},
   "outputs": [],
   "source": [
    "### Prefices\n",
    "### Adata\n",
    "# prefixMobile = \"/home/alirassolie/Documents/\"\n",
    "prefixStationary = \"/home/alirassolie/Documents/arbete/mint_mobile/\""
   ]
  },
  {
   "cell_type": "code",
   "execution_count": null,
   "metadata": {},
   "outputs": [],
   "source": [
    "# data = sc.read_h5ad(\"120521_adata_celltype_prevpost_and_markers\")"
   ]
  },
  {
   "cell_type": "code",
   "execution_count": null,
   "metadata": {},
   "outputs": [],
   "source": [
    "data = sc.read_h5ad(f\"{prefixStationary}/120521_adata_celltype_prevpost_and_markers\")"
   ]
  },
  {
   "cell_type": "code",
   "execution_count": null,
   "metadata": {},
   "outputs": [],
   "source": [
    "data.X = data.X.toarray()"
   ]
  },
  {
   "cell_type": "code",
   "execution_count": null,
   "metadata": {},
   "outputs": [],
   "source": [
    "sc.settings.figdir = \"FIGURE_2\" # 290922"
   ]
  },
  {
   "cell_type": "code",
   "execution_count": null,
   "metadata": {},
   "outputs": [],
   "source": [
    "raw = data.raw.to_adata()"
   ]
  },
  {
   "cell_type": "code",
   "execution_count": null,
   "metadata": {},
   "outputs": [],
   "source": [
    "raw.X = raw.X.toarray()"
   ]
  },
  {
   "cell_type": "code",
   "execution_count": null,
   "metadata": {},
   "outputs": [],
   "source": [
    "with rc_context({'figure.figsize': (4.5, 3)}):\n",
    "    sc.pl.violin(raw, genes, groupby='celltype', rotation=45, color_map=\"tab10\",\n",
    "                # save=\"_testing.png\",\n",
    "                 ncols=1\n",
    "                )"
   ]
  },
  {
   "cell_type": "code",
   "execution_count": null,
   "metadata": {
    "scrolled": true
   },
   "outputs": [],
   "source": [
    "with rc_context({'figure.figsize': (4.5, 3)}):\n",
    "    sc.pl.violin(raw, genes, groupby='celltype', \n",
    "                 #save=\"_celltype_markers_raw.png\", \n",
    "                 stripplot=False, rotation=90)"
   ]
  },
  {
   "cell_type": "markdown",
   "metadata": {},
   "source": [
    "#### Review comments from July 2022\n",
    "\"\"\"\n",
    "I would therefore not group the three myogenic clusters together in Fig 2D. I would maybe include ***Myog, Myod1, and Acta1 (mature myonuclei)*** as well in the violin plots. I understand you are trying to merge some similar cluster together, and you have a nice supplementary figure with all the individual clusters. But in the case of the myogenic clusters I’m afraid you are mixing very distinct populations together. At the very least keep the Pax7+ distinct from the other two. From your supplementary tables, these genes seem differentially expressed across your three myogenic subpop. Perhaps the Pax7+ cluster is a mix of SCs and early myoblasts (Myf5+), while the two TNN+ cluster terminally differentiated muscle fibers (probably myonuclei) and not myoblasts. You also mention MYF5 in your trajectory analysis which is an important marker of early activated SC. I think it is important to clarify the nomenclature in accordance with what is considered the current ground truth in the muscle stem cell field. \n",
    "\"\"\""
   ]
  },
  {
   "cell_type": "code",
   "execution_count": null,
   "metadata": {},
   "outputs": [],
   "source": [
    "plt.rcParams['pdf.fonttype'] = 42\n",
    "plt.rcParams['ps.fonttype'] = 42"
   ]
  },
  {
   "cell_type": "code",
   "execution_count": null,
   "metadata": {},
   "outputs": [],
   "source": [
    "genes = ['ESAM', 'VWF', 'CCL5', 'CXCL8', 'DCN', 'CD14', 'DES', 'PAX7', 'ACTA2', \"MYOG\", \"MYOD1\", \"ACTA1\"] \n",
    "limits = {\n",
    "    \"ESAM\": 3,\n",
    "    \"VWF\": 3.5,\n",
    "    \"CCL5\": 3,\n",
    "    \"CXCL8\":3.5,\n",
    "    \"DCN\": 5,\n",
    "    \"CD14\": 3, \n",
    "    \"DES\": 4,\n",
    "    \"PAX7\": 2,\n",
    "    \"ACTA2\": 4.2\n",
    "}"
   ]
  },
  {
   "cell_type": "code",
   "execution_count": null,
   "metadata": {},
   "outputs": [],
   "source": [
    "myosubset = data.obs.celltype.str.contains(\"(?i)myo\")\n",
    "sat = data.obs.annotations.str.contains(\"Satellite\")\n",
    "fast = data.obs.annotations.str.contains(\"Myoblast 12\")\n",
    "slow = data.obs.annotations.str.contains(\"Myoblast 3\")\n",
    "data.obs[\"celltype2\"] = data.obs.celltype\n",
    "data.obs.celltype2"
   ]
  },
  {
   "cell_type": "code",
   "execution_count": null,
   "metadata": {},
   "outputs": [],
   "source": [
    "data.obs.celltype2.cat.add_categories(\"Satellite Cells\", inplace=True)"
   ]
  },
  {
   "cell_type": "code",
   "execution_count": null,
   "metadata": {},
   "outputs": [],
   "source": [
    "data.obs.celltype2 = data.obs.celltype2.astype(str)"
   ]
  },
  {
   "cell_type": "code",
   "execution_count": null,
   "metadata": {},
   "outputs": [],
   "source": [
    "data.obs.loc[sat, \"celltype2\"] = \"Satellite cells\""
   ]
  },
  {
   "cell_type": "code",
   "execution_count": null,
   "metadata": {},
   "outputs": [],
   "source": [
    "data.obs.loc[fast, \"celltype2\"] = \"TNNI2+ Cells\""
   ]
  },
  {
   "cell_type": "code",
   "execution_count": null,
   "metadata": {},
   "outputs": [],
   "source": [
    "data.obs.loc[slow, \"celltype2\"] = \"TNNI1+ Cells\""
   ]
  },
  {
   "cell_type": "code",
   "execution_count": null,
   "metadata": {},
   "outputs": [],
   "source": [
    "data.obs.loc[:, \"celltype2\"] = data.obs.celltype2.astype(\"category\")"
   ]
  },
  {
   "cell_type": "code",
   "execution_count": null,
   "metadata": {
    "scrolled": false
   },
   "outputs": [],
   "source": [
    "#plt.rcParams['figure.figsize'] = (4,2)\n",
    "fig, axs = plt.subplots(ncols=1, nrows=len(genes), figsize=(5,12))\n",
    "axs = axs.flatten()\n",
    "\n",
    "#with rc_context({'figure.figsize': (4.5, 3)}):\n",
    "\n",
    "for i, g in enumerate(genes):\n",
    "    sc.pl.violin(data, g, groupby='celltype2', stripplot=False, rotation=90, \n",
    "                 use_raw=False,\n",
    "                 scale=\"width\", ncols=1,\n",
    "                 #save=\"_celltype_markers.png\"\n",
    "                 ax=axs[i],\n",
    "                 xlabel='',\n",
    "                 show=False,\n",
    "                 fill=None,\n",
    "                 inner=\"box\"\n",
    "                )\n",
    "#     axs[i].axhline(limits[genes[i]], color=\"black\", linestyle=\"--\")\n",
    "    if i<len(genes)-1: axs[i].tick_params(labelbottom = False)\n",
    "\n",
    "plt.tight_layout()\n",
    "plt.savefig(\"/home/alirassolie/Documents/arbete/mint_mobile/finalreview/Figure_2_violin_12_markers_innerbox_290922.pdf\")\n",
    "# plt.savefig(\"/home/alirassolie/Documents/arbete/mint_mobile/finalreview/Figure_2_violin_12_markers_innerbox_290922.png\")\n",
    "plt.show()"
   ]
  },
  {
   "cell_type": "code",
   "execution_count": null,
   "metadata": {},
   "outputs": [],
   "source": [
    "suppDf = pd.DataFrame(data[:, genes].X)\n",
    "suppDf.columns = genes\n",
    "suppDf[\"cellTag\"] = data.obs.index.values\n",
    "suppDf[\"annotation\"] = data.obs.celltype2.values\n",
    "suppDf"
   ]
  },
  {
   "cell_type": "code",
   "execution_count": null,
   "metadata": {},
   "outputs": [],
   "source": [
    "writer = pd.ExcelWriter(\"/home/alirassolie/Documents/arbete/mint_mobile/finalreview/Figure_2_boxplot_inner_290922.xlsx\", engine=\"xlsxwriter\")\n",
    "suppDf.to_excel(writer, sheet_name=\"Figure2_violin_data\")\n",
    "writer.save()"
   ]
  },
  {
   "cell_type": "markdown",
   "metadata": {},
   "source": [
    "### The new color map"
   ]
  },
  {
   "cell_type": "code",
   "execution_count": null,
   "metadata": {},
   "outputs": [],
   "source": [
    "from matplotlib import cm\n",
    "from matplotlib.colors import ListedColormap, LinearSegmentedColormap"
   ]
  },
  {
   "cell_type": "code",
   "execution_count": null,
   "metadata": {},
   "outputs": [],
   "source": [
    "viridis = cm.get_cmap('gist_heat', 12)\n",
    "viridis = cm.get_cmap('gist_heat', 256)\n",
    "newcolors = viridis(np.linspace(0, 1, 256))\n",
    "pink = np.array([248/256, 24/256, 148/256, 1])\n",
    "grey = np.array([220/256, 220/256, 220/256, 1])\n",
    "\n",
    "\n",
    "lim = 10 \n",
    "newcolors[:lim, :] = grey\n",
    "newcolors[lim:, :] = pink\n",
    "newcmp = ListedColormap(newcolors)"
   ]
  },
  {
   "cell_type": "markdown",
   "metadata": {},
   "source": [
    "#### Umap of same genes"
   ]
  },
  {
   "cell_type": "markdown",
   "metadata": {},
   "source": [
    "##### UMAP manually"
   ]
  },
  {
   "cell_type": "code",
   "execution_count": null,
   "metadata": {},
   "outputs": [],
   "source": [
    "def filter_anndata_by_gene(adata, gene, lim=1) -> \"AnnData object\":\n",
    "    \"\"\"filters anndata objects by gene\n",
    "    \n",
    "    Args: \n",
    "        adata: 'anndata object', that we are filtering\n",
    "        gene: 'str', the gene we wish to filter by\n",
    "    \"\"\"\n",
    "    ind = np.where(adata[:, [gene]].X.flatten() > lim)\n",
    "    \n",
    "    return adata[ind[0], :]"
   ]
  },
  {
   "cell_type": "code",
   "execution_count": null,
   "metadata": {},
   "outputs": [],
   "source": [
    "genes = ['ESAM', 'VWF', 'CCL5', 'CXCL8', 'DCN', 'CD14', 'DES', 'PAX7', 'ACTA2', \"MYOG\", \"MYOD1\", \"ACTA1\"] \n",
    "limits = {\n",
    "    \"ESAM\": 3,\n",
    "    \"VWF\": 3.5,\n",
    "    \"CCL5\": 3,\n",
    "    \"CXCL8\":3.5,\n",
    "    \"DCN\": 5,\n",
    "    \"CD14\": 3, \n",
    "    \"DES\": 4,\n",
    "    \"PAX7\": 2,\n",
    "    \"ACTA2\": 4.2,\n",
    "    \"MYOG\":0, \n",
    "    \"MYOD1\":0, \n",
    "    \"ACTA1\":5,\n",
    "}"
   ]
  },
  {
   "cell_type": "code",
   "execution_count": null,
   "metadata": {
    "scrolled": false
   },
   "outputs": [],
   "source": [
    "with rc_context({'figure.figsize': (14, 16)}):\n",
    "    print('[Starting umapping]')\n",
    "    fig, axs = plt.subplots(ncols=3, nrows=4)\n",
    "    axs = axs.flatten()\n",
    "    for i in range(len(axs)):\n",
    "        tmp = filter_anndata_by_gene(data, genes[i], lim=limits[genes[i]])\n",
    "        \n",
    "        axs[i].scatter(x=data.obsm['X_umap'].T[0], y=data.obsm['X_umap'].T[1], s=4, c=\"lightgrey\")\n",
    "        axs[i].scatter(x=tmp.obsm['X_umap'].T[0], y=tmp.obsm['X_umap'].T[1], s=1, c=\"red\")\n",
    "        axs[i].set_xlabel(genes[i])\n",
    "        \n",
    "    \n",
    "    plt.savefig('/home/alirassolie/Documents/arbete/mint_mobile/UMAP_12_markers.pdf')\n",
    "#     plt.savefig('/home/alirassolie/Documents/arbete/mint_mobile/UMAP_12_markers.png')\n",
    "    plt.show()\n",
    "    # plt.close()"
   ]
  },
  {
   "cell_type": "markdown",
   "metadata": {},
   "source": [
    "### Separate the umaps"
   ]
  },
  {
   "cell_type": "markdown",
   "metadata": {},
   "source": [
    "#### Endo"
   ]
  },
  {
   "cell_type": "code",
   "execution_count": null,
   "metadata": {},
   "outputs": [],
   "source": [
    "endo = data[data.obs.annotations_v2.str.contains(\"Endo\")]\n",
    "endo_pre = endo[endo.obs.batch == \"0\"]\n",
    "endo_post = endo[endo.obs.batch ==\"1\"]\n",
    "fig, axs = plt.subplots(ncols=2, figsize=(10,5))\n",
    "\n",
    "a = sc.pl.umap(endo_pre, color=\"batch\", ax=axs[0], show=False)\n",
    "b = sc.pl.umap(endo_post, color=\"batch\", cmap=\"Reds\", ax=axs[1], show=False)\n",
    "plt.show()"
   ]
  },
  {
   "cell_type": "markdown",
   "metadata": {},
   "source": [
    "#### mesenchymals"
   ]
  },
  {
   "cell_type": "code",
   "execution_count": null,
   "metadata": {},
   "outputs": [],
   "source": [
    "mesench = data[data.obs.annotations_v2.str.contains(\"(?i)mesench\")]\n",
    "mesench_pre = mesench[mesench.obs.batch == \"0\"]\n",
    "mesench_post = mesench[mesench.obs.batch ==\"1\"]\n",
    "fig, axs = plt.subplots(ncols=2, figsize=(10,5))\n",
    "\n",
    "a = sc.pl.umap(mesench_pre, color=\"batch\", ax=axs[0], show=False)\n",
    "b = sc.pl.umap(mesench_post, color=\"batch\", cmap=\"Reds\", ax=axs[1], show=False)\n",
    "plt.show()"
   ]
  },
  {
   "cell_type": "markdown",
   "metadata": {},
   "source": [
    "#### Myoblasts"
   ]
  },
  {
   "cell_type": "code",
   "execution_count": null,
   "metadata": {},
   "outputs": [],
   "source": [
    "myobl = data[data.obs.annotations_v2.str.contains(\"(?i)myobl\")]\n",
    "myobl_pre = myobl[myobl.obs.batch == \"0\"]\n",
    "myobl_post = myobl[myobl.obs.batch ==\"1\"]\n",
    "fig, axs = plt.subplots(ncols=2, figsize=(10,5))\n",
    "\n",
    "a = sc.pl.umap(myobl_pre, color=\"batch\", ax=axs[0], show=False)\n",
    "b = sc.pl.umap(myobl_post, color=\"batch\", cmap=\"Reds\", ax=axs[1], show=False)\n",
    "plt.show()"
   ]
  },
  {
   "cell_type": "markdown",
   "metadata": {},
   "source": [
    "#### Undiff satellites"
   ]
  },
  {
   "cell_type": "code",
   "execution_count": null,
   "metadata": {
    "scrolled": false
   },
   "outputs": [],
   "source": [
    "sat = data[data.obs.annotations_v2.str.contains(\"(?i)sat\")]\n",
    "sat_pre = sat[sat.obs.batch == \"0\"]\n",
    "sat_post = sat[sat.obs.batch ==\"1\"]\n",
    "fig, axs = plt.subplots(ncols=2, figsize=(10,5))\n",
    "\n",
    "a = sc.pl.umap(sat_pre, color=\"batch\", ax=axs[0], show=False)\n",
    "b = sc.pl.umap(sat_post, color=\"batch\", cmap=\"Reds\", ax=axs[1], show=False)\n",
    "plt.show()"
   ]
  },
  {
   "cell_type": "markdown",
   "metadata": {},
   "source": [
    "#### Pericytes"
   ]
  },
  {
   "cell_type": "code",
   "execution_count": null,
   "metadata": {},
   "outputs": [],
   "source": [
    "peri = data[data.obs.annotations_v2.str.contains(\"(?i)peri\")]\n",
    "peri_pre = peri[peri.obs.batch == \"0\"]\n",
    "peri_post = peri[peri.obs.batch ==\"1\"]\n",
    "fig, axs = plt.subplots(ncols=2, figsize=(10,5))\n",
    "\n",
    "a = sc.pl.umap(peri_pre, color=\"batch\", ax=axs[0], show=False)\n",
    "b = sc.pl.umap(peri_post, color=\"batch\", cmap=\"Reds\", ax=axs[1], show=False)\n",
    "plt.show()"
   ]
  },
  {
   "cell_type": "markdown",
   "metadata": {},
   "source": [
    "#### Lymphocytes"
   ]
  },
  {
   "cell_type": "code",
   "execution_count": null,
   "metadata": {
    "scrolled": true
   },
   "outputs": [],
   "source": [
    "T = data[data.obs.annotations_v2.str.contains(\"(?i)T-\")]\n",
    "T_pre = T[T.obs.batch == \"0\"]\n",
    "T_post = T[T.obs.batch ==\"1\"]\n",
    "fig, axs = plt.subplots(ncols=2, figsize=(10,5))\n",
    "\n",
    "a = sc.pl.umap(T_pre, color=\"batch\", ax=axs[0], show=False)\n",
    "b = sc.pl.umap(T_post, color=\"batch\", cmap=\"Reds\", ax=axs[1], show=False)\n",
    "plt.show()"
   ]
  },
  {
   "cell_type": "markdown",
   "metadata": {},
   "source": [
    "#### Monocytes"
   ]
  },
  {
   "cell_type": "code",
   "execution_count": null,
   "metadata": {},
   "outputs": [],
   "source": [
    "CD = data[data.obs.annotations_v2.str.contains(\"(?i)CD\")]\n",
    "CD_pre = CD[CD.obs.batch == \"0\"]\n",
    "CD_post = CD[CD.obs.batch ==\"1\"]\n",
    "fig, axs = plt.subplots(ncols=2, figsize=(10,5))\n",
    "\n",
    "a = sc.pl.umap(CD_pre, color=\"batch\", ax=axs[0], show=False)\n",
    "b = sc.pl.umap(CD_post, color=\"batch\", cmap=\"Reds\", ax=axs[1], show=False)\n",
    "plt.show()"
   ]
  },
  {
   "cell_type": "code",
   "execution_count": null,
   "metadata": {},
   "outputs": [],
   "source": [
    "data.obs.annotations.unique()"
   ]
  },
  {
   "cell_type": "markdown",
   "metadata": {},
   "source": [
    "# Dotplot"
   ]
  },
  {
   "cell_type": "code",
   "execution_count": null,
   "metadata": {},
   "outputs": [],
   "source": [
    "import pandas as pd\n",
    "import numpy as np\n",
    "import matplotlib.pyplot as plt\n",
    "from collections import OrderedDict\n",
    "from scipy.cluster.hierarchy import dendrogram, linkage"
   ]
  },
  {
   "cell_type": "code",
   "execution_count": null,
   "metadata": {},
   "outputs": [],
   "source": [
    "import warnings\n",
    "warnings.filterwarnings('ignore')"
   ]
  },
  {
   "cell_type": "code",
   "execution_count": null,
   "metadata": {},
   "outputs": [],
   "source": [
    "def dotplot(df, scale=10, color=None, figsize=(10,10)):\n",
    "    \"\"\"Produces dotplot of ontologies\n",
    "    \n",
    "    Arguments:\n",
    "    \n",
    "        df: \n",
    "    \n",
    "    \"\"\"\n",
    "    #gs_kw = dict(width_ratios=[4, 1], height_ratios=[4,1])\n",
    "    plt.rcParams[\"figure.dpi\"] = 90\n",
    "    if color == None: color=\"lightblue\"\n",
    "    fig, ax = plt.subplots(ncols=1, nrows=1, figsize=figsize) #, gridspec_kw=gs_kw)\n",
    "    # axs = axs.flatten()\n",
    "    # ax = axs[0]\n",
    "    scatter=None\n",
    "    for c in df.columns:\n",
    "        tmp = df.loc[:, c] * scale\n",
    "        ax.scatter(\n",
    "            y=np.full(len(df.index), c),\n",
    "            x=df.index,\n",
    "            s=(tmp == 0).astype(int)*1,\n",
    "            marker=\"1\",\n",
    "            color=\"black\"\n",
    "        )\n",
    "        ax.scatter(\n",
    "            y=np.full(len(df.index), c),\n",
    "            x=df.index,\n",
    "            s=np.log(tmp)*5,\n",
    "            color=\"black\",\n",
    "            #fontweight=1\n",
    "        )\n",
    "        scattter = ax.scatter(\n",
    "            y=np.full(len(df.index), c),\n",
    "            x=df.index,\n",
    "            s=tmp,\n",
    "            #color=color[c]\n",
    "        )\n",
    "    \n",
    "    # produce a legend with the unique colors from the scatter\n",
    "    # legend1 = ax.legend(*ax.legend_elements(),\n",
    "    #                   loc=\"lower left\", title=\"Classes\")\n",
    "    # ax.add_artist(legend1)\n",
    "    ax.legend()\n",
    "\n",
    "    # produce a legend with a cross section of sizes from the scatter\n",
    "    # handles, labels = scatter.legend_elements(prop=\"sizes\", alpha=0.6)\n",
    "    # legend2 = ax.legend(handles, labels, loc=\"upper right\", title=\"Sizes\")\n",
    "\n",
    "    plt.xticks(rotation=90)\n",
    "    return ax\n",
    "    # plt.savefig(\"/home/alirassolie/Documents/misc/dotplot.pdf\")"
   ]
  },
  {
   "cell_type": "code",
   "execution_count": null,
   "metadata": {},
   "outputs": [],
   "source": [
    "# Read the data\n",
    "# goExEffect = pd.read_csv(\"/home/alirassolie/Documents/misc/custombkg_enrichment_baseline.csv\")\n",
    "goExEffect = pd.read_csv(\"/home/alirassolie/Documents/prwork/klinfys/data/custombkg_enrichment_baseline.csv\")\n",
    "goExEffect"
   ]
  },
  {
   "cell_type": "code",
   "execution_count": null,
   "metadata": {},
   "outputs": [],
   "source": [
    "pivoted_data = goExEffect.pivot(index = \"ID\", columns=\"cell_type\")[\"qvalue\"].fillna(0.0)\n",
    "pivoted_data\n",
    "pivoted_data.to_csv(\"/home/alirassolie/Documents/prwork/klinfys/data/review_fig_2_dotplot_table_qvals.csv\")"
   ]
  },
  {
   "cell_type": "code",
   "execution_count": null,
   "metadata": {},
   "outputs": [],
   "source": [
    "# Ontologies of interest\n",
    "interesting_ont = OrderedDict({\n",
    "\n",
    "\"Endo\":\n",
    "    [\"GO_VASCULAR_ENDOTHELIAL_GROWTH_FACTOR_RECEPTOR_SIGNALING_PATHWAY\",\n",
    "    \"GO_CELL_ACTIVATION\",\n",
    "    \"GO_RESPONSE_TO_MECHANICAL_STIMULUS\",\n",
    "    \"GO_REGULATION_OF_VASCULATURE_DEVELOPMENT\",\n",
    "    \"GO_POSITIVE_REGULATION_OF_VASCULATURE_DEVELOPMENT\",\n",
    "    ],\n",
    "\n",
    "\"Lymph\":\n",
    "\n",
    "    [\n",
    "    \"GO_MACROMOLECULE_CATABOLIC_PROCESS\",\n",
    "    \"GO_ANTIGEN_PROCESSING_AND_PRESENTATION_OF_ENDOGENOUS_ANTIGEN\",\n",
    "    \"GO_POSITIVE_REGULATION_OF_CELL_KILLING\",\n",
    "    \"GO_REGULATION_OF_LEUKOCYTE_MEDIATED_CYTOTOXICITY\",\n",
    "    \"GO_HUMORAL_IMMUNE_RESPONSE\",\n",
    "    ],\n",
    "\n",
    "\"Mesenchymal\":\n",
    "\n",
    "    [\n",
    "    \"GO_CELL_CYCLE_G2_M_PHASE_TRANSITION\",\n",
    "    \"GO_ACTIN_FILAMENT_ORGANIZATION\",\n",
    "    \"GO_ELECTRON_TRANSPORT_CHAIN\",\n",
    "    \"GO_AUTOPHAGY\",\n",
    "    \"GO_REGULATION_OF_ANATOMICAL_STRUCTURE_MORPHOGENESIS\",\n",
    "    \"GO_REGULATION_OF_ORGAN_MORPHOGENESIS\",\n",
    "    \"GO_REGULATION_OF_MITOCHONDRION_ORGANIZATION\",\n",
    "    ],\n",
    "\n",
    "\"Monocyte\":\n",
    "\n",
    "    [\n",
    "    \"GO_MULTI_ORGANISM_METABOLIC_PROCESS\",\n",
    "    \"GO_RESPONSE_TO_CORTICOSTERONE\",\n",
    "    \"GO_CELLULAR_RESPONSE_TO_CALCIUM_ION\",\n",
    "    \"GO_RESPONSE_TO_MINERALOCORTICOID\",\n",
    "    ],\n",
    "\n",
    "\"Pericyte\":\n",
    "\n",
    "    [\"GO_RESPONSE_TO_WOUNDING\",\n",
    "    \"GO_MITOCHONDRIAL_ELECTRON_TRANSPORT_CYTOCHROME_C_TO_OXYGEN\",\n",
    "    \"GO_NUCLEOSIDE_TRIPHOSPHATE_METABOLIC_PROCESS\",\n",
    "    \"GO_GLYCOSYL_COMPOUND_METABOLIC_PROCESS\",\n",
    "    \"GO_OXIDATIVE_PHOSPHORYLATION\",\n",
    "    \"GO_PURINE_CONTAINING_COMPOUND_METABOLIC_PROCESS\",\n",
    "    \"GO_ELECTRON_TRANSPORT_CHAIN\",\n",
    "    ], \n",
    "\n",
    "\"Myoblast\": \n",
    "    [\"GO_GLYCOSYL_COMPOUND_METABOLIC_PROCESS\",\n",
    "    \"GO_OXIDATIVE_PHOSPHORYLATION\",\n",
    "    \"GO_NUCLEOBASE_CONTAINING_SMALL_MOLECULE_METABOLIC_PROCESS\",\n",
    "    \"GO_GENERATION_OF_PRECURSOR_METABOLITES_AND_ENERGY\",\n",
    "    \"GO_ATP_BIOSYNTHETIC_PROCESS\",\n",
    "    \"GO_PHOSPHORYLATION\",\n",
    "    \"GO_MITOCHONDRIAL_RESPIRATORY_CHAIN_COMPLEX_ASSEMBLY\",\n",
    "    \"GO_DETOXIFICATION\",\n",
    "    \"GO_MYELOID_CELL_HOMEOSTASIS\",\n",
    "    \"GO_REACTIVE_OXYGEN_SPECIES_METABOLIC_PROCESS\",\n",
    "    ]\n",
    "})"
   ]
  },
  {
   "cell_type": "markdown",
   "metadata": {},
   "source": [
    "Remove 12 ontologies"
   ]
  },
  {
   "cell_type": "code",
   "execution_count": null,
   "metadata": {},
   "outputs": [],
   "source": [
    "\n",
    "exclusion_list = ['GO_NUCLEAR_TRANSCRIBED_MRNA_CATABOLIC_PROCESS_NONSENSE_MEDIATED_DECAY',\n",
    "                  'GO_MULTI_ORGANISM_METABOLIC_PROCESS',\n",
    "                  'GO_ESTABLISHMENT_OF_PROTEIN_LOCALIZATION_TO_ENDOPLASMIC_RETICULUM',\n",
    "                  'GO_TRANSLATIONAL_INITIATION', 'GO_RNA_CATABOLIC_PROCESS',\n",
    "                  'GO_RIBOSOME_BIOGENESIS', 'GO_PROTEIN_TARGETING',\n",
    "                  'GO_AMIDE_BIOSYNTHETIC_PROCESS',\n",
    "                  'GO_NUCLEOSIDE_MONOPHOSPHATE_METABOLIC_PROCESS',\n",
    "                  'GO_REGULATION_OF_ORGAN_MORPHOGENESIS',\n",
    "                  'GO_REGULATION_OF_MITOCHONDRION_ORGANIZATION',\n",
    "                  'GO_RESPONSE_TO_CALCIUM_ION',\n",
    "                  'GO_NON_CANONICAL_WNT_SIGNALING_PATHWAY',\n",
    "                  'GO_CELL_CELL_ADHESION'\n",
    "                 \n",
    "                 \n",
    "                 ]"
   ]
  },
  {
   "cell_type": "code",
   "execution_count": null,
   "metadata": {},
   "outputs": [],
   "source": [
    "# selected_ontologies\n",
    "ont_vals = [\n",
    "    \"GO_HUMORAL_IMMUNE_RESPONSE\",\n",
    "    \"GO_REGULATION_OF_LEUKOCYTE_MEDIATED_CYTOTOXICITY\",\n",
    "    \"GO_POSITIVE_REGULATION_OF_CELL_KILLING\",\n",
    "    \"GO_REGULATION_OF_T_CELL_MEDIATED_IMMUNITY\",\n",
    "    \"GO_CELL_CYCLE_G2_M_PHASE_TRANSITION\",\n",
    "    \"GO_REGULATION_OF_MITOCHONDRION_ORGANIZATION\",\n",
    "    \"GO_ACTIN_FILAMENT_ORGANIZATION\",\n",
    "    \"GO_NON_CANONICAL_WNT_SIGNALING_PATHWAY\",\n",
    "    \"GO_REGULATION_OF_ANATOMICAL_STRUCTURE_MORPHOGENESIS\",\n",
    "    \"GO_REGULATION_OF_ORGAN_MORPHOGENESIS\",\n",
    "    \"GO_LYMPHOCYTE_DIFFERENTIATION\",\n",
    "    \"GO_CELLULAR_RESPONSE_TO_CALCIUM_ION\",\n",
    "    \"GO_RESPONSE_TO_CORTICOSTERONE\",\n",
    "    \"GO_T_CELL_DIFFERENTIATION\",\n",
    "    \"GO_RESPONSE_TO_KETONE\",\n",
    "    \"GO_CELL_CELL_ADHESION\",\n",
    "    \"GO_RESPONSE_TO_MECHANICAL_STIMULUS\",\n",
    "    \"GO_CELL_ACTIVATION\",\n",
    "    \"GO_MYELOID_CELL_HOMEOSTASIS\",\n",
    "    \"GO_MITOCHONDRIAL_RESPIRATORY_CHAIN_COMPLEX_ASSEMBLY\",\n",
    "    \"GO_PHOSPHORYLATION\",\n",
    "    \"GO_ATP_BIOSYNTHETIC_PROCESS\",\n",
    "    \"GO_MITOCHONDRIAL_ELECTRON_TRANSPORT_CYTOCHROME_C_TO_OXYGEN\",\n",
    "    \"GO_ELECTRON_TRANSPORT_CHAIN\",\n",
    "    \"GO_GENERATION_OF_PRECURSOR_METABOLITES_AND_ENERGY\",\n",
    "]"
   ]
  },
  {
   "cell_type": "code",
   "execution_count": null,
   "metadata": {
    "scrolled": true
   },
   "outputs": [],
   "source": [
    "ont_vals = set([i for key in interesting_ont for i in interesting_ont[key] if i not in exclusion_list])\n",
    "print(ont_vals)\n",
    "pivoted_data_filt = pivoted_data[pivoted_data.index.isin(ont_vals)]\n",
    "pivoted_data_filt = np.log(pivoted_data_filt) * -1"
   ]
  },
  {
   "cell_type": "code",
   "execution_count": null,
   "metadata": {},
   "outputs": [],
   "source": [
    "pivoted_data_filt.replace(np.inf, 0.0, inplace=True)"
   ]
  },
  {
   "cell_type": "code",
   "execution_count": null,
   "metadata": {},
   "outputs": [],
   "source": [
    "# By ontology, index\n",
    "linked = linkage(pivoted_data_filt, optimal_ordering=True)\n",
    "a = dendrogram(linked)\n",
    "ind_y = [int(i) for i in a['ivl']]\n",
    "\n",
    "plt.show()"
   ]
  },
  {
   "cell_type": "code",
   "execution_count": null,
   "metadata": {},
   "outputs": [],
   "source": [
    "plt.rcParams['pdf.fonttype'] = 42\n",
    "plt.rcParams['ps.fonttype'] = 42"
   ]
  },
  {
   "cell_type": "code",
   "execution_count": null,
   "metadata": {},
   "outputs": [],
   "source": [
    "N = 45\n",
    "x, y = np.random.rand(2, N)\n",
    "c = np.random.randint(1, 5, size=N)\n",
    "s = np.random.randint(10, 220, size=N)\n",
    "\n",
    "fig, ax = plt.subplots()\n",
    "\n",
    "scatter = ax.scatter(x, y, c=c, s=s)\n",
    "\n",
    "# produce a legend with the unique colors from the scatter\n",
    "legend1 = ax.legend(*scatter.legend_elements(),\n",
    "                    loc=\"lower left\", title=\"Classes\")\n",
    "ax.add_artist(legend1)\n",
    "\n",
    "# produce a legend with a cross section of sizes from the scatter\n",
    "handles, labels = scatter.legend_elements(prop=\"sizes\", alpha=0.6)\n",
    "legend2 = ax.legend(handles, labels, loc=\"upper right\", title=\"Sizes\")\n",
    "\n",
    "plt.show()"
   ]
  },
  {
   "cell_type": "code",
   "execution_count": null,
   "metadata": {
    "scrolled": false
   },
   "outputs": [],
   "source": [
    "def test(df):\n",
    "    fig, ax = plt.subplots()\n",
    "    c = df.columns[0]\n",
    "    scale=1\n",
    "    scatter=None\n",
    "    tmp = df.loc[:, c] * scale\n",
    "    scatter = ax.scatter(\n",
    "            y=np.full(len(df.index), c),\n",
    "            x=df.index,\n",
    "            s=tmp*10,\n",
    "            c=np.full(len(df.index), 1)\n",
    "        )\n",
    "\n",
    "    # produce a legend with a cross section of sizes from the scatter\n",
    "    handles, labels = scatter.legend_elements(prop=\"sizes\", alpha=0.6, num=4)\n",
    "    legend2 = ax.legend(handles, labels, loc=\"upper right\", title=\"Sizes\")\n",
    "\n",
    "test(pivoted_data_filt.iloc[[i for i in reversed(ind_y)]])"
   ]
  },
  {
   "cell_type": "code",
   "execution_count": null,
   "metadata": {
    "scrolled": false
   },
   "outputs": [],
   "source": [
    "# dotplot(pivoted_data_filt.iloc[ind][reversed([\"Endothelial_Cells\", \"Mesenchymal_Cells\",\"Pericyte\", \"Myoblast_Cells\", \"Monocyte_Cells\", \"Lymphocyte_Cells\"])], scale=0.8, figsize=(12,3))\n",
    "dotplot(pivoted_data_filt.iloc[[i for i in reversed(ind_y)]], scale=2, figsize=(4.5,4.2))\n",
    "plt.xticks(fontsize=6)\n",
    "# plt.savefig(\"/home/alirassolie/Documents/misc/baseline_dotplot_45_42.pdf\")"
   ]
  },
  {
   "cell_type": "code",
   "execution_count": null,
   "metadata": {},
   "outputs": [],
   "source": [
    "# dotplot(pivoted_data_filt.iloc[ind][reversed([\"Endothelial_Cells\", \"Mesenchymal_Cells\",\"Pericyte\", \"Myoblast_Cells\", \"Monocyte_Cells\", \"Lymphocyte_Cells\"])], scale=0.8, figsize=(12,3))\n",
    "dotplot(pivoted_data_filt.iloc[[i for i in reversed(ind_y)]], scale=2, figsize=(5.7,5.5))\n",
    "\n",
    "plt.savefig(\"/home/alirassolie/Documents/misc/baseline_dotplot_57_55.pdf\")"
   ]
  },
  {
   "cell_type": "markdown",
   "metadata": {},
   "source": [
    "## BASELINE ONTOLOGY I.E. MARKER ONTOLOGIES"
   ]
  },
  {
   "cell_type": "code",
   "execution_count": null,
   "metadata": {},
   "outputs": [],
   "source": [
    "# Read the data\n",
    "markers = pd.read_csv(\"/home/alirassolie/Documents/misc/custombkg_enrichment_baseline.csv\")\n",
    "markers"
   ]
  },
  {
   "cell_type": "markdown",
   "metadata": {},
   "source": [
    "##### Repainting the main umap"
   ]
  },
  {
   "cell_type": "code",
   "execution_count": null,
   "metadata": {},
   "outputs": [],
   "source": [
    "df = pd.read_csv(\"/home/alirassolie/Documents/prwork/klinfys/data/figure1_all_sample.csv\")"
   ]
  },
  {
   "cell_type": "code",
   "execution_count": null,
   "metadata": {},
   "outputs": [],
   "source": [
    "df.columns"
   ]
  },
  {
   "cell_type": "code",
   "execution_count": null,
   "metadata": {},
   "outputs": [],
   "source": [
    "fig, ax = plt.subplots(1, figsize=(10,10))\n",
    "ax.scatter(df.UMAP_1, df.UMAP_2, s=2, color=\"black\")\n",
    "ax.scatter(df.UMAP_1, df.UMAP_2, s=0.8, c=df[\"celltype.exercise\"])"
   ]
  }
 ],
 "metadata": {
  "kernelspec": {
   "display_name": "Python 3 (ipykernel)",
   "language": "python",
   "name": "python3"
  },
  "language_info": {
   "codemirror_mode": {
    "name": "ipython",
    "version": 3
   },
   "file_extension": ".py",
   "mimetype": "text/x-python",
   "name": "python",
   "nbconvert_exporter": "python",
   "pygments_lexer": "ipython3",
   "version": "3.7.0"
  }
 },
 "nbformat": 4,
 "nbformat_minor": 4
}
