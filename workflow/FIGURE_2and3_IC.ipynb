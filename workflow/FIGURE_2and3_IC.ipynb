{
 "cells": [
  {
   "cell_type": "markdown",
   "metadata": {},
   "source": [
    "### The data files"
   ]
  },
  {
   "cell_type": "markdown",
   "metadata": {},
   "source": [
    "# Producing the pre v post data"
   ]
  },
  {
   "cell_type": "code",
   "execution_count": null,
   "metadata": {},
   "outputs": [],
   "source": [
    "from importlib.machinery import SourceFileLoader \n",
    "IM = SourceFileLoader(\"InterconditionalMethods\", \"/home/rullman/scRNAmuscleProject/algorithms/scRNAalgoes/src/scMethods.py\").load_module() "
   ]
  },
  {
   "cell_type": "code",
   "execution_count": null,
   "metadata": {},
   "outputs": [],
   "source": [
    "prefix = \"/home/rullman/scRNAmuscleProject/bigproj/private/dataoutput/FINAL_FIGURES\"\n",
    "data = sc.read_h5ad(\"091120_adata_newmerge_rank.h5ad\")"
   ]
  },
  {
   "cell_type": "markdown",
   "metadata": {},
   "source": [
    "***Celltype based clusters***"
   ]
  },
  {
   "cell_type": "code",
   "execution_count": null,
   "metadata": {},
   "outputs": [],
   "source": [
    "celltypes = {\n",
    "    \"Endothelial Cells\": [\"Endo\", \"Bad\"],\n",
    "    \"Lymphocyte Cells\": [\"T-cells 13\", \"T-cells 15\"],\n",
    "    \"Pericyte\": [\"Pericyte 5\", \"Pericyte 18\"],\n",
    "    \"Mesenchymal Cells\": [\"Mesenchymal merged\", \"Mesenchymal cell 11\", \"CD16\"],\n",
    "    \"Myoblast Cells\": [\"Myoblast 12\", \"Myoblast 3\", \"Satellite cell\"],\n",
    "    \"Monocyte Cells\": [\"CD14+\"],\n",
    "}"
   ]
  },
  {
   "cell_type": "markdown",
   "metadata": {},
   "source": [
    "***Adding the celltype based clusters as a separate column***"
   ]
  },
  {
   "cell_type": "code",
   "execution_count": null,
   "metadata": {},
   "outputs": [],
   "source": [
    "projID = \"090521\""
   ]
  },
  {
   "cell_type": "code",
   "execution_count": null,
   "metadata": {},
   "outputs": [],
   "source": [
    "projID = \"100521\" "
   ]
  },
  {
   "cell_type": "code",
   "execution_count": null,
   "metadata": {},
   "outputs": [],
   "source": [
    "data.obs[\"celltype\"] = np.nan"
   ]
  },
  {
   "cell_type": "markdown",
   "metadata": {},
   "source": [
    "Iterate through the key-value pair subsetting for the values equating them to the key"
   ]
  },
  {
   "cell_type": "code",
   "execution_count": null,
   "metadata": {},
   "outputs": [],
   "source": [
    "for key in celltypes:\n",
    "    for el in celltypes[key]:\n",
    "        data.obs.celltype[data.obs.annotations.str.contains(el)] = key"
   ]
  },
  {
   "cell_type": "code",
   "execution_count": null,
   "metadata": {},
   "outputs": [],
   "source": [
    "data.obs.celltype = data.obs.celltype.astype(\"category\")"
   ]
  },
  {
   "cell_type": "markdown",
   "metadata": {},
   "source": [
    "### Checking if the data is normalized"
   ]
  },
  {
   "cell_type": "code",
   "execution_count": null,
   "metadata": {},
   "outputs": [],
   "source": [
    "IM.test_random_log1p_countsnormalize(data)"
   ]
  },
  {
   "cell_type": "code",
   "execution_count": null,
   "metadata": {},
   "outputs": [],
   "source": [
    "data_prepost = IM.diffxpyInterconditionalIterative(\n",
    "        data, \n",
    "        clusterColumn='celltype', \n",
    "        projID=projID, \n",
    "        use_raw=False, \n",
    "        method=\"wilcoxon\"\n",
    "    )"
   ]
  },
  {
   "cell_type": "markdown",
   "metadata": {},
   "source": [
    "The batch keys that will be used for the diffexp analysis"
   ]
  },
  {
   "cell_type": "code",
   "execution_count": null,
   "metadata": {},
   "outputs": [],
   "source": [
    "batchKeys = ['Endothelial Cells_batch', 'Lymphocyte Cells_batch', 'Mesenchymal Cells_batch', 'Monocyte Cells_batch', 'Myoblast Cells_batch', 'Pericyte_batch']"
   ]
  },
  {
   "cell_type": "code",
   "execution_count": null,
   "metadata": {},
   "outputs": [],
   "source": [
    "IM.add_pct_manual(data, clusters = data.obs.celltype.cat.categories,  \n",
    "clusterColumn=\"celltype\", keys=batchKeys, out=f\"{projID}_prevpost_rankwilcox.xlsx\", save='excel') "
   ]
  },
  {
   "cell_type": "markdown",
   "metadata": {},
   "source": [
    "> Produced 090511_prevpost_rankwilcox.xlsx"
   ]
  },
  {
   "cell_type": "code",
   "execution_count": null,
   "metadata": {},
   "outputs": [],
   "source": [
    "# data.write(\"090521_adata_celltype_w_prevpost.h5ad\", compression = \"gzip\")\n",
    "data.write(\"100521_adata_celltype_w_prevpost.h5ad\", compression = \"gzip\")"
   ]
  },
  {
   "cell_type": "markdown",
   "metadata": {},
   "source": [
    "# Plotting the pre v post boxplots anew"
   ]
  },
  {
   "cell_type": "code",
   "execution_count": null,
   "metadata": {},
   "outputs": [],
   "source": [
    "import scanpy as sc"
   ]
  },
  {
   "cell_type": "code",
   "execution_count": null,
   "metadata": {},
   "outputs": [],
   "source": [
    "import pandas as pd\n",
    "import numpy as np\n",
    "import matplotlib.pyplot as plt\n",
    "import seaborn as sns"
   ]
  },
  {
   "cell_type": "code",
   "execution_count": null,
   "metadata": {
    "scrolled": true
   },
   "outputs": [],
   "source": [
    "from importlib.machinery import SourceFileLoader \n",
    "# IM = SourceFileLoader(\"InterconditionalMethods\", \"/home/rullman/scRNAmuscleProject/algorithms/scRNAalgoes/src/scMethods.py\").load_module() \n",
    "IM = SourceFileLoader(\"InterconditionalMethods\", \"/home/alirassolie/Documents/prwork/klinfys/scmuscle/scRNAalgoes/src/scMethods.py\").load_module() "
   ]
  },
  {
   "cell_type": "markdown",
   "metadata": {},
   "source": [
    "##### Prefixes"
   ]
  },
  {
   "cell_type": "code",
   "execution_count": null,
   "metadata": {},
   "outputs": [],
   "source": [
    "prefix = r\"C:\\Users\\Admin\\Documents\\prwork\\klinfys\\manuscript_v2\\manuscript\\datasets\\paper\\figures\\figure_1\""
   ]
  },
  {
   "cell_type": "code",
   "execution_count": null,
   "metadata": {},
   "outputs": [],
   "source": [
    "prefix = \"~/Documents/prwork/bioinfo/data/manuscript/datasets/paper/figures/figure_1\"\n",
    "prefix = \"~/Documents/manuscript/datasets/paper/figures/figure_1\""
   ]
  },
  {
   "cell_type": "markdown",
   "metadata": {},
   "source": [
    "##### Importing and processing the data anew"
   ]
  },
  {
   "cell_type": "code",
   "execution_count": null,
   "metadata": {},
   "outputs": [],
   "source": [
    "localPath = \"/home/alirassolie/Documents/arbete/mint_mobile\""
   ]
  },
  {
   "cell_type": "code",
   "execution_count": null,
   "metadata": {},
   "outputs": [],
   "source": [
    "data = sc.read_h5ad(f\"{localPath}/120521_adata_celltype_prevpost_and_markers\")"
   ]
  },
  {
   "cell_type": "code",
   "execution_count": null,
   "metadata": {},
   "outputs": [],
   "source": [
    "data.X = data.X.toarray()"
   ]
  },
  {
   "cell_type": "markdown",
   "metadata": {},
   "source": [
    "***Extracting the values for the boxplots***"
   ]
  },
  {
   "cell_type": "code",
   "execution_count": null,
   "metadata": {},
   "outputs": [],
   "source": [
    "filter_adata = lambda adata, col, f_str: adata[adata.obs[col].str.contains(f_str)]"
   ]
  },
  {
   "cell_type": "code",
   "execution_count": null,
   "metadata": {},
   "outputs": [],
   "source": [
    "def gene_distrib(d, genes, s_str, cluster_column):\n",
    "    \"\"\"Returns dataframe with data molten for each gene and a given\n",
    "    column\n",
    "    \n",
    "    Args:\n",
    "        d: AnnData scanpy object\n",
    "        \n",
    "        genes: list object of strings corresponding to gene symbols\n",
    "        \n",
    "        s_str: string to filter d\n",
    "    \n",
    "    \"\"\"\n",
    "    tm = d[d.obs[cluster_column].str.contains(s_str)]\n",
    "    g_vals = pd.DataFrame(tm[:, genes].X)\n",
    "    print(g_vals)\n",
    "    g_vals.columns = genes\n",
    "    g_vals['celltag'] = tm.obs.index.values\n",
    "    g_vals['batch'] = tm.obs.batch.values\n",
    "    g_vals[cluster_column] = s_str\n",
    "    g_vals_melt = pd.melt(g_vals, ['batch', cluster_column, \"celltag\"])\n",
    "    return g_vals_melt"
   ]
  },
  {
   "cell_type": "code",
   "execution_count": null,
   "metadata": {},
   "outputs": [],
   "source": [
    "# Testing\n",
    "# Removed the ones that looked bad in the plot, we need to check them in the files..\n",
    "testGenes = [\"TIMP3\", \"ACTB\", \"UBC\", \"CALM1\"]\n",
    "# Normalized\n",
    "testDf = gene_distrib(data, testGenes, s_str='Endothelial Cells', cluster_column='celltype')"
   ]
  },
  {
   "cell_type": "code",
   "execution_count": null,
   "metadata": {},
   "outputs": [],
   "source": [
    "testDf"
   ]
  },
  {
   "cell_type": "markdown",
   "metadata": {},
   "source": [
    "Boxplot function"
   ]
  },
  {
   "cell_type": "code",
   "execution_count": null,
   "metadata": {},
   "outputs": [],
   "source": [
    "def diffxp_boxplot(axs, i:int, d:\"anndata\", cluster_column, genes):\n",
    "    \"\"\"Returns dataframe with data molten for each gene and a given\n",
    "    column\n",
    "    \n",
    "    Args:\n",
    "        axs: list with matplotlib axes objec\n",
    "        \n",
    "        i: int index\n",
    "        \n",
    "        d: AnnData scanpy object\n",
    "        \n",
    "        genes: list object of strings corresponding to gene symbols\n",
    "        \n",
    "        cluster_column\n",
    "    \"\"\"\n",
    "    s_str = order[i]\n",
    "    g_vals_melt = gene_distrib(d, genes, s_str, cluster_column)\n",
    "    sns.boxplot(\n",
    "        data=g_vals_melt,\n",
    "        x='variable',\n",
    "        y='value',\n",
    "        hue='batch',\n",
    "        ax=axs[i],\n",
    "        palette=sns.color_palette(['#ca7c80', '#fde3d0']),\n",
    "        showfliers=False\n",
    "    )\n",
    "    molten_celltypes.append(g_vals_melt)\n",
    "    axs[i].set_title('')\n",
    "    axs[i].set_ylabel(s_str, rotation=0, labelpad=100, fontsize=20)\n",
    "    axs[i].set_xlabel('')\n",
    "    axs[i].get_legend().remove()\n",
    "    # sns.stripplot(data=g_vals_melt, x='variable', y='value', hue='batch', ax=axs)\n",
    "    # axs.set_ylim(0, 6)\n",
    "    return axs"
   ]
  },
  {
   "cell_type": "code",
   "execution_count": null,
   "metadata": {},
   "outputs": [],
   "source": [
    "# 100521 boxplots\n",
    "order = [\"Endothelial Cells\", \"Lymphocyte Cells\", \"Pericyte\", \"Mesenchymal Cells\", \"Myoblast Cells\", \"Monocyte Cells\", \"remove\"]\n",
    "genes_t_inc_r = [\"ACTB\", \"CALM1\", \"CDH5\", \"ENG\", \"FOS\", \"HSP90AA1\", \"JUNB\", \"TIMP3\", \"UBC\", \"IFITM2\", \"IRF1\", \"LMNA\", \"MT2A\", \"MYF5\", \"NCL\", \"NNMT\", \"SOCS3\", \"SQSTM1\"]\n",
    "\n",
    "sns.set_style('ticks')\n",
    "fig, axs = plt.subplots(nrows=2, figsize = (20,5))\n",
    "axs = axs.flatten()\n",
    "molten_celltypes = []\n",
    "\n",
    "for i in range(len(order)):\n",
    "    axs = diffxp_boxplot(axs, i, data, cluster_column=\"celltype\", genes=genes_t_inc_r)\n",
    "\n",
    "sns.despine(trim=False)\n",
    "# plt.savefig('./FIGURE_2/130521_split_boxplot.png')\n",
    "plt.show()"
   ]
  },
  {
   "cell_type": "markdown",
   "metadata": {},
   "source": [
    "#### On the raw"
   ]
  },
  {
   "cell_type": "code",
   "execution_count": null,
   "metadata": {},
   "outputs": [],
   "source": [
    "raw = data.raw.to_adata()"
   ]
  },
  {
   "cell_type": "code",
   "execution_count": null,
   "metadata": {},
   "outputs": [],
   "source": [
    "raw.X = raw.X.toarray()"
   ]
  },
  {
   "cell_type": "code",
   "execution_count": null,
   "metadata": {},
   "outputs": [],
   "source": [
    "# 100521 boxplots\n",
    "data.obs.celltype = data.obs.celltype.str.replace(' 0 ', '')\n",
    "\n",
    "order = [\"Endothelial Cells\", \"Lymphocyte Cells\", \"Pericyte\", \"Mesenchymal Cells\", \"Myoblast Cells\", \"Monocyte Cells\", \"remove\"]\n",
    "genes_t_inc_r = [\"ACTB\", \"CALM1\", \"CDH5\", \"ENG\", \"FOS\", \"HSP90AA1\", \"JUNB\", \"TIMP3\", \"UBC\", \"IFITM2\", \"IRF1\", \"LMNA\", \"MT2A\", \"MYF5\", \"NCL\", \"NNMT\", \"SOCS3\", \"SQSTM1\"]\n",
    "\n",
    "sns.set_style('ticks')\n",
    "fig, axs = plt.subplots(nrows=int(len(col_ord)/2), figsize = (20,5))\n",
    "axs = axs.flatten()\n",
    "molten_celltypes = []\n",
    "\n",
    "for i in range(len(order)):\n",
    "    axs = diffxp_boxplot(axs, i, raw, cluster_column=\"celltype\", genes=genes_t_inc_r)\n",
    "\n",
    "sns.despine(trim=False)\n",
    "# plt.savefig('./FIGURE_2/100521_split_boxplot_raw.png')\n",
    "plt.show()"
   ]
  },
  {
   "cell_type": "markdown",
   "metadata": {},
   "source": [
    "#### Violin plots instead"
   ]
  },
  {
   "cell_type": "code",
   "execution_count": null,
   "metadata": {},
   "outputs": [],
   "source": [
    "from matplotlib.pyplot import rc_context\n",
    "import matplotlib as mpl"
   ]
  },
  {
   "cell_type": "code",
   "execution_count": null,
   "metadata": {},
   "outputs": [],
   "source": [
    "sc.settings.figdir = \"FINAL_REVIEW_FIGURE\""
   ]
  },
  {
   "cell_type": "markdown",
   "metadata": {},
   "source": [
    "#### palette"
   ]
  },
  {
   "cell_type": "code",
   "execution_count": null,
   "metadata": {},
   "outputs": [],
   "source": [
    "celltypePalette = {\n",
    "    \"Endo\": \"#1f77b4\",\n",
    "    \"Peri\": \"#2ca02c\",\n",
    "    \"Myo\": \"#9467bd\",\n",
    "    \"Mono\": \"#8c564b\",\n",
    "    \"T\": \"#ff7f0e\",\n",
    "    \"Mes\": \"#d62728\"\n",
    "}"
   ]
  },
  {
   "cell_type": "code",
   "execution_count": null,
   "metadata": {},
   "outputs": [],
   "source": [
    "def plotHatchedViolin(\n",
    "        data, save=None, figsize=(7,5), \n",
    "        inner=None, cut=0, v=None, **kwargs\n",
    "):\n",
    "    with rc_context({'figure.figsize': figsize}):\n",
    "        sns.violinplot(data=data, \n",
    "                           hue = \"batch\", \n",
    "                           x=\"variable\", y=\"value\", \n",
    "                           split=False, \n",
    "                           rotation=45, \n",
    "                           #cut=cut,\n",
    "                           linewidth=2.2,\n",
    "                           edgecolor=\"black\",\n",
    "                           #inner=inner,\n",
    "                           showmeans=True,\n",
    "                           ax=v,\n",
    "                           **kwargs\n",
    "                          )\n",
    "        # sns.boxplot(data=data, hue=\"batch\", x=\"variable\", y=\"value\", width=0.2, color=\"white\",boxprops={'zorder': 2},ax=v)\n",
    "        # sns.stripplot(data=test_df, hue = \"batch\", x=\"variable\", y=\"value\", split=True, size=1)\n",
    "        for i, violin in enumerate(v.findobj(mpl.collections.PolyCollection)):\n",
    "            if i % 2:\n",
    "                violin.set_hatch(\"////\")\n",
    "\n",
    "        v.legend_.findobj(mpl.patches.Rectangle)[1].set_hatch(\"///\")\n",
    "        v.set_xticklabels(v.get_xticklabels(), rotation=30)\n",
    "        v.set_ylim(ymin=0)"
   ]
  },
  {
   "cell_type": "code",
   "execution_count": null,
   "metadata": {},
   "outputs": [],
   "source": [
    "def plotBoxplot(\n",
    "        data, save=None, figsize=(7,5), \n",
    "        inner=None, cut=0, v=None, **kwargs\n",
    "):\n",
    "    with rc_context({'figure.figsize': figsize}):\n",
    "        sns.boxplot(data=data, \n",
    "                    hue = \"batch\", \n",
    "                    x=\"variable\", y=\"value\", \n",
    "                   linewidth=2.2,\n",
    "                   showmeans=True,\n",
    "                   ax=v,\n",
    "                    \n",
    "                    **kwargs\n",
    "                          )\n",
    "        #sns.stripplot(data=test_df, hue = \"batch\", x=\"variable\", y=\"value\", split=True, size=1)\n",
    "        v.set_xticklabels(v.get_xticklabels(), rotation=30)\n",
    "        v.set_ylim(ymin=0)"
   ]
  },
  {
   "cell_type": "code",
   "execution_count": null,
   "metadata": {},
   "outputs": [],
   "source": [
    "plt.rcParams['pdf.fonttype'] = 42\n",
    "plt.rcParams['ps.fonttype'] = 42"
   ]
  },
  {
   "cell_type": "markdown",
   "metadata": {},
   "source": [
    "##### Endothelial"
   ]
  },
  {
   "cell_type": "code",
   "execution_count": null,
   "metadata": {},
   "outputs": [],
   "source": [
    "# Removed the ones that looked bad in the plot, we need to check them in the files..\n",
    "genes_end = [\"TIMP3\", \"ACTB\", \"UBC\", \"CALM1\"]\n",
    "# Normalized\n",
    "endo_df = gene_distrib(data, genes_end, 'Endothelial Cells', 'celltype')"
   ]
  },
  {
   "cell_type": "code",
   "execution_count": null,
   "metadata": {},
   "outputs": [],
   "source": [
    "fig, axs = plt.subplots(ncols=2, figsize=(10,6))\n",
    "plotHatchedViolin(data=endo_df, figsize=(8,6), \n",
    "                  #save = \"/home/alirassolie/Documents/misc/endo_prevpost.pdf\",\n",
    "                  #save=\"ax\",\n",
    "                  palette = [celltypePalette[\"Endo\"]],\n",
    "                  v=axs[0]\n",
    "                 )"
   ]
  },
  {
   "cell_type": "code",
   "execution_count": null,
   "metadata": {},
   "outputs": [],
   "source": [
    "fig, axs = plt.subplots(ncols=2, figsize=(10,6))\n",
    "plotBoxplot(data=endo_df, figsize=(8,6), \n",
    "                  #save = \"/home/alirassolie/Documents/misc/endo_prevpost.pdf\",\n",
    "                  #save=\"ax\",\n",
    "                  #palette = [celltypePalette[\"Endo\"]],\n",
    "                  v=axs[0]\n",
    "                 )"
   ]
  },
  {
   "cell_type": "code",
   "execution_count": null,
   "metadata": {},
   "outputs": [],
   "source": [
    "genes = [\"MYL2\", \"ACTA1\", \"CCDC85B\", \"TCAP\"]"
   ]
  },
  {
   "cell_type": "code",
   "execution_count": null,
   "metadata": {},
   "outputs": [],
   "source": [
    "# Normalized\n",
    "test_df = gene_distrib(data, genes, 'Endothelial Cells', 'celltype')"
   ]
  },
  {
   "cell_type": "code",
   "execution_count": null,
   "metadata": {},
   "outputs": [],
   "source": [
    "plotHatchedViolin(data=test_df, figsize=(8,6), \n",
    "                  save = \"/home/alirassolie/Documents/misc/endo_prevpost_down.pdf\",\n",
    "                  palette = [celltypePalette[\"Endo\"]],\n",
    "                  ax=\n",
    "                 )"
   ]
  },
  {
   "cell_type": "markdown",
   "metadata": {},
   "source": [
    "##### Myoblasts"
   ]
  },
  {
   "cell_type": "code",
   "execution_count": null,
   "metadata": {},
   "outputs": [],
   "source": [
    "genes_myo = [\"RPL10\",\"RACK1\", \"FTL\", \"MT1X\"]\n",
    "\n",
    "# ALl of the myoblasts merged\n",
    "myo_df = gene_distrib(data, genes_myo, 'Myoblast Cells', 'celltype')"
   ]
  },
  {
   "cell_type": "code",
   "execution_count": null,
   "metadata": {},
   "outputs": [],
   "source": [
    "fig, axs=plt.subplots(ncols=2, figsize=(20,5))\n",
    "plotHatchedViolin(data=myo_df, \n",
    "                  figsize=(8,6),\n",
    "                  palette=[celltypePalette[\"Myo\"]],\n",
    "                  v=axs[0]\n",
    "                 )"
   ]
  },
  {
   "cell_type": "code",
   "execution_count": null,
   "metadata": {},
   "outputs": [],
   "source": [
    "# Only satellite cells\n",
    "sat_df = gene_distrib(data, genes_myo, 'Satellite cell', 'annotations')"
   ]
  },
  {
   "cell_type": "code",
   "execution_count": null,
   "metadata": {},
   "outputs": [],
   "source": [
    "fig, axs=plt.subplots(ncols=2, figsize=(20,5))\n",
    "plotHatchedViolin(data=myo_df, \n",
    "                  figsize=(8,6),\n",
    "                  palette=[celltypePalette[\"Myo\"]],\n",
    "                  v=axs[0]\n",
    "                 )"
   ]
  },
  {
   "cell_type": "markdown",
   "metadata": {},
   "source": [
    "##### Lymphocyte cells"
   ]
  },
  {
   "cell_type": "code",
   "execution_count": null,
   "metadata": {},
   "outputs": [],
   "source": [
    "genes_lymph = [\"FTH1\", \"IFITM2\", \"CALM1\", \"HLA-E\"]\n",
    "\n",
    "# ALl of the myoblasts merged\n",
    "lymph_df = gene_distrib(data, genes_lymph, 'Lymphocyte Cells', 'celltype')"
   ]
  },
  {
   "cell_type": "code",
   "execution_count": null,
   "metadata": {},
   "outputs": [],
   "source": [
    "fig, axs = plt.subplots(ncols=2, figsize=(10,6))\n",
    "\n",
    "plotHatchedViolin(data=lymph_df, \n",
    "                  #save = \"/home/alirassolie/Documents/misc/lymph_prevpost.pdf\",\n",
    "                  save=\"ax\",\n",
    "                  figsize = (8,6),\n",
    "                  palette=[celltypePalette[\"T\"]],\n",
    "                  v=axs[0]\n",
    "                 )"
   ]
  },
  {
   "cell_type": "code",
   "execution_count": null,
   "metadata": {},
   "outputs": [],
   "source": [
    "# ALl of the myoblasts merged\n",
    "test_df = gene_distrib(\n",
    "                data, \n",
    "                [\"B2M\", \"EEF1A1\", \"HLA-A\", \"ACTA1\"], \n",
    "                'Lymphocyte Cells', \n",
    "                'celltype')"
   ]
  },
  {
   "cell_type": "code",
   "execution_count": null,
   "metadata": {},
   "outputs": [],
   "source": [
    "plotHatchedViolin(data=test_df, \n",
    "                  save = \"/home/alirassolie/Documents/misc/lymph_prevpost_down.pdf\",\n",
    "                  figsize = (8,6),\n",
    "                  palette=[celltypePalette[\"T\"]]\n",
    "                 )"
   ]
  },
  {
   "cell_type": "markdown",
   "metadata": {},
   "source": [
    "##### Mesenchymal cells"
   ]
  },
  {
   "cell_type": "code",
   "execution_count": null,
   "metadata": {},
   "outputs": [],
   "source": [
    "genes_mes = [\"VIM\", \"UBC\",  \"GPX4\", \"ACVRL1\"]\n",
    "\n",
    "# All of the myoblasts merged\n",
    "mes_df = gene_distrib(data, genes_mes, 'Mesenchymal Cells', 'celltype')"
   ]
  },
  {
   "cell_type": "code",
   "execution_count": null,
   "metadata": {
    "scrolled": false
   },
   "outputs": [],
   "source": [
    "plotHatchedViolin(data= mes_df,\n",
    "                  #save = \"/home/alirassolie/Documents/misc/mesench_prevpost.pdf\",\n",
    "                  save=\"ax\",\n",
    "                  figsize=(8,6),\n",
    "                  palette=[celltypePalette[\"Mes\"]]\n",
    "                 )"
   ]
  },
  {
   "cell_type": "code",
   "execution_count": null,
   "metadata": {},
   "outputs": [],
   "source": [
    "# ALl of the myoblasts merged\n",
    "test_df = gene_distrib(\n",
    "                data, \n",
    "                [\"JUND\", \"TCF4\",\"CKM\", \"IGFBP5\"], \n",
    "                'Mesenchymal Cells', \n",
    "                'celltype')"
   ]
  },
  {
   "cell_type": "code",
   "execution_count": null,
   "metadata": {},
   "outputs": [],
   "source": [
    "plotHatchedViolin(data=test_df,\n",
    "                  save = \"/home/alirassolie/Documents/misc/mesench_prevpost_down.pdf\",\n",
    "                  figsize=(8,6),\n",
    "                  palette=[celltypePalette[\"Mes\"]]\n",
    "                 )"
   ]
  },
  {
   "cell_type": "markdown",
   "metadata": {},
   "source": [
    "##### Pericytes"
   ]
  },
  {
   "cell_type": "code",
   "execution_count": null,
   "metadata": {},
   "outputs": [],
   "source": [
    "genes_peri = [\"ACTA2\", \"ACTB\", \"MYL6\", \"TPM1\"]\n",
    "\n",
    "# All of the myoblasts merged\n",
    "peri_df = gene_distrib(data, genes_peri, 'Pericyte', 'celltype')"
   ]
  },
  {
   "cell_type": "code",
   "execution_count": null,
   "metadata": {},
   "outputs": [],
   "source": [
    "plotHatchedViolin(data = test_df,\n",
    "                  #save = \"/home/alirassolie/Documents/misc/peric_prevpost.pdf\",\n",
    "                  save=\"ax\",\n",
    "                  palette=[celltypePalette[\"Peri\"]],\n",
    "                  bw=0.3\n",
    "                 )"
   ]
  },
  {
   "cell_type": "markdown",
   "metadata": {},
   "source": [
    "##### Monocyte cells"
   ]
  },
  {
   "cell_type": "code",
   "execution_count": null,
   "metadata": {},
   "outputs": [],
   "source": [
    "genes_mono = [\"NFKBIA\", \"CTSS\", \"HLA-C\", \"SLC25A6\"]\n",
    "\n",
    "# ALl of the myoblasts merged\n",
    "mono_df = gene_distrib(data, genes_mono, 'Monocyte Cells', 'celltype')"
   ]
  },
  {
   "cell_type": "code",
   "execution_count": null,
   "metadata": {},
   "outputs": [],
   "source": [
    "plotHatchedViolin(data = mono_df, \n",
    "                  #save = \"/home/alirassolie/Documents/misc/Monocytes_prevpost.pdf\",\n",
    "                  save=\"ax\",\n",
    "                  figsize=(7,5),\n",
    "                  palette=[celltypePalette[\"Mono\"]],\n",
    "                  bw=0.1,\n",
    "                  #inner=\"point\",\n",
    "                 )"
   ]
  },
  {
   "cell_type": "code",
   "execution_count": null,
   "metadata": {},
   "outputs": [],
   "source": [
    "celltypePalette[\"Mono\"]"
   ]
  },
  {
   "cell_type": "code",
   "execution_count": null,
   "metadata": {},
   "outputs": [],
   "source": [
    "vio_dict = {\n",
    "    \"Mono\": plotHatchedViolin(data = mono_df, \n",
    "                  #save = \"/home/alirassolie/Documents/misc/Monocytes_prevpost.pdf\",\n",
    "                  save=\"ax\",\n",
    "                  figsize=(7,5),\n",
    "                  palette=[celltypePalette[\"Mono\"]]\n",
    "                 ),\n",
    "    \"Peri\": plotHatchedViolin(data = test_df,\n",
    "                  #save = \"/home/alirassolie/Documents/misc/peric_prevpost.pdf\",\n",
    "                  save=\"ax\",\n",
    "                  palette=[celltypePalette[\"Peri\"]]\n",
    "                 ),\n",
    "    \"Mesen\": plotHatchedViolin(data= mes_df,\n",
    "                  #save = \"/home/alirassolie/Documents/misc/mesench_prevpost.pdf\",\n",
    "                  save=\"ax\",\n",
    "                  figsize=(8,6),\n",
    "                  palette=[celltypePalette[\"Mes\"]]\n",
    "                 ),\n",
    "    \"Lymph\": plotHatchedViolin(data=lymph_df, \n",
    "                  #save = \"/home/alirassolie/Documents/misc/lymph_prevpost.pdf\",\n",
    "                  save=\"ax\",\n",
    "                  figsize = (8,6),\n",
    "                  palette=[celltypePalette[\"T\"]]\n",
    "                 ),\n",
    "    \"Endo\": plotHatchedViolin(data=endo_df, figsize=(8,6), \n",
    "                  # save = \"/home/alirassolie/Documents/misc/endo_prevpost.pdf\",\n",
    "                    save=\"ax\",\n",
    "                  palette = [celltypePalette[\"Endo\"]]\n",
    "                 )\n",
    "}"
   ]
  },
  {
   "cell_type": "code",
   "execution_count": null,
   "metadata": {
    "scrolled": true
   },
   "outputs": [],
   "source": [
    "vio_kwargs = [\n",
    "    dict(data = mono_df, \n",
    "    figsize=(7,5),\n",
    "    palette=[celltypePalette[\"Mono\"]]\n",
    "    ),\n",
    "    dict(data = peri_df,\n",
    "    figsize=(8,6),\n",
    "    palette=[celltypePalette[\"Peri\"]]\n",
    "    ),\n",
    "    dict(data= mes_df,\n",
    "    figsize=(8,6),\n",
    "    palette=[celltypePalette[\"Mes\"]]\n",
    "    ),\n",
    "    dict(data=lymph_df, \n",
    "    figsize = (8,6),\n",
    "    palette=[celltypePalette[\"T\"]]\n",
    "    ),\n",
    "    dict(data=endo_df, \n",
    "    figsize=(8,6), \n",
    "    palette = [celltypePalette[\"Endo\"]]\n",
    "    ),\n",
    "    dict(data=myo_df, \n",
    "    figsize=(8,6),\n",
    "    palette=[celltypePalette[\"Myo\"]],\n",
    "    #v=axs[0]\n",
    "    )\n",
    "]"
   ]
  },
  {
   "cell_type": "code",
   "execution_count": null,
   "metadata": {},
   "outputs": [],
   "source": [
    "fig, axs = plt.subplots(ncols=3, nrows=2, figsize=(15,8))\n",
    "axs = axs.flatten()\n",
    "for i, ax in enumerate(axs):\n",
    "    try: plotHatchedViolin(v=ax, **vio_kwargs[i])\n",
    "    except Exception as e: print(e)\n",
    "        \n",
    "# plt.savefig(\"/home/alirassolie/Documents/misc/panel_prevpost.pdf\")"
   ]
  },
  {
   "cell_type": "code",
   "execution_count": null,
   "metadata": {},
   "outputs": [],
   "source": [
    "fig, axs = plt.subplots(ncols=3, nrows=2, figsize=(20,8))\n",
    "axs = axs.flatten()\n",
    "for i, ax in enumerate(axs):\n",
    "    try: plotHatchedViolin(v=ax, **vio_kwargs[i])\n",
    "    except Exception as e: print(e)\n",
    "        \n",
    "plt.savefig(\"/home/alirassolie/Documents/arbete/mint_mobile/finalreview/Figure_3_boxplot_inner_290922.pdf\")"
   ]
  },
  {
   "cell_type": "code",
   "execution_count": null,
   "metadata": {},
   "outputs": [],
   "source": [
    "writer = pd.ExcelWriter(\"/home/alirassolie/Documents/arbete/mint_mobile/finalreview/Figure_3_boxplot_inner_290922.xlsx\", engine=\"xlsxwriter\")\n",
    "endo_df.to_excel(writer, sheet_name=\"Endothelial\")\n",
    "myo_df.to_excel(writer, sheet_name=\"Myoblast\")\n",
    "lymph_df.to_excel(writer, sheet_name=\"Lymph\")\n",
    "mes_df.to_excel(writer, sheet_name=\"Mesenchymal\")\n",
    "peri_df.to_excel(writer, sheet_name=\"Pericyte\")\n",
    "mono_df.to_excel(writer, sheet_name=\"Monocyte\")\n",
    "writer.save()"
   ]
  },
  {
   "cell_type": "code",
   "execution_count": null,
   "metadata": {},
   "outputs": [],
   "source": [
    "writer = pd.ExcelWriter(\"/home/alirassolie/Documents/arbete/mint_mobile/finalreview/Supplement_10_Figure_3_boxplot_inner_290922.xlsx\", engine=\"xlsxwriter\")\n",
    "pd.concat([endo_df, myo_df, lymph_df, mes_df, peri_df, mono_df]).to_excel(writer, sheet_name=\"Figure_3_violin\")\n",
    "writer.save()"
   ]
  },
  {
   "cell_type": "code",
   "execution_count": null,
   "metadata": {},
   "outputs": [],
   "source": [
    "pre_colors = [\n",
    "    \"\"\n",
    "]"
   ]
  },
  {
   "cell_type": "markdown",
   "metadata": {},
   "source": [
    "# UMAP with celltype"
   ]
  },
  {
   "cell_type": "code",
   "execution_count": null,
   "metadata": {},
   "outputs": [],
   "source": [
    "prefix = \"~/Documents/manuscript/datasets/paper/figures/figure_1\""
   ]
  },
  {
   "cell_type": "code",
   "execution_count": null,
   "metadata": {},
   "outputs": [],
   "source": [
    "data = pd.read_csv(f\"{prefix}/020720_adata_metadata_dpt.csv\")"
   ]
  },
  {
   "cell_type": "code",
   "execution_count": null,
   "metadata": {},
   "outputs": [],
   "source": [
    "for i in data.annotations.unique(): print(i)"
   ]
  },
  {
   "cell_type": "code",
   "execution_count": null,
   "metadata": {},
   "outputs": [],
   "source": [
    "data[\"celltype\"] = np.nan"
   ]
  },
  {
   "cell_type": "code",
   "execution_count": null,
   "metadata": {},
   "outputs": [],
   "source": [
    "celltypes = {\n",
    "    \"Endothelial Cells\": [\"Endo\", \"Bad\"],\n",
    "    \"Lymphocyte Cells\": [\"T-cells 13\", \"T-cells 15\"],\n",
    "    \"Pericyte\": [\"Pericyte 5\", \"Pericyte 18\"],\n",
    "    \"Mesenchymal Cells\": [\"Mesenchymal merged\", \"Mesenchymal cell 11\", \"CD16\"],\n",
    "    \"Myoblast Cells\": [\"Myoblast 12\", \"Myoblast 3\", \"Satellite cell\"],\n",
    "    \"Monocyte Cells\": [\"CD14+\"],\n",
    "    \"remove\": [\"Myoblast 19\", \"Remove this cluster\"],\n",
    "}"
   ]
  },
  {
   "cell_type": "code",
   "execution_count": null,
   "metadata": {},
   "outputs": [],
   "source": [
    "for key in celltypes:\n",
    "    for el in celltypes[key]:\n",
    "        data.celltype[data.annotations.str.contains(el)] = key"
   ]
  },
  {
   "cell_type": "code",
   "execution_count": null,
   "metadata": {},
   "outputs": [],
   "source": [
    "plt.rcParams['figure.figsize'] = (15,15)\n",
    "fig, ax = plt.subplots(ncols=1)\n",
    "\n",
    "# sns.scatterplot(data.x_um, data.y_um)\n",
    "sns.scatterplot(data.x_um, data.y_um, s=24, color='black', edgecolors=None, linewidth=0, ax=ax)\n",
    "\n",
    "#sns.scatterplot(data.x_um, data.y_um, s=7, color='lightgrey', linewidth=0, ax=ax)\n",
    "t = sns.scatterplot(data.x_um, data.y_um, s=5, linewidth=0, hue=data['celltype'], ax=ax, palette='tab10')\n",
    "sns.despine(left=True, bottom=True, ax=ax)"
   ]
  },
  {
   "cell_type": "markdown",
   "metadata": {},
   "source": [
    "#### Removing the cells we do not want"
   ]
  },
  {
   "cell_type": "code",
   "execution_count": null,
   "metadata": {},
   "outputs": [],
   "source": [
    "fig1_outpref = \"/home/ali/Documents/prwork/bioinfo/data/manuscript/datasets/paper/figures/figure_1/FIGURE_1_EPS\"\n",
    "fig1_outpref = \"/home/ali/Documents/prwork/bioinfo/data/manuscript/datasets/paper/figures/figure_1/FIGURE_1_EPS\""
   ]
  },
  {
   "cell_type": "code",
   "execution_count": null,
   "metadata": {},
   "outputs": [],
   "source": [
    "filtered_data = data[~data.celltype.str.contains(\"(?i)remove\")]"
   ]
  },
  {
   "cell_type": "code",
   "execution_count": null,
   "metadata": {
    "scrolled": false
   },
   "outputs": [],
   "source": [
    "plt.rcParams['figure.figsize'] = (15,15)\n",
    "fig, ax = plt.subplots(ncols=1)\n",
    "\n",
    "# sns.scatterplot(filtered_data.x_um, filtered_data.y_um)\n",
    "sns.scatterplot(filtered_data.x_um, filtered_data.y_um, s=24, color='black', edgecolors=None, linewidth=0, ax=ax)\n",
    "\n",
    "#sns.scatterplot(filtered_data.x_um, filtered_data.y_um, s=7, color='lightgrey', linewidth=0, ax=ax)\n",
    "t = sns.scatterplot(filtered_data.x_um, filtered_data.y_um, s=5, linewidth=0, hue=filtered_data['celltype'], ax=ax, palette='tab10')\n",
    "sns.despine(left=True, bottom=True, ax=ax)\n",
    "\n",
    "plt.savefig(f\"{fig1_outpref}/080521_filtered_deep_umap.eps\")"
   ]
  },
  {
   "cell_type": "code",
   "execution_count": null,
   "metadata": {},
   "outputs": [],
   "source": [
    "filtered_data.to_csv(f\"{fig1_outpref}/080521_filtered_dataset.csv\")"
   ]
  },
  {
   "cell_type": "markdown",
   "metadata": {},
   "source": [
    "# Ontologies"
   ]
  },
  {
   "cell_type": "code",
   "execution_count": null,
   "metadata": {},
   "outputs": [],
   "source": [
    "import pandas as pd\n",
    "import numpy as np\n",
    "import matplotlib.pyplot as plt\n",
    "import seaborn as sns\n",
    "from collections import OrderedDict\n",
    "from scipy.cluster.hierarchy import dendrogram, linkage"
   ]
  },
  {
   "cell_type": "code",
   "execution_count": null,
   "metadata": {},
   "outputs": [],
   "source": [
    "import warnings\n",
    "warnings.filterwarnings('ignore')"
   ]
  },
  {
   "cell_type": "code",
   "execution_count": null,
   "metadata": {},
   "outputs": [],
   "source": [
    "# File from 240720\n",
    "# goExEffect = pd.read_csv(\"/home/alirassolie/Documents/misc/goTerms_EF_custom_bck.csv\")\n",
    "goExEffect = pd.read_csv(\"/home/alirassolie/Documents/prwork/klinfys/data/go_terms_exercise_effect.csv\")"
   ]
  },
  {
   "cell_type": "code",
   "execution_count": null,
   "metadata": {
    "scrolled": true
   },
   "outputs": [],
   "source": [
    "goExEffect"
   ]
  },
  {
   "cell_type": "code",
   "execution_count": null,
   "metadata": {},
   "outputs": [],
   "source": [
    "onto = goExEffect.pivot(index = \"GO.clusterP\", columns=\"Cell.type\")[\"GO.qval\"].fillna(0.0)\n",
    "onto"
   ]
  },
  {
   "cell_type": "code",
   "execution_count": null,
   "metadata": {},
   "outputs": [],
   "source": [
    "ontDict = {\n",
    "    \"Pericyte_5\":[\n",
    "        \" GO_WOUND_HEALING\",\n",
    "        \" GO_CONNECTIVE_TISSUE_DEVELOPMENT\"\n",
    "        # \" GO_BIOLOGICAL_ADHESION\", #\n",
    "    ],\n",
    "    \"Endothelial_2\":[\n",
    "        \" GO_CELL_CYCLE_G2_M_PHASE_TRANSITION\",\n",
    "        \" GO_ENERGY_RESERVE_METABOLIC_PROCESS\",\n",
    "    ],\n",
    "    \"T-cells_13\":[\n",
    "        #\" GO_CELLULAR_CATABOLIC_PROCESS\",#\n",
    "        \" GO_NUCLEAR_TRANSCRIBED_MRNA_CATABOLIC_PROCESS_NONSENSE_MEDIATED_DECAY\" #\n",
    "    ],\n",
    "    \"Mesenchymal_merged\":[\n",
    "        \" GO_REGENERATION\",\n",
    "        \" GO_IMMUNE_RESPONSE_REGULATING_CELL_SURFACE_RECEPTOR_SIGNALING_PATHWAY\",\n",
    "    ],\n",
    "    \"Endothelial_Cell_0\":[\n",
    "        \" GO_TISSUE_REGENERATION\",\n",
    "        \" GO_CYTOSKELETON_ORGANIZATION\" # \n",
    "    ],\n",
    "    \"Myoblast_12\":[\n",
    "        \" GO_ACTIN_MYOSIN_FILAMENT_SLIDING\",\n",
    "        \" GO_MUSCLE_SYSTEM_PROCESS\"\n",
    "    ],\n",
    "    \"Myoblast_3\":[\n",
    "        \" GO_MUSCLE_SYSTEM_PROCESS\",\n",
    "        \" GO_SKELETAL_MUSCLE_CONTRACTION\"\n",
    "    ],\n",
    "    \"Satellite_cell\":[\n",
    "        #\" GO_REGENERATION\", # \n",
    "        \" GO_NEGATIVE_REGULATION_OF_CELL_DEATH\",   \n",
    "    ],\n",
    "    \"CD14+_Monocyte\":[\n",
    "        \" GO_CELLULAR_AMIDE_METABOLIC_PROCESS\", # \n",
    "        \" GO_ORGANONITROGEN_COMPOUND_BIOSYNTHETIC_PROCESS\" #\n",
    "    ]\n",
    "\n",
    "}"
   ]
  },
  {
   "cell_type": "code",
   "execution_count": null,
   "metadata": {},
   "outputs": [],
   "source": [
    "ontList = [i for k in ontDict.values() for i in k]"
   ]
  },
  {
   "cell_type": "code",
   "execution_count": null,
   "metadata": {},
   "outputs": [],
   "source": [
    "ontListFiltered = set(ontList) & set(onto.index)"
   ]
  },
  {
   "cell_type": "code",
   "execution_count": null,
   "metadata": {},
   "outputs": [],
   "source": [
    "sns.heatmap(onto[onto.index.isin(ontList)].T, cmap=\"hot\", square=True)"
   ]
  },
  {
   "cell_type": "code",
   "execution_count": null,
   "metadata": {
    "scrolled": false
   },
   "outputs": [],
   "source": [
    "ontoFilteredDF = onto[onto.index.isin(ontListFiltered)]\n",
    "ontoFilteredDF\n",
    "ontoFilteredDF.to_csv(\"/home/alirassolie/Documents/prwork/klinfys/data/review_fig_3_dotplot_qvals.csv\")"
   ]
  },
  {
   "cell_type": "code",
   "execution_count": null,
   "metadata": {},
   "outputs": [],
   "source": [
    "ontoFilteredDF = ontoFilteredDF.loc[:, reversed([\"Pericyte 5\", \"Endothelial 2\", \"Endothelial Cell 0\", \"Mesenchymal merged\", \"Satellite cell\", \"Myoblast 12\", \"Myoblast 3\", \"T-cells 15\", \"CD14+ Monocyte\"])]"
   ]
  },
  {
   "cell_type": "code",
   "execution_count": null,
   "metadata": {},
   "outputs": [],
   "source": [
    "subclusterPalette = {\n",
    "    \"CD14+ Monocyte\": \"#8c564b\", \n",
    "    \"T-cells 15\": \"#ff7f0e\", \n",
    "    \"Myoblast 3\": \"#9467bd\", \n",
    "    \"Myoblast 12\": \"#9467bd\", \n",
    "    \"Satellite cell\": \"#9467bd\", \n",
    "    \"Mesenchymal merged\": \"#d62728\", \n",
    "    # \"Mesenchymal_cell_11\": \"#d62728\", \n",
    "    \"Pericyte 5\": \"#2ca02c\", \n",
    "    \"Endothelial Cell 0\": \"#1f77b4\", \n",
    "    \"Endothelial 2\": \"#1f77b4\"\n",
    "}"
   ]
  },
  {
   "cell_type": "code",
   "execution_count": null,
   "metadata": {},
   "outputs": [],
   "source": [
    "def dotplot(df, scale=10, color=None):\n",
    "    #gs_kw = dict(width_ratios=[4, 1], height_ratios=[4,1])\n",
    "    plt.rcParams[\"figure.dpi\"] = 90\n",
    "    if color == None: color=\"lightblue\"\n",
    "    fig, ax = plt.subplots(ncols=1, nrows=1) #, gridspec_kw=gs_kw)\n",
    "    # axs = axs.flatten()\n",
    "    # ax = axs[0]\n",
    "\n",
    "    for c in df.columns:\n",
    "        tmp = -np.log(df.loc[:, c])*scale\n",
    "        tmp[tmp == np.inf] = 0\n",
    "        \n",
    "        # print(df)\n",
    "        plt.scatter(\n",
    "            y=np.full(len(df.index), c),\n",
    "            x=df.index,\n",
    "            s=(tmp == 0).astype(int)*1,\n",
    "            marker=\"1\",\n",
    "            color=\"black\"\n",
    "        )\n",
    "        plt.scatter(\n",
    "            y=np.full(len(df.index), c),\n",
    "            x=df.index,\n",
    "            s=np.log(tmp)*5,\n",
    "            color=\"black\",\n",
    "            #fontweight=1\n",
    "        )\n",
    "        plt.scatter(\n",
    "            y=np.full(len(df.index), c),\n",
    "            x=df.index,\n",
    "            s=tmp,\n",
    "            color=color[c]\n",
    "        )\n",
    "\n",
    "    plt.xticks(rotation=90)\n",
    "    # plt.savefig(\"/home/alirassolie/Documents/misc/dotplot.pdf\")"
   ]
  },
  {
   "cell_type": "code",
   "execution_count": null,
   "metadata": {},
   "outputs": [],
   "source": [
    "# By ontology, index\n",
    "linked = linkage(ontoFilteredDF, optimal_ordering=True)\n",
    "a = dendrogram(linked)\n",
    "ind_y = [int(i) for i in a['ivl']]\n",
    "\n",
    "plt.show()"
   ]
  },
  {
   "cell_type": "code",
   "execution_count": null,
   "metadata": {
    "scrolled": false
   },
   "outputs": [],
   "source": [
    "dotplot(ontoFilteredDF.iloc[[i for i in reversed(ind_y)]], scale=3, color=subclusterPalette)"
   ]
  },
  {
   "cell_type": "markdown",
   "metadata": {},
   "source": [
    "# Ligand Receptor analysis"
   ]
  },
  {
   "cell_type": "code",
   "execution_count": null,
   "metadata": {},
   "outputs": [],
   "source": [
    "import pandas as pd"
   ]
  },
  {
   "cell_type": "code",
   "execution_count": null,
   "metadata": {},
   "outputs": [],
   "source": [
    "LRdf = pd.read_csv(\"/home/alirassolie/Documents/misc/human_lr_pair.txt\", delimiter=\"\\t\")"
   ]
  },
  {
   "cell_type": "code",
   "execution_count": null,
   "metadata": {},
   "outputs": [],
   "source": [
    "LRdf"
   ]
  },
  {
   "cell_type": "code",
   "execution_count": null,
   "metadata": {},
   "outputs": [],
   "source": [
    "diffxp = pd.ExcelFile(\"/home/alirassolie/Documents/misc/100521_prevpost_rankwilcox.xlsx\")"
   ]
  },
  {
   "cell_type": "code",
   "execution_count": null,
   "metadata": {},
   "outputs": [],
   "source": [
    "help(diffxp.parse)"
   ]
  },
  {
   "cell_type": "code",
   "execution_count": null,
   "metadata": {},
   "outputs": [],
   "source": [
    "endo_df = diffxp.parse(\"Endothelial Cells\", header=0, skiprows=1, index_col=\"Unnamed: 0\")\n",
    "endo_df = endo_df[endo_df.scores.notnull()]"
   ]
  },
  {
   "cell_type": "code",
   "execution_count": null,
   "metadata": {},
   "outputs": [],
   "source": [
    "endo_df = endo_df[(endo_df.scores > 0) & (endo_df.pvals_adj <= 0.05)]"
   ]
  },
  {
   "cell_type": "code",
   "execution_count": null,
   "metadata": {
    "scrolled": true
   },
   "outputs": [],
   "source": [
    "set(endo_df.index) & set(LRdf.ligand_gene_symbol)"
   ]
  },
  {
   "cell_type": "code",
   "execution_count": null,
   "metadata": {},
   "outputs": [],
   "source": [
    "list(LRdf[LRdf.ligand_gene_symbol == \"COL4A1\"].receptor_gene_symbol)"
   ]
  },
  {
   "cell_type": "code",
   "execution_count": null,
   "metadata": {},
   "outputs": [],
   "source": [
    "def identify_receptors(excel):\n",
    "    sheetnames = excel.sheet_names\n",
    "    receptors = {}\n",
    "    for name in sheetnames:\n",
    "        df = diffxp.parse(name, header=0, skiprows=1, index_col=\"Unnamed: 0\")\n",
    "        df = df[df.scores.notnull()]\n",
    "        df = df[(df.scores > 0) & (df.pvals_adj <= 0.05)]\n",
    "        receptors[name] = list(set(df.index) & set(LRdf.receptor_gene_symbol))\n",
    "    \n",
    "    return receptors\n",
    "    \n",
    "    "
   ]
  },
  {
   "cell_type": "code",
   "execution_count": null,
   "metadata": {},
   "outputs": [],
   "source": [
    "receptorDict = identify_receptors(diffxp)"
   ]
  },
  {
   "cell_type": "code",
   "execution_count": null,
   "metadata": {
    "scrolled": true
   },
   "outputs": [],
   "source": [
    "receptorDict"
   ]
  },
  {
   "cell_type": "code",
   "execution_count": null,
   "metadata": {},
   "outputs": [],
   "source": [
    "def identify_ligands(excel):\n",
    "    sheetnames = excel.sheet_names\n",
    "    ligandsDict = {}\n",
    "    for name in sheetnames:\n",
    "        df = diffxp.parse(name, header=0, skiprows=1, index_col=\"Unnamed: 0\")\n",
    "        df = df[df.scores.notnull()]\n",
    "        df = df[(df.scores > 0) & (df.pvals_adj <= 0.05)]\n",
    "        ligandsDict[name] = list(set(df.index) & set(LRdf.ligand_gene_symbol))\n",
    "    \n",
    "    return ligandsDict\n",
    "        "
   ]
  },
  {
   "cell_type": "code",
   "execution_count": null,
   "metadata": {},
   "outputs": [],
   "source": [
    "ligandsDict = identify_ligands(diffxp)"
   ]
  },
  {
   "cell_type": "code",
   "execution_count": null,
   "metadata": {
    "scrolled": true
   },
   "outputs": [],
   "source": [
    "ligandsDict"
   ]
  },
  {
   "cell_type": "code",
   "execution_count": null,
   "metadata": {},
   "outputs": [],
   "source": [
    "def identify_LR_pair(ligands, receptors, LRdf):\n",
    "    out = {}\n",
    "    for ligand_key in ligands.keys():\n",
    "        out[ligand_key] = list()\n",
    "        for i in range(len(ligands[ligand_key])):\n",
    "            r = LRdf[LRdf.ligand_gene_symbol == ligands[ligand_key][i]].receptor_gene_symbol.values\n",
    "            for rec in r:\n",
    "                for receptor_key in receptors.keys():\n",
    "                    if rec in receptors[receptor_key]: \n",
    "                        out[ligand_key].append(set((ligands[ligand_key][i], (receptor_key, rec))))\n",
    "    \n",
    "    return out\n",
    "            \n",
    "            \n",
    "            \n",
    "        "
   ]
  },
  {
   "cell_type": "code",
   "execution_count": null,
   "metadata": {},
   "outputs": [],
   "source": [
    "LRdf[LRdf.ligand_gene_symbol == ligandsDict[\"Endothelial Cells\"][0]].receptor_gene_symbol.values"
   ]
  },
  {
   "cell_type": "code",
   "execution_count": null,
   "metadata": {},
   "outputs": [],
   "source": [
    "o = set()"
   ]
  },
  {
   "cell_type": "code",
   "execution_count": null,
   "metadata": {},
   "outputs": [],
   "source": [
    "identify_LR_pair(ligandsDict, receptorDict, LRdf)"
   ]
  },
  {
   "cell_type": "code",
   "execution_count": null,
   "metadata": {},
   "outputs": [],
   "source": [
    "LRdf[LRdf.lr_pair.str.contains('LGALS1')]"
   ]
  },
  {
   "cell_type": "markdown",
   "metadata": {},
   "source": [
    "# Background "
   ]
  },
  {
   "cell_type": "code",
   "execution_count": null,
   "metadata": {},
   "outputs": [],
   "source": [
    "data.obs.columns"
   ]
  },
  {
   "cell_type": "code",
   "execution_count": null,
   "metadata": {},
   "outputs": [],
   "source": [
    "counts = {}\n",
    "for i, cl in enumerate(data.obs.celltype.cat.categories):\n",
    "    print(cl)\n",
    "    tmp = data[data.obs.celltype == cl]\n",
    "    counts[cl] = np.count_nonzero(tmp.raw[:, tmp.var_names].X.toarray(), axis=0)\n",
    "    if i>0: \n",
    "        assert np.array_equal(tmp.var_names,genes)\n",
    "        print('True')\n",
    "    genes = tmp.var_names\n",
    "\n",
    "bg = pd.DataFrame(columns = genes)\n",
    "for k in counts.keys():\n",
    "    bg.loc[k, :] = counts[k]\n",
    "\n",
    "bg = bg.T"
   ]
  },
  {
   "cell_type": "code",
   "execution_count": null,
   "metadata": {},
   "outputs": [],
   "source": [
    "bg"
   ]
  },
  {
   "cell_type": "code",
   "execution_count": null,
   "metadata": {},
   "outputs": [],
   "source": [
    "data.obs"
   ]
  }
 ],
 "metadata": {
  "kernelspec": {
   "display_name": "Python 3 (ipykernel)",
   "language": "python",
   "name": "python3"
  },
  "language_info": {
   "codemirror_mode": {
    "name": "ipython",
    "version": 3
   },
   "file_extension": ".py",
   "mimetype": "text/x-python",
   "name": "python",
   "nbconvert_exporter": "python",
   "pygments_lexer": "ipython3",
   "version": "3.7.0"
  }
 },
 "nbformat": 4,
 "nbformat_minor": 4
}
